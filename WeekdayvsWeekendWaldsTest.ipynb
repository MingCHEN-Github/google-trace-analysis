{
 "cells": [
  {
   "cell_type": "code",
   "execution_count": 2,
   "metadata": {
    "collapsed": true
   },
   "outputs": [],
   "source": [
    "import pandas as pd\n",
    "import numpy as np\n",
    "import os\n",
    "import pickle as pkl\n",
    "import h5py\n",
    "import datetime\n",
    "from datetime import timedelta\n",
    "import matplotlib.pyplot as plt"
   ]
  },
  {
   "cell_type": "code",
   "execution_count": 3,
   "metadata": {
    "collapsed": true
   },
   "outputs": [],
   "source": [
    "import math\n",
    "def walds_test(L1,L2,mu1,mu2):\n",
    "    # print mu1,mu2\n",
    "    var1 = 0\n",
    "    for v in L1:\n",
    "        var1+=(v-mu1)*(v-mu1)\n",
    "    var1=var1/float(len(L1))\n",
    "\n",
    "    var2 = 0\n",
    "    for v1 in L2:\n",
    "        var2 += (v1 - mu2) * (v1 - mu2)\n",
    "    var2 = var2 / float(len(L2))\n",
    "\n",
    "    var = (var1/float(len(L1))) + (var2/float(len(L2)))\n",
    "\n",
    "    var = math.sqrt(var)\n",
    "\n",
    "    ans = (mu1-mu2) / float(var)\n",
    "#     print \"num\",(mu1-mu2)\n",
    "#     print \"denom\",var\n",
    "    print(\"W value\",ans)"
   ]
  },
  {
   "cell_type": "code",
   "execution_count": 90,
   "metadata": {},
   "outputs": [
    {
     "data": {
      "text/plain": [
       "1"
      ]
     },
     "execution_count": 90,
     "metadata": {},
     "output_type": "execute_result"
    }
   ],
   "source": [
    "def isWeekend(timestamp):\n",
    "    # Start time is May 1 2011 (19:00 EDT). It is a Sunday\n",
    "#     print d.year, d.month, d.day, d.hour, d.second\n",
    "    start_date = datetime.datetime(2011, 5, 1, 19, 0)\n",
    "    datee = start_date + timedelta(microseconds = timestamp)\n",
    "    day = datee.weekday()\n",
    "    if day == 5 or day ==6:\n",
    "        return 1\n",
    "    return 0\n",
    "\n",
    "isWeekend(515042954)"
   ]
  },
  {
   "cell_type": "code",
   "execution_count": 91,
   "metadata": {
    "collapsed": true
   },
   "outputs": [],
   "source": [
    "def myFunction(df):\n",
    "    job_ids = df['job_id'].unique()\n",
    "    output_df_weekday = pd.DataFrame(columns=[\"job_id\",\"task_index\",\"mean_cpu_usage\",\"mean_io\"])\n",
    "    output_df_weekend = pd.DataFrame(columns=[\"job_id\",\"task_index\",\"mean_cpu_usage\",\"mean_io\"])\n",
    "#     print len(job_ids)\n",
    "    for job_id in job_ids:\n",
    "        small_df = df[df['job_id'] == job_id]\n",
    "        if not small_df.empty:\n",
    "            task_indexes = small_df['task_index'].unique()\n",
    "            for task_index in task_indexes:\n",
    "                smallest_df = small_df[small_df['task_index'] == task_index]\n",
    "                if not (smallest_df.empty):\n",
    "                    row = smallest_df.iloc[0]\n",
    "                    job_idd = row.job_id\n",
    "                    task_indexx = row.task_index\n",
    "                    mean_cpu_usagee = row.mean_cpu_usage\n",
    "                    mean_ioo = row.mean_io\n",
    "                    timee = row.end_time \n",
    "                    output_data = pd.DataFrame(columns=[\"job_id\",\"task_index\",\"mean_cpu_usage\",\"mean_io\"],data=[[job_idd,task_indexx,mean_cpu_usagee,mean_ioo]])\n",
    "                    if not isWeekend(timee):\n",
    "                        output_df_weekday = output_df_weekday.append(output_data)\n",
    "#                         print \"hi\"\n",
    "                    else:\n",
    "                        output_df_weekend = output_df_weekend.append(output_data)\n",
    "                    break\n",
    "    return output_df_weekday,output_df_weekend"
   ]
  },
  {
   "cell_type": "code",
   "execution_count": 4,
   "metadata": {
    "collapsed": true
   },
   "outputs": [],
   "source": [
    "data_dir = \"./data/task_usage/\"\n",
    "\n",
    "task_usage_header = ['start_time','end_time','job_id','task_index','machine_id', 'mean_cpu_usage',\n",
    "                     'canon_memory_usage', 'assign_memory_usage', 'unmapped_cache', 'total_cache', \n",
    "                     'max_mem', 'mean_io', 'mean_space', 'max_cpu', 'max_io', 'cpi', 'mai', 'sample',\n",
    "                     'agg_type', 'sample_cpu_usage']"
   ]
  },
  {
   "cell_type": "code",
   "execution_count": null,
   "metadata": {
    "collapsed": true
   },
   "outputs": [],
   "source": [
    "# output_dataframe_weekday = pd.DataFrame()\n",
    "# output_dataframe_weekend = pd.DataFrame()\n",
    "# i_list=[0,1,2,3,10,25,345,200,260,300,367,234,127,78,467,499]\n",
    "# for i in range(250):\n",
    "#     file_str = str(i).zfill(5) \n",
    "#     print file_str\n",
    "#     df = pd.read_csv(data_dir+\"part-\"+file_str+\"-of-00500.csv.gz\",header=None)\n",
    "#     df.columns = task_usage_header\n",
    "#     weekday_df,weekend_df = myFunction(df)\n",
    "#     output_dataframe_weekday = output_dataframe_weekday.append(weekday_df)\n",
    "#     output_dataframe_weekend = output_dataframe_weekend.append(weekend_df)\n",
    "#     output_data_dir1 = \"./data/task_usage_input_weekdays/part-\"+file_str+\"-of-00500.csv\"\n",
    "#     output_data_dir2 = \"./data/task_usage_input_weekend/part-\"+file_str+\"-of-00500.csv\"\n",
    "#     weekday_df.to_csv(output_data_dir1, sep='\\t')\n",
    "#     weekend_df.to_csv(output_data_dir2, sep='\\t')\n",
    "# #     break\n",
    "\n",
    "task_usage_header = ['dummy','job_id','task_index', 'mean_cpu_usage','mean_io']\n",
    "data_dir = \"./data/task_usage_input_weekdays/\"\n",
    "output_dataframe_weekday = pd.DataFrame()\n",
    "output_dataframe_weekend = pd.DataFrame()\n",
    "for i in range(250):\n",
    "    file_str = str(i).zfill(5) \n",
    "    print file_str\n",
    "    df = pd.read_csv(data_dir+\"part-\"+file_str+\"-of-00500.csv\",delimiter='\\t')\n",
    "    df.columns = task_usage_header\n",
    "#     print df\n",
    "#     break\n",
    "    if not df.empty:\n",
    "        output_dataframe_weekday = output_dataframe_weekday.append(df)\n",
    "#     output_dataframe_weekend = output_dataframe_weekend.append(weekend_df)\n",
    "#     output_data_dir1 = \"./data/task_usage_input_weekdays/part-\"+file_str+\"-of-00500.csv\"\n",
    "#     output_data_dir2 = \"./data/task_usage_input_weekend/part-\"+file_str+\"-of-00500.csv\"\n",
    "#     weekday_df.to_csv(output_data_dir1, sep='\\t')\n",
    "#     weekend_df.to_csv(output_data_dir2, sep='\\t')\n",
    "#     break\n",
    "\n",
    "data_dir = \"./data/task_usage_input_weekend/\"\n",
    "\n",
    "for i in range(250):\n",
    "    file_str = str(i).zfill(5) \n",
    "    print file_str\n",
    "    df = pd.read_csv(data_dir+\"part-\"+file_str+\"-of-00500.csv\",delimiter='\\t')\n",
    "    df.columns = task_usage_header\n",
    "#     print df\n",
    "#     break\n",
    "    if not df.empty:\n",
    "        output_dataframe_weekend = output_dataframe_weekend.append(df)\n",
    "#     output_dataframe_weekend = output_dataframe_weekend.append(weekend_df)\n",
    "#     output_data_dir1 = \"./data/task_usage_input_weekdays/part-\"+file_str+\"-of-00500.csv\"\n",
    "#     output_data_dir2 = \"./data/task_usage_input_weekend/part-\"+file_str+\"-of-00500.csv\"\n",
    "#     weekday_df.to_csv(output_data_dir1, sep='\\t')\n",
    "#     weekend_df.to_csv(output_data_dir2, sep='\\t')\n",
    "#     break"
   ]
  },
  {
   "cell_type": "code",
   "execution_count": null,
   "metadata": {
    "collapsed": true
   },
   "outputs": [],
   "source": [
    "output_dataframe_weekend.drop(output_dataframe_weekend.columns[[0]], axis=1,inplace=True)\n",
    "output_dataframe_weekday.drop(output_dataframe_weekday.columns[[0]], axis=1,inplace=True)\n",
    "\n",
    "print output_dataframe_weekend\n",
    "print output_dataframe_weekday"
   ]
  },
  {
   "cell_type": "code",
   "execution_count": 18,
   "metadata": {},
   "outputs": [
    {
     "name": "stdout",
     "output_type": "stream",
     "text": [
      "0.000709066269511\n",
      "0.000744220790055\n"
     ]
    }
   ],
   "source": [
    "print output_dataframe_weekend['mean_io'].mean()\n",
    "print output_dataframe_weekday['mean_io'].mean()"
   ]
  },
  {
   "cell_type": "code",
   "execution_count": 21,
   "metadata": {
    "collapsed": true
   },
   "outputs": [],
   "source": [
    "output_dataframe_weekend.dropna(axis=0,inplace=True)\n",
    "output_dataframe_weekday.dropna(axis=0,inplace=True)"
   ]
  },
  {
   "cell_type": "code",
   "execution_count": null,
   "metadata": {
    "collapsed": true
   },
   "outputs": [],
   "source": [
    "output_dataframe_weekday[output_dataframe_weekday['mean_cpu_usage'] != 0]"
   ]
  },
  {
   "cell_type": "code",
   "execution_count": 25,
   "metadata": {},
   "outputs": [
    {
     "name": "stdout",
     "output_type": "stream",
     "text": [
      "('W value', 4.806543531871005)\n",
      "('W value', 0.6901256801402119)\n"
     ]
    }
   ],
   "source": [
    "# Walds test for mean_cpu_usage and mean io\n",
    "walds_test(output_dataframe_weekday['mean_io'].tolist(),output_dataframe_weekend['mean_io'].tolist(),output_dataframe_weekday['mean_io'].mean(),output_dataframe_weekend['mean_io'].mean())\n",
    "walds_test(output_dataframe_weekday['mean_cpu_usage'].tolist(),output_dataframe_weekend['mean_cpu_usage'].tolist(),output_dataframe_weekday['mean_cpu_usage'].mean(),output_dataframe_weekend['mean_cpu_usage'].mean())"
   ]
  },
  {
   "cell_type": "code",
   "execution_count": null,
   "metadata": {
    "collapsed": true
   },
   "outputs": [],
   "source": [
    "output_dataframe_weekday[output_dataframe_weekday['mean_cpu_usage'] != 0]"
   ]
  },
  {
   "cell_type": "code",
   "execution_count": null,
   "metadata": {
    "collapsed": true
   },
   "outputs": [],
   "source": [
    "output_dataframe_weekend = output_dataframe_weekend[output_dataframe_weekend['mean_cpu_usage'] != 0]\n",
    "output_dataframe_weekend.dropna(axis=0,inplace=True)\n",
    "mean_id_list = output_dataframe_weekend['mean_cpu_usage'].tolist()\n",
    "plt.plot([x for x in range(len(mean_id_list))],mean_id_list)\n",
    "plt.show()"
   ]
  },
  {
   "cell_type": "code",
   "execution_count": null,
   "metadata": {
    "collapsed": true
   },
   "outputs": [],
   "source": [
    "output_dataframe_weekday = output_dataframe_weekday[output_dataframe_weekday['mean_cpu_usage'] != 0]\n",
    "# output_dataframe_weekday.dropna(axis=0,inplace=True)\n",
    "output_dataframe_weekday"
   ]
  },
  {
   "cell_type": "code",
   "execution_count": null,
   "metadata": {
    "collapsed": true
   },
   "outputs": [],
   "source": [
    "grouped_weekend_data = output_dataframe_weekend.groupby(['job_id']).mean()\n",
    "grouped_weekday_data = output_dataframe_weekday.groupby(['job_id']).mean()\n",
    "mean_id_list = dummy['mean_cpu_usage'].tolist()\n",
    "plt.plot([x for x in range(len(mean_id_list))],mean_id_list)\n",
    "plt.show()"
   ]
  },
  {
   "cell_type": "code",
   "execution_count": null,
   "metadata": {
    "collapsed": true
   },
   "outputs": [],
   "source": [
    "# Walds test for mean_cpu_usage and mean io\n",
    "walds_test(grouped_weekend_data['mean_io'].tolist(),grouped_weekday_data['mean_io'].tolist(),grouped_weekend_data['mean_io'].mean(),grouped_weekday_data['mean_io'].mean())\n",
    "walds_test(grouped_weekday_data['mean_cpu_usage'].tolist(),grouped_weekend_data['mean_cpu_usage'].tolist(),grouped_weekday_data['mean_cpu_usage'].mean(),grouped_weekend_data['mean_cpu_usage'].mean())"
   ]
  },
  {
   "cell_type": "code",
   "execution_count": null,
   "metadata": {
    "collapsed": true
   },
   "outputs": [],
   "source": []
  }
 ],
 "metadata": {
  "kernelspec": {
   "display_name": "Python 2",
   "language": "python",
   "name": "python2"
  },
  "language_info": {
   "codemirror_mode": {
    "name": "ipython",
    "version": 2
   },
   "file_extension": ".py",
   "mimetype": "text/x-python",
   "name": "python",
   "nbconvert_exporter": "python",
   "pygments_lexer": "ipython2",
   "version": "2.7.14"
  }
 },
 "nbformat": 4,
 "nbformat_minor": 2
}
