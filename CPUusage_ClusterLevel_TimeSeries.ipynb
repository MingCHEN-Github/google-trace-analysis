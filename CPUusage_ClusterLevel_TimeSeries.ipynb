{
 "cells": [
  {
   "cell_type": "code",
   "execution_count": 52,
   "metadata": {},
   "outputs": [],
   "source": [
    "from scipy import integrate\n",
    "\n",
    "import pandas as pd\n",
    "import numpy as np\n",
    "import os\n",
    "import pickle as pkl\n",
    "import h5py\n",
    "import datetime\n",
    "from datetime import timedelta\n",
    "import matplotlib.pyplot as plt\n",
    "from tqdm import tqdm\n",
    "import matplotlib\n",
    "import numpy as np\n",
    "from sklearn.linear_model import LinearRegression\n",
    "import matplotlib.pyplot as plt"
   ]
  },
  {
   "cell_type": "code",
   "execution_count": 99,
   "metadata": {},
   "outputs": [
    {
     "name": "stdout",
     "output_type": "stream",
     "text": [
      "2011-05-02 09:05:58\n"
     ]
    },
    {
     "data": {
      "text/plain": "1"
     },
     "execution_count": 99,
     "metadata": {},
     "output_type": "execute_result"
    }
   ],
   "source": [
    "def calculateHourlyUsage(data):\n",
    "    cols = ['hour','no_of_jobs','machines', 'mean_cpu_usage']\n",
    "    result = pd.DataFrame(columns=cols)\n",
    "    print(\"started loading\")\n",
    "    for i in tqdm(range(30 * 24)):\n",
    "        range_min = i * 3600 * (10**6)\n",
    "        range_max = (i + 1) * 3600 * (10**6)\n",
    "        jobs_of_hour = data[(data['end_time'] >= range_min) & (data['end_time'] < range_max)]\n",
    "        no_of_jobs = len(jobs_of_hour['job_id'].unique())\n",
    "        avg_cpu = np.average(jobs_of_hour['mean_cpu_usage'])\n",
    "        machines = len(jobs_of_hour['machine_id'].unique())\n",
    "        output_data = pd.DataFrame(columns=cols,data=[[i,no_of_jobs,machines, avg_cpu]])\n",
    "        result = result.append(output_data)\n",
    "    return result\n",
    "def hour_to_day(hour_input):\n",
    "    start_date = datetime.datetime(2011, 5, 1, 19, 0)\n",
    "    datee = start_date + timedelta(microseconds = hour_input)\n",
    "    print (datee)\n",
    "    return datee.day - start_date.day\n",
    "hour_to_day(50758000000)\n"
   ]
  },
  {
   "cell_type": "code",
   "execution_count": 54,
   "metadata": {},
   "outputs": [],
   "source": [
    "#usage_dir = \"F:\\\\google-cluster2011\\\\task_usage\\\\\"\n",
    "#data_dir = \"./data/task_usage/\"\n",
    "data_dir = \"F:\\\\google-cluster2011\\\\task_usage\\\\\"\n",
    "\n",
    "task_usage_header = ['start_time','end_time','job_id','task_index','machine_id', 'mean_cpu_usage',\n",
    "                     'canon_memory_usage', 'assign_memory_usage', 'unmapped_cache', 'total_cache', \n",
    "                     'max_mem', 'mean_io', 'mean_space', 'max_cpu', 'max_io', 'cpi', 'mai', 'sample',\n",
    "                     'agg_type', 'sample_cpu_usage']"
   ]
  },
  {
   "cell_type": "code",
   "execution_count": 127,
   "metadata": {},
   "outputs": [
    {
     "name": "stderr",
     "output_type": "stream",
     "text": [
      "  0%|          | 0/100 [00:00<?, ?it/s]"
     ]
    },
    {
     "name": "stdout",
     "output_type": "stream",
     "text": [
      "00000\n"
     ]
    },
    {
     "name": "stderr",
     "output_type": "stream",
     "text": [
      "  1%|          | 1/100 [00:07<13:06,  7.95s/it]"
     ]
    },
    {
     "name": "stdout",
     "output_type": "stream",
     "text": [
      "00001\n"
     ]
    },
    {
     "name": "stderr",
     "output_type": "stream",
     "text": [
      "  2%|▏         | 2/100 [00:14<11:50,  7.25s/it]"
     ]
    },
    {
     "name": "stdout",
     "output_type": "stream",
     "text": [
      "00002\n"
     ]
    },
    {
     "name": "stderr",
     "output_type": "stream",
     "text": [
      "  3%|▎         | 3/100 [00:22<12:19,  7.63s/it]"
     ]
    },
    {
     "name": "stdout",
     "output_type": "stream",
     "text": [
      "00003\n"
     ]
    },
    {
     "name": "stderr",
     "output_type": "stream",
     "text": [
      "  4%|▍         | 4/100 [00:29<11:48,  7.39s/it]"
     ]
    },
    {
     "name": "stdout",
     "output_type": "stream",
     "text": [
      "00004\n"
     ]
    },
    {
     "name": "stderr",
     "output_type": "stream",
     "text": [
      "  5%|▌         | 5/100 [00:37<11:53,  7.51s/it]"
     ]
    },
    {
     "name": "stdout",
     "output_type": "stream",
     "text": [
      "00005\n"
     ]
    },
    {
     "name": "stderr",
     "output_type": "stream",
     "text": [
      "  6%|▌         | 6/100 [00:45<11:54,  7.60s/it]"
     ]
    },
    {
     "name": "stdout",
     "output_type": "stream",
     "text": [
      "00006\n"
     ]
    },
    {
     "name": "stderr",
     "output_type": "stream",
     "text": [
      "  7%|▋         | 7/100 [00:52<11:42,  7.56s/it]"
     ]
    },
    {
     "name": "stdout",
     "output_type": "stream",
     "text": [
      "00007\n"
     ]
    },
    {
     "name": "stderr",
     "output_type": "stream",
     "text": [
      "  8%|▊         | 8/100 [01:00<11:52,  7.74s/it]"
     ]
    },
    {
     "name": "stdout",
     "output_type": "stream",
     "text": [
      "00008\n"
     ]
    },
    {
     "name": "stderr",
     "output_type": "stream",
     "text": [
      "  9%|▉         | 9/100 [01:08<11:50,  7.80s/it]"
     ]
    },
    {
     "name": "stdout",
     "output_type": "stream",
     "text": [
      "00009\n"
     ]
    },
    {
     "name": "stderr",
     "output_type": "stream",
     "text": [
      " 10%|█         | 10/100 [01:17<12:12,  8.14s/it]"
     ]
    },
    {
     "name": "stdout",
     "output_type": "stream",
     "text": [
      "00010\n"
     ]
    },
    {
     "name": "stderr",
     "output_type": "stream",
     "text": [
      " 11%|█         | 11/100 [01:26<12:22,  8.34s/it]"
     ]
    },
    {
     "name": "stdout",
     "output_type": "stream",
     "text": [
      "00011\n"
     ]
    },
    {
     "name": "stderr",
     "output_type": "stream",
     "text": [
      " 12%|█▏        | 12/100 [01:34<11:58,  8.17s/it]"
     ]
    },
    {
     "name": "stdout",
     "output_type": "stream",
     "text": [
      "00012\n"
     ]
    },
    {
     "name": "stderr",
     "output_type": "stream",
     "text": [
      " 13%|█▎        | 13/100 [01:42<11:42,  8.07s/it]"
     ]
    },
    {
     "name": "stdout",
     "output_type": "stream",
     "text": [
      "00013\n"
     ]
    },
    {
     "name": "stderr",
     "output_type": "stream",
     "text": [
      " 14%|█▍        | 14/100 [01:49<11:16,  7.87s/it]"
     ]
    },
    {
     "name": "stdout",
     "output_type": "stream",
     "text": [
      "00014\n"
     ]
    },
    {
     "name": "stderr",
     "output_type": "stream",
     "text": [
      " 15%|█▌        | 15/100 [01:57<11:12,  7.92s/it]"
     ]
    },
    {
     "name": "stdout",
     "output_type": "stream",
     "text": [
      "00015\n"
     ]
    },
    {
     "name": "stderr",
     "output_type": "stream",
     "text": [
      " 16%|█▌        | 16/100 [02:05<11:09,  7.97s/it]"
     ]
    },
    {
     "name": "stdout",
     "output_type": "stream",
     "text": [
      "00016\n"
     ]
    },
    {
     "name": "stderr",
     "output_type": "stream",
     "text": [
      " 17%|█▋        | 17/100 [02:13<11:01,  7.97s/it]"
     ]
    },
    {
     "name": "stdout",
     "output_type": "stream",
     "text": [
      "00017\n"
     ]
    },
    {
     "name": "stderr",
     "output_type": "stream",
     "text": [
      " 18%|█▊        | 18/100 [02:22<11:26,  8.38s/it]"
     ]
    },
    {
     "name": "stdout",
     "output_type": "stream",
     "text": [
      "00018\n"
     ]
    },
    {
     "name": "stderr",
     "output_type": "stream",
     "text": [
      " 19%|█▉        | 19/100 [02:33<12:02,  8.91s/it]"
     ]
    },
    {
     "name": "stdout",
     "output_type": "stream",
     "text": [
      "00019\n"
     ]
    },
    {
     "name": "stderr",
     "output_type": "stream",
     "text": [
      " 20%|██        | 20/100 [02:47<14:02, 10.53s/it]"
     ]
    },
    {
     "name": "stdout",
     "output_type": "stream",
     "text": [
      "00020\n"
     ]
    },
    {
     "name": "stderr",
     "output_type": "stream",
     "text": [
      " 21%|██        | 21/100 [03:02<15:35, 11.84s/it]"
     ]
    },
    {
     "name": "stdout",
     "output_type": "stream",
     "text": [
      "00021\n"
     ]
    },
    {
     "name": "stderr",
     "output_type": "stream",
     "text": [
      " 22%|██▏       | 22/100 [03:16<16:23, 12.61s/it]"
     ]
    },
    {
     "name": "stdout",
     "output_type": "stream",
     "text": [
      "00022\n"
     ]
    },
    {
     "name": "stderr",
     "output_type": "stream",
     "text": [
      " 23%|██▎       | 23/100 [03:28<15:44, 12.27s/it]"
     ]
    },
    {
     "name": "stdout",
     "output_type": "stream",
     "text": [
      "00023\n"
     ]
    },
    {
     "name": "stderr",
     "output_type": "stream",
     "text": [
      " 24%|██▍       | 24/100 [03:36<13:52, 10.95s/it]"
     ]
    },
    {
     "name": "stdout",
     "output_type": "stream",
     "text": [
      "00024\n"
     ]
    },
    {
     "name": "stderr",
     "output_type": "stream",
     "text": [
      " 25%|██▌       | 25/100 [03:44<12:54, 10.33s/it]"
     ]
    },
    {
     "name": "stdout",
     "output_type": "stream",
     "text": [
      "00025\n"
     ]
    },
    {
     "name": "stderr",
     "output_type": "stream",
     "text": [
      " 26%|██▌       | 26/100 [03:52<11:50,  9.61s/it]"
     ]
    },
    {
     "name": "stdout",
     "output_type": "stream",
     "text": [
      "00026\n"
     ]
    },
    {
     "name": "stderr",
     "output_type": "stream",
     "text": [
      " 27%|██▋       | 27/100 [04:01<11:22,  9.35s/it]"
     ]
    },
    {
     "name": "stdout",
     "output_type": "stream",
     "text": [
      "00027\n"
     ]
    },
    {
     "name": "stderr",
     "output_type": "stream",
     "text": [
      " 28%|██▊       | 28/100 [04:09<10:45,  8.96s/it]"
     ]
    },
    {
     "name": "stdout",
     "output_type": "stream",
     "text": [
      "00028\n"
     ]
    },
    {
     "name": "stderr",
     "output_type": "stream",
     "text": [
      " 29%|██▉       | 29/100 [04:18<10:24,  8.80s/it]"
     ]
    },
    {
     "name": "stdout",
     "output_type": "stream",
     "text": [
      "00029\n"
     ]
    },
    {
     "name": "stderr",
     "output_type": "stream",
     "text": [
      " 30%|███       | 30/100 [04:25<09:56,  8.52s/it]"
     ]
    },
    {
     "name": "stdout",
     "output_type": "stream",
     "text": [
      "00030\n"
     ]
    },
    {
     "name": "stderr",
     "output_type": "stream",
     "text": [
      " 31%|███       | 31/100 [04:33<09:36,  8.35s/it]"
     ]
    },
    {
     "name": "stdout",
     "output_type": "stream",
     "text": [
      "00031\n"
     ]
    },
    {
     "name": "stderr",
     "output_type": "stream",
     "text": [
      " 32%|███▏      | 32/100 [04:42<09:24,  8.31s/it]"
     ]
    },
    {
     "name": "stdout",
     "output_type": "stream",
     "text": [
      "00032\n"
     ]
    },
    {
     "name": "stderr",
     "output_type": "stream",
     "text": [
      " 33%|███▎      | 33/100 [04:52<09:53,  8.86s/it]"
     ]
    },
    {
     "name": "stdout",
     "output_type": "stream",
     "text": [
      "00033\n"
     ]
    },
    {
     "name": "stderr",
     "output_type": "stream",
     "text": [
      " 34%|███▍      | 34/100 [05:00<09:30,  8.64s/it]"
     ]
    },
    {
     "name": "stdout",
     "output_type": "stream",
     "text": [
      "00034\n"
     ]
    },
    {
     "name": "stderr",
     "output_type": "stream",
     "text": [
      " 35%|███▌      | 35/100 [05:10<09:43,  8.98s/it]"
     ]
    },
    {
     "name": "stdout",
     "output_type": "stream",
     "text": [
      "00035\n"
     ]
    },
    {
     "name": "stderr",
     "output_type": "stream",
     "text": [
      " 36%|███▌      | 36/100 [05:20<09:55,  9.30s/it]"
     ]
    },
    {
     "name": "stdout",
     "output_type": "stream",
     "text": [
      "00036\n"
     ]
    },
    {
     "name": "stderr",
     "output_type": "stream",
     "text": [
      " 37%|███▋      | 37/100 [05:30<09:56,  9.46s/it]"
     ]
    },
    {
     "name": "stdout",
     "output_type": "stream",
     "text": [
      "00037\n"
     ]
    },
    {
     "name": "stderr",
     "output_type": "stream",
     "text": [
      " 38%|███▊      | 38/100 [05:39<09:53,  9.58s/it]"
     ]
    },
    {
     "name": "stdout",
     "output_type": "stream",
     "text": [
      "00038\n"
     ]
    },
    {
     "name": "stderr",
     "output_type": "stream",
     "text": [
      " 39%|███▉      | 39/100 [05:49<09:41,  9.53s/it]"
     ]
    },
    {
     "name": "stdout",
     "output_type": "stream",
     "text": [
      "00039\n"
     ]
    },
    {
     "name": "stderr",
     "output_type": "stream",
     "text": [
      " 40%|████      | 40/100 [05:58<09:25,  9.42s/it]"
     ]
    },
    {
     "name": "stdout",
     "output_type": "stream",
     "text": [
      "00040\n"
     ]
    },
    {
     "name": "stderr",
     "output_type": "stream",
     "text": [
      " 41%|████      | 41/100 [06:06<08:56,  9.10s/it]"
     ]
    },
    {
     "name": "stdout",
     "output_type": "stream",
     "text": [
      "00041\n"
     ]
    },
    {
     "name": "stderr",
     "output_type": "stream",
     "text": [
      " 42%|████▏     | 42/100 [06:21<10:21, 10.72s/it]"
     ]
    },
    {
     "name": "stdout",
     "output_type": "stream",
     "text": [
      "00042\n"
     ]
    },
    {
     "name": "stderr",
     "output_type": "stream",
     "text": [
      " 43%|████▎     | 43/100 [06:40<12:41, 13.36s/it]"
     ]
    },
    {
     "name": "stdout",
     "output_type": "stream",
     "text": [
      "00043\n"
     ]
    },
    {
     "name": "stderr",
     "output_type": "stream",
     "text": [
      " 44%|████▍     | 44/100 [07:05<15:37, 16.74s/it]"
     ]
    },
    {
     "name": "stdout",
     "output_type": "stream",
     "text": [
      "00044\n"
     ]
    },
    {
     "name": "stderr",
     "output_type": "stream",
     "text": [
      " 45%|████▌     | 45/100 [07:27<16:48, 18.34s/it]"
     ]
    },
    {
     "name": "stdout",
     "output_type": "stream",
     "text": [
      "00045\n"
     ]
    },
    {
     "name": "stderr",
     "output_type": "stream",
     "text": [
      " 46%|████▌     | 46/100 [07:41<15:16, 16.96s/it]"
     ]
    },
    {
     "name": "stdout",
     "output_type": "stream",
     "text": [
      "00046\n"
     ]
    },
    {
     "name": "stderr",
     "output_type": "stream",
     "text": [
      " 47%|████▋     | 47/100 [07:56<14:28, 16.38s/it]"
     ]
    },
    {
     "name": "stdout",
     "output_type": "stream",
     "text": [
      "00047\n"
     ]
    },
    {
     "name": "stderr",
     "output_type": "stream",
     "text": [
      " 48%|████▊     | 48/100 [08:04<12:05, 13.96s/it]"
     ]
    },
    {
     "name": "stdout",
     "output_type": "stream",
     "text": [
      "00048\n"
     ]
    },
    {
     "name": "stderr",
     "output_type": "stream",
     "text": [
      " 49%|████▉     | 49/100 [08:13<10:38, 12.53s/it]"
     ]
    },
    {
     "name": "stdout",
     "output_type": "stream",
     "text": [
      "00049\n"
     ]
    },
    {
     "name": "stderr",
     "output_type": "stream",
     "text": [
      " 50%|█████     | 50/100 [08:23<09:47, 11.74s/it]"
     ]
    },
    {
     "name": "stdout",
     "output_type": "stream",
     "text": [
      "00050\n"
     ]
    },
    {
     "name": "stderr",
     "output_type": "stream",
     "text": [
      " 51%|█████     | 51/100 [08:33<09:06, 11.15s/it]"
     ]
    },
    {
     "name": "stdout",
     "output_type": "stream",
     "text": [
      "00051\n"
     ]
    },
    {
     "name": "stderr",
     "output_type": "stream",
     "text": [
      " 52%|█████▏    | 52/100 [08:47<09:36, 12.01s/it]"
     ]
    },
    {
     "name": "stdout",
     "output_type": "stream",
     "text": [
      "00052\n"
     ]
    },
    {
     "name": "stderr",
     "output_type": "stream",
     "text": [
      " 53%|█████▎    | 53/100 [09:00<09:31, 12.16s/it]"
     ]
    },
    {
     "name": "stdout",
     "output_type": "stream",
     "text": [
      "00053\n"
     ]
    },
    {
     "name": "stderr",
     "output_type": "stream",
     "text": [
      " 54%|█████▍    | 54/100 [09:12<09:18, 12.15s/it]"
     ]
    },
    {
     "name": "stdout",
     "output_type": "stream",
     "text": [
      "00054\n"
     ]
    },
    {
     "name": "stderr",
     "output_type": "stream",
     "text": [
      " 55%|█████▌    | 55/100 [09:26<09:38, 12.86s/it]"
     ]
    },
    {
     "name": "stdout",
     "output_type": "stream",
     "text": [
      "00055\n"
     ]
    },
    {
     "name": "stderr",
     "output_type": "stream",
     "text": [
      " 56%|█████▌    | 56/100 [09:39<09:28, 12.93s/it]"
     ]
    },
    {
     "name": "stdout",
     "output_type": "stream",
     "text": [
      "00056\n"
     ]
    },
    {
     "name": "stderr",
     "output_type": "stream",
     "text": [
      " 57%|█████▋    | 57/100 [09:48<08:21, 11.66s/it]"
     ]
    },
    {
     "name": "stdout",
     "output_type": "stream",
     "text": [
      "00057\n"
     ]
    },
    {
     "name": "stderr",
     "output_type": "stream",
     "text": [
      " 58%|█████▊    | 58/100 [09:58<07:46, 11.10s/it]"
     ]
    },
    {
     "name": "stdout",
     "output_type": "stream",
     "text": [
      "00058\n"
     ]
    },
    {
     "name": "stderr",
     "output_type": "stream",
     "text": [
      " 59%|█████▉    | 59/100 [10:11<08:04, 11.81s/it]"
     ]
    },
    {
     "name": "stdout",
     "output_type": "stream",
     "text": [
      "00059\n"
     ]
    },
    {
     "name": "stderr",
     "output_type": "stream",
     "text": [
      " 60%|██████    | 60/100 [10:21<07:22, 11.06s/it]"
     ]
    },
    {
     "name": "stdout",
     "output_type": "stream",
     "text": [
      "00060\n"
     ]
    },
    {
     "name": "stderr",
     "output_type": "stream",
     "text": [
      " 61%|██████    | 61/100 [10:29<06:45, 10.39s/it]"
     ]
    },
    {
     "name": "stdout",
     "output_type": "stream",
     "text": [
      "00061\n"
     ]
    },
    {
     "name": "stderr",
     "output_type": "stream",
     "text": [
      " 62%|██████▏   | 62/100 [10:40<06:32, 10.32s/it]"
     ]
    },
    {
     "name": "stdout",
     "output_type": "stream",
     "text": [
      "00062\n"
     ]
    },
    {
     "name": "stderr",
     "output_type": "stream",
     "text": [
      " 63%|██████▎   | 63/100 [10:50<06:24, 10.38s/it]"
     ]
    },
    {
     "name": "stdout",
     "output_type": "stream",
     "text": [
      "00063\n"
     ]
    },
    {
     "name": "stderr",
     "output_type": "stream",
     "text": [
      " 64%|██████▍   | 64/100 [10:59<06:00, 10.02s/it]"
     ]
    },
    {
     "name": "stdout",
     "output_type": "stream",
     "text": [
      "00064\n"
     ]
    },
    {
     "name": "stderr",
     "output_type": "stream",
     "text": [
      " 65%|██████▌   | 65/100 [11:10<06:03, 10.39s/it]"
     ]
    },
    {
     "name": "stdout",
     "output_type": "stream",
     "text": [
      "00065\n"
     ]
    },
    {
     "name": "stderr",
     "output_type": "stream",
     "text": [
      " 66%|██████▌   | 66/100 [11:25<06:37, 11.69s/it]"
     ]
    },
    {
     "name": "stdout",
     "output_type": "stream",
     "text": [
      "00066\n"
     ]
    },
    {
     "name": "stderr",
     "output_type": "stream",
     "text": [
      " 67%|██████▋   | 67/100 [11:45<07:46, 14.12s/it]"
     ]
    },
    {
     "name": "stdout",
     "output_type": "stream",
     "text": [
      "00067\n"
     ]
    },
    {
     "name": "stderr",
     "output_type": "stream",
     "text": [
      " 68%|██████▊   | 68/100 [12:07<08:47, 16.49s/it]"
     ]
    },
    {
     "name": "stdout",
     "output_type": "stream",
     "text": [
      "00068\n"
     ]
    },
    {
     "name": "stderr",
     "output_type": "stream",
     "text": [
      " 69%|██████▉   | 69/100 [12:32<09:46, 18.91s/it]"
     ]
    },
    {
     "name": "stdout",
     "output_type": "stream",
     "text": [
      "00069\n"
     ]
    },
    {
     "name": "stderr",
     "output_type": "stream",
     "text": [
      " 70%|███████   | 70/100 [13:00<10:55, 21.84s/it]"
     ]
    },
    {
     "name": "stdout",
     "output_type": "stream",
     "text": [
      "00070\n"
     ]
    },
    {
     "name": "stderr",
     "output_type": "stream",
     "text": [
      " 71%|███████   | 71/100 [13:15<09:32, 19.74s/it]"
     ]
    },
    {
     "name": "stdout",
     "output_type": "stream",
     "text": [
      "00071\n"
     ]
    },
    {
     "name": "stderr",
     "output_type": "stream",
     "text": [
      " 72%|███████▏  | 72/100 [13:25<07:51, 16.85s/it]"
     ]
    },
    {
     "name": "stdout",
     "output_type": "stream",
     "text": [
      "00072\n"
     ]
    },
    {
     "name": "stderr",
     "output_type": "stream",
     "text": [
      " 73%|███████▎  | 73/100 [13:53<09:06, 20.24s/it]"
     ]
    },
    {
     "name": "stdout",
     "output_type": "stream",
     "text": [
      "00073\n"
     ]
    },
    {
     "name": "stderr",
     "output_type": "stream",
     "text": [
      " 74%|███████▍  | 74/100 [14:10<08:18, 19.19s/it]"
     ]
    },
    {
     "name": "stdout",
     "output_type": "stream",
     "text": [
      "00074\n"
     ]
    },
    {
     "name": "stderr",
     "output_type": "stream",
     "text": [
      " 75%|███████▌  | 75/100 [14:21<06:57, 16.69s/it]"
     ]
    },
    {
     "name": "stdout",
     "output_type": "stream",
     "text": [
      "00075\n"
     ]
    },
    {
     "name": "stderr",
     "output_type": "stream",
     "text": [
      " 76%|███████▌  | 76/100 [14:49<08:00, 20.02s/it]"
     ]
    },
    {
     "name": "stdout",
     "output_type": "stream",
     "text": [
      "00076\n"
     ]
    },
    {
     "name": "stderr",
     "output_type": "stream",
     "text": [
      " 77%|███████▋  | 77/100 [15:02<06:56, 18.11s/it]"
     ]
    },
    {
     "name": "stdout",
     "output_type": "stream",
     "text": [
      "00077\n"
     ]
    },
    {
     "name": "stderr",
     "output_type": "stream",
     "text": [
      " 78%|███████▊  | 78/100 [15:23<06:52, 18.76s/it]"
     ]
    },
    {
     "name": "stdout",
     "output_type": "stream",
     "text": [
      "00078\n"
     ]
    },
    {
     "name": "stderr",
     "output_type": "stream",
     "text": [
      " 79%|███████▉  | 79/100 [15:40<06:24, 18.31s/it]"
     ]
    },
    {
     "name": "stdout",
     "output_type": "stream",
     "text": [
      "00079\n"
     ]
    },
    {
     "name": "stderr",
     "output_type": "stream",
     "text": [
      " 80%|████████  | 80/100 [15:50<05:14, 15.70s/it]"
     ]
    },
    {
     "name": "stdout",
     "output_type": "stream",
     "text": [
      "00080\n"
     ]
    },
    {
     "name": "stderr",
     "output_type": "stream",
     "text": [
      " 81%|████████  | 81/100 [16:03<04:46, 15.06s/it]"
     ]
    },
    {
     "name": "stdout",
     "output_type": "stream",
     "text": [
      "00081\n"
     ]
    },
    {
     "name": "stderr",
     "output_type": "stream",
     "text": [
      " 82%|████████▏ | 82/100 [16:19<04:33, 15.18s/it]"
     ]
    },
    {
     "name": "stdout",
     "output_type": "stream",
     "text": [
      "00082\n"
     ]
    },
    {
     "name": "stderr",
     "output_type": "stream",
     "text": [
      " 83%|████████▎ | 83/100 [16:38<04:37, 16.32s/it]"
     ]
    },
    {
     "name": "stdout",
     "output_type": "stream",
     "text": [
      "00083\n"
     ]
    },
    {
     "name": "stderr",
     "output_type": "stream",
     "text": [
      " 84%|████████▍ | 84/100 [16:47<03:47, 14.22s/it]"
     ]
    },
    {
     "name": "stdout",
     "output_type": "stream",
     "text": [
      "00084\n"
     ]
    },
    {
     "name": "stderr",
     "output_type": "stream",
     "text": [
      " 85%|████████▌ | 85/100 [17:12<04:24, 17.63s/it]"
     ]
    },
    {
     "name": "stdout",
     "output_type": "stream",
     "text": [
      "00085\n"
     ]
    },
    {
     "name": "stderr",
     "output_type": "stream",
     "text": [
      " 86%|████████▌ | 86/100 [17:23<03:39, 15.65s/it]"
     ]
    },
    {
     "name": "stdout",
     "output_type": "stream",
     "text": [
      "00086\n"
     ]
    },
    {
     "name": "stderr",
     "output_type": "stream",
     "text": [
      " 87%|████████▋ | 87/100 [17:48<03:56, 18.22s/it]"
     ]
    },
    {
     "name": "stdout",
     "output_type": "stream",
     "text": [
      "00087\n"
     ]
    },
    {
     "name": "stderr",
     "output_type": "stream",
     "text": [
      " 88%|████████▊ | 88/100 [18:02<03:23, 16.98s/it]"
     ]
    },
    {
     "name": "stdout",
     "output_type": "stream",
     "text": [
      "00088\n"
     ]
    },
    {
     "name": "stderr",
     "output_type": "stream",
     "text": [
      " 89%|████████▉ | 89/100 [18:26<03:31, 19.18s/it]"
     ]
    },
    {
     "name": "stdout",
     "output_type": "stream",
     "text": [
      "00089\n"
     ]
    },
    {
     "name": "stderr",
     "output_type": "stream",
     "text": [
      " 90%|█████████ | 90/100 [18:40<02:57, 17.71s/it]"
     ]
    },
    {
     "name": "stdout",
     "output_type": "stream",
     "text": [
      "00090\n"
     ]
    },
    {
     "name": "stderr",
     "output_type": "stream",
     "text": [
      " 91%|█████████ | 91/100 [18:56<02:34, 17.18s/it]"
     ]
    },
    {
     "name": "stdout",
     "output_type": "stream",
     "text": [
      "00091\n"
     ]
    },
    {
     "name": "stderr",
     "output_type": "stream",
     "text": [
      " 92%|█████████▏| 92/100 [19:10<02:09, 16.25s/it]"
     ]
    },
    {
     "name": "stdout",
     "output_type": "stream",
     "text": [
      "00092\n"
     ]
    },
    {
     "name": "stderr",
     "output_type": "stream",
     "text": [
      " 93%|█████████▎| 93/100 [19:25<01:49, 15.64s/it]"
     ]
    },
    {
     "name": "stdout",
     "output_type": "stream",
     "text": [
      "00093\n"
     ]
    },
    {
     "name": "stderr",
     "output_type": "stream",
     "text": [
      " 94%|█████████▍| 94/100 [19:37<01:28, 14.80s/it]"
     ]
    },
    {
     "name": "stdout",
     "output_type": "stream",
     "text": [
      "00094\n"
     ]
    },
    {
     "name": "stderr",
     "output_type": "stream",
     "text": [
      " 95%|█████████▌| 95/100 [19:49<01:08, 13.73s/it]"
     ]
    },
    {
     "name": "stdout",
     "output_type": "stream",
     "text": [
      "00095\n"
     ]
    },
    {
     "name": "stderr",
     "output_type": "stream",
     "text": [
      " 96%|█████████▌| 96/100 [20:02<00:54, 13.66s/it]"
     ]
    },
    {
     "name": "stdout",
     "output_type": "stream",
     "text": [
      "00096\n"
     ]
    },
    {
     "name": "stderr",
     "output_type": "stream",
     "text": [
      " 97%|█████████▋| 97/100 [20:22<00:46, 15.66s/it]"
     ]
    },
    {
     "name": "stdout",
     "output_type": "stream",
     "text": [
      "00097\n"
     ]
    },
    {
     "name": "stderr",
     "output_type": "stream",
     "text": [
      " 98%|█████████▊| 98/100 [20:38<00:31, 15.61s/it]"
     ]
    },
    {
     "name": "stdout",
     "output_type": "stream",
     "text": [
      "00098\n"
     ]
    },
    {
     "name": "stderr",
     "output_type": "stream",
     "text": [
      " 99%|█████████▉| 99/100 [20:55<00:15, 15.92s/it]"
     ]
    },
    {
     "name": "stdout",
     "output_type": "stream",
     "text": [
      "00099\n"
     ]
    },
    {
     "name": "stderr",
     "output_type": "stream",
     "text": [
      "100%|██████████| 100/100 [21:09<00:00, 12.70s/it]\n"
     ]
    }
   ],
   "source": [
    "output_dataframe = pd.DataFrame()\n",
    "for i in tqdm(range(100)): #0~59\n",
    "    file_str = str(i).zfill(5) \n",
    "    print (file_str)\n",
    "    df = pd.read_csv(data_dir+\"part-\"+file_str+\"-of-00500.csv.gz\",header=None)\n",
    "    df.columns = task_usage_header\n",
    "    #保留 'end_time','job_id','task_index','machine_id', 'mean_cpu_usage' 这些列\n",
    "    df.drop(df.columns[[0,6,7,8,9,10,11,12,13,14,15,16,17,18,19]], axis=1,inplace=True)\n",
    "\n",
    "    output_dataframe = output_dataframe.append(df)\n",
    "#     output_data_dir = \"./data/task_usage_input_timeseries/part-\"+file_str+\"-of-00500.csv\"\n",
    "#     df.to_csv(output_data_dir, sep='\\t')\n",
    "#     break"
   ]
  },
  {
   "cell_type": "code",
   "execution_count": 110,
   "metadata": {},
   "outputs": [],
   "source": [
    "output_dataframe_final = output_dataframe"
   ]
  },
  {
   "cell_type": "code",
   "execution_count": 111,
   "metadata": {},
   "outputs": [
    {
     "data": {
      "text/plain": "             end_time      job_id  task_index  machine_id  mean_cpu_usage\n0           900000000     3418309           0  4155527081        0.001562\n1           900000000     3418309           1   329150663        0.001568\n2           900000000     3418314           0  3938719206        0.000307\n3           900000000     3418314           1   351618647        0.000300\n4           900000000     3418319           0   431052910        0.000461\n...               ...         ...         ...         ...             ...\n2375967  301500000000  6286109327        1057   317371468        0.035400\n2375968  301500000000  6286109327        1475   317302933        0.037350\n2375969  301500000000  6286109327        1484   351636655        0.039370\n2375970  301287000000  6286122283           0  3932557225        0.000633\n2375971  301279000000  6286122287           0   323404492        0.022920\n\n[161910460 rows x 5 columns]",
      "text/html": "<div>\n<style scoped>\n    .dataframe tbody tr th:only-of-type {\n        vertical-align: middle;\n    }\n\n    .dataframe tbody tr th {\n        vertical-align: top;\n    }\n\n    .dataframe thead th {\n        text-align: right;\n    }\n</style>\n<table border=\"1\" class=\"dataframe\">\n  <thead>\n    <tr style=\"text-align: right;\">\n      <th></th>\n      <th>end_time</th>\n      <th>job_id</th>\n      <th>task_index</th>\n      <th>machine_id</th>\n      <th>mean_cpu_usage</th>\n    </tr>\n  </thead>\n  <tbody>\n    <tr>\n      <th>0</th>\n      <td>900000000</td>\n      <td>3418309</td>\n      <td>0</td>\n      <td>4155527081</td>\n      <td>0.001562</td>\n    </tr>\n    <tr>\n      <th>1</th>\n      <td>900000000</td>\n      <td>3418309</td>\n      <td>1</td>\n      <td>329150663</td>\n      <td>0.001568</td>\n    </tr>\n    <tr>\n      <th>2</th>\n      <td>900000000</td>\n      <td>3418314</td>\n      <td>0</td>\n      <td>3938719206</td>\n      <td>0.000307</td>\n    </tr>\n    <tr>\n      <th>3</th>\n      <td>900000000</td>\n      <td>3418314</td>\n      <td>1</td>\n      <td>351618647</td>\n      <td>0.000300</td>\n    </tr>\n    <tr>\n      <th>4</th>\n      <td>900000000</td>\n      <td>3418319</td>\n      <td>0</td>\n      <td>431052910</td>\n      <td>0.000461</td>\n    </tr>\n    <tr>\n      <th>...</th>\n      <td>...</td>\n      <td>...</td>\n      <td>...</td>\n      <td>...</td>\n      <td>...</td>\n    </tr>\n    <tr>\n      <th>2375967</th>\n      <td>301500000000</td>\n      <td>6286109327</td>\n      <td>1057</td>\n      <td>317371468</td>\n      <td>0.035400</td>\n    </tr>\n    <tr>\n      <th>2375968</th>\n      <td>301500000000</td>\n      <td>6286109327</td>\n      <td>1475</td>\n      <td>317302933</td>\n      <td>0.037350</td>\n    </tr>\n    <tr>\n      <th>2375969</th>\n      <td>301500000000</td>\n      <td>6286109327</td>\n      <td>1484</td>\n      <td>351636655</td>\n      <td>0.039370</td>\n    </tr>\n    <tr>\n      <th>2375970</th>\n      <td>301287000000</td>\n      <td>6286122283</td>\n      <td>0</td>\n      <td>3932557225</td>\n      <td>0.000633</td>\n    </tr>\n    <tr>\n      <th>2375971</th>\n      <td>301279000000</td>\n      <td>6286122287</td>\n      <td>0</td>\n      <td>323404492</td>\n      <td>0.022920</td>\n    </tr>\n  </tbody>\n</table>\n<p>161910460 rows × 5 columns</p>\n</div>"
     },
     "execution_count": 111,
     "metadata": {},
     "output_type": "execute_result"
    }
   ],
   "source": [
    "output_dataframe_final"
   ]
  },
  {
   "cell_type": "code",
   "execution_count": 124,
   "metadata": {},
   "outputs": [
    {
     "name": "stdout",
     "output_type": "stream",
     "text": [
      "started loading\n"
     ]
    },
    {
     "name": "stderr",
     "output_type": "stream",
     "text": [
      " 12%|█▏        | 84/720 [01:27<10:04,  1.05it/s]C:\\Users\\lenovo\\anaconda3\\envs\\google-trace-analysis\\lib\\site-packages\\numpy\\lib\\function_base.py:380: RuntimeWarning: Mean of empty slice.\n",
      "  avg = a.mean(axis)\n",
      "C:\\Users\\lenovo\\anaconda3\\envs\\google-trace-analysis\\lib\\site-packages\\numpy\\core\\_methods.py:170: RuntimeWarning: invalid value encountered in double_scalars\n",
      "  ret = ret.dtype.type(ret / rcount)\n",
      "100%|██████████| 720/720 [08:41<00:00,  1.38it/s]\n"
     ]
    }
   ],
   "source": [
    "output_dataframe_final = calculateHourlyUsage(output_dataframe_final)"
   ]
  },
  {
   "cell_type": "code",
   "execution_count": 126,
   "metadata": {},
   "outputs": [],
   "source": [
    "output_dataframe_final = output_dataframe_final[output_dataframe_final['hour']<84]"
   ]
  },
  {
   "cell_type": "code",
   "execution_count": 125,
   "metadata": {},
   "outputs": [
    {
     "data": {
      "text/plain": "   hour no_of_jobs machines  mean_cpu_usage\n0     0       4513    12476        0.017537\n0     1       4688    12476        0.016717\n0     2       4620    12478        0.016284\n0     3       4855    12485        0.015711\n0     4       4719    12485        0.014981\n..  ...        ...      ...             ...\n0   715          0        0             NaN\n0   716          0        0             NaN\n0   717          0        0             NaN\n0   718          0        0             NaN\n0   719          0        0             NaN\n\n[720 rows x 4 columns]",
      "text/html": "<div>\n<style scoped>\n    .dataframe tbody tr th:only-of-type {\n        vertical-align: middle;\n    }\n\n    .dataframe tbody tr th {\n        vertical-align: top;\n    }\n\n    .dataframe thead th {\n        text-align: right;\n    }\n</style>\n<table border=\"1\" class=\"dataframe\">\n  <thead>\n    <tr style=\"text-align: right;\">\n      <th></th>\n      <th>hour</th>\n      <th>no_of_jobs</th>\n      <th>machines</th>\n      <th>mean_cpu_usage</th>\n    </tr>\n  </thead>\n  <tbody>\n    <tr>\n      <th>0</th>\n      <td>0</td>\n      <td>4513</td>\n      <td>12476</td>\n      <td>0.017537</td>\n    </tr>\n    <tr>\n      <th>0</th>\n      <td>1</td>\n      <td>4688</td>\n      <td>12476</td>\n      <td>0.016717</td>\n    </tr>\n    <tr>\n      <th>0</th>\n      <td>2</td>\n      <td>4620</td>\n      <td>12478</td>\n      <td>0.016284</td>\n    </tr>\n    <tr>\n      <th>0</th>\n      <td>3</td>\n      <td>4855</td>\n      <td>12485</td>\n      <td>0.015711</td>\n    </tr>\n    <tr>\n      <th>0</th>\n      <td>4</td>\n      <td>4719</td>\n      <td>12485</td>\n      <td>0.014981</td>\n    </tr>\n    <tr>\n      <th>...</th>\n      <td>...</td>\n      <td>...</td>\n      <td>...</td>\n      <td>...</td>\n    </tr>\n    <tr>\n      <th>0</th>\n      <td>715</td>\n      <td>0</td>\n      <td>0</td>\n      <td>NaN</td>\n    </tr>\n    <tr>\n      <th>0</th>\n      <td>716</td>\n      <td>0</td>\n      <td>0</td>\n      <td>NaN</td>\n    </tr>\n    <tr>\n      <th>0</th>\n      <td>717</td>\n      <td>0</td>\n      <td>0</td>\n      <td>NaN</td>\n    </tr>\n    <tr>\n      <th>0</th>\n      <td>718</td>\n      <td>0</td>\n      <td>0</td>\n      <td>NaN</td>\n    </tr>\n    <tr>\n      <th>0</th>\n      <td>719</td>\n      <td>0</td>\n      <td>0</td>\n      <td>NaN</td>\n    </tr>\n  </tbody>\n</table>\n<p>720 rows × 4 columns</p>\n</div>"
     },
     "execution_count": 125,
     "metadata": {},
     "output_type": "execute_result"
    }
   ],
   "source": [
    "output_dataframe_final"
   ]
  },
  {
   "cell_type": "code",
   "execution_count": 61,
   "metadata": {},
   "outputs": [],
   "source": [
    "X = np.array(output_dataframe_final['mean_cpu_usage'].tolist())"
   ]
  },
  {
   "cell_type": "code",
   "execution_count": 62,
   "metadata": {},
   "outputs": [
    {
     "data": {
      "text/plain": [
       "array([0.01753654, 0.01671724, 0.01628377, 0.01571072, 0.01498057,\n",
       "       0.01495185, 0.01394167, 0.01502232, 0.01649895, 0.01657997,\n",
       "       0.01664338, 0.01745756, 0.01696358, 0.0181543 , 0.01921209,\n",
       "       0.0185627 , 0.0188185 , 0.01891544, 0.02145261, 0.02142198,\n",
       "       0.01988755, 0.02009669, 0.02083384, 0.01824115, 0.01937279,\n",
       "       0.01865439, 0.01282313, 0.00946815, 0.00866318, 0.00976388,\n",
       "       0.00873009, 0.01345372, 0.01627282, 0.01631837, 0.01653781,\n",
       "       0.01640791, 0.01659396, 0.01794766, 0.01857603, 0.01922389,\n",
       "       0.01976533, 0.01984754, 0.01941553, 0.02035863, 0.01922068,\n",
       "       0.01853696, 0.01932489, 0.01774829, 0.01787929, 0.01776996,\n",
       "       0.0166457 , 0.01677423, 0.01488547, 0.0144224 , 0.01426421,\n",
       "       0.01522806, 0.01618755, 0.01933787, 0.01917755, 0.02088414,\n",
       "       0.019842  , 0.01961764, 0.0209591 , 0.0218979 , 0.02340094,\n",
       "       0.02287934, 0.02161878, 0.02146912, 0.01879018, 0.01769925,\n",
       "       0.01768853, 0.01753083, 0.01769753, 0.01942874, 0.01948125,\n",
       "       0.02148444, 0.01929276, 0.01913444, 0.0195879 , 0.01856301,\n",
       "       0.02021539, 0.01889404, 0.01873533, 0.01977676])"
      ]
     },
     "execution_count": 62,
     "metadata": {},
     "output_type": "execute_result"
    }
   ],
   "source": [
    "X"
   ]
  },
  {
   "cell_type": "code",
   "execution_count": 63,
   "metadata": {},
   "outputs": [
    {
     "name": "stdout",
     "output_type": "stream",
     "text": [
      "Performing stepwise search to minimize aic\n",
      " ARIMA(2,0,2)(0,0,0)[0] intercept   : AIC=-861.367, Time=0.38 sec\n",
      " ARIMA(0,0,0)(0,0,0)[0] intercept   : AIC=-739.995, Time=0.03 sec\n",
      " ARIMA(1,0,0)(0,0,0)[0] intercept   : AIC=-860.336, Time=0.05 sec\n",
      " ARIMA(0,0,1)(0,0,0)[0] intercept   : AIC=-799.504, Time=0.11 sec\n",
      " ARIMA(0,0,0)(0,0,0)[0]             : AIC=-434.032, Time=0.02 sec\n",
      " ARIMA(1,0,2)(0,0,0)[0] intercept   : AIC=-860.036, Time=0.14 sec\n",
      " ARIMA(2,0,1)(0,0,0)[0] intercept   : AIC=-632.968, Time=0.64 sec\n",
      " ARIMA(3,0,2)(0,0,0)[0] intercept   : AIC=-849.305, Time=0.55 sec\n",
      " ARIMA(2,0,3)(0,0,0)[0] intercept   : AIC=-864.648, Time=0.18 sec\n",
      " ARIMA(1,0,3)(0,0,0)[0] intercept   : AIC=-866.828, Time=0.16 sec\n",
      " ARIMA(0,0,3)(0,0,0)[0] intercept   : AIC=inf, Time=0.35 sec\n",
      " ARIMA(1,0,4)(0,0,0)[0] intercept   : AIC=-865.268, Time=0.31 sec\n",
      " ARIMA(0,0,2)(0,0,0)[0] intercept   : AIC=-829.738, Time=0.20 sec\n",
      " ARIMA(0,0,4)(0,0,0)[0] intercept   : AIC=-864.525, Time=0.42 sec\n",
      " ARIMA(2,0,4)(0,0,0)[0] intercept   : AIC=-863.876, Time=0.52 sec\n",
      " ARIMA(1,0,3)(0,0,0)[0]             : AIC=-852.078, Time=0.13 sec\n",
      "\n",
      "Best model:  ARIMA(1,0,3)(0,0,0)[0] intercept\n",
      "Total fit time: 4.207 seconds\n"
     ]
    }
   ],
   "source": [
    "#ARIMA 模型参数拟合\n",
    "from pmdarima import auto_arima\n",
    "stepwise_fit = auto_arima(X, trace=True, suppress_warnings=True)\n",
    "# 得出结果 Best model:  ARIMA(1,0,3)(0,0,0)[0] intercept\n",
    "#Total fit time: 4.207 seconds"
   ]
  },
  {
   "cell_type": "code",
   "execution_count": 98,
   "metadata": {},
   "outputs": [
    {
     "name": "stdout",
     "output_type": "stream",
     "text": [
      "(84,)\n",
      "(24,) (60,)\n"
     ]
    },
    {
     "name": "stderr",
     "output_type": "stream",
     "text": [
      "C:\\Users\\lenovo\\anaconda3\\envs\\google-trace-analysis\\lib\\site-packages\\statsmodels\\tsa\\arima_model.py:472: FutureWarning: \n",
      "statsmodels.tsa.arima_model.ARMA and statsmodels.tsa.arima_model.ARIMA have\n",
      "been deprecated in favor of statsmodels.tsa.arima.model.ARIMA (note the .\n",
      "between arima and model) and\n",
      "statsmodels.tsa.SARIMAX. These will be removed after the 0.12 release.\n",
      "\n",
      "statsmodels.tsa.arima.model.ARIMA makes use of the statespace framework and\n",
      "is both well tested and maintained.\n",
      "\n",
      "To silence this warning and continue using ARMA and ARIMA until they are\n",
      "removed, use:\n",
      "\n",
      "import warnings\n",
      "warnings.filterwarnings('ignore', 'statsmodels.tsa.arima_model.ARMA',\n",
      "                        FutureWarning)\n",
      "warnings.filterwarnings('ignore', 'statsmodels.tsa.arima_model.ARIMA',\n",
      "                        FutureWarning)\n",
      "\n",
      "  warnings.warn(ARIMA_DEPRECATION_WARN, FutureWarning)\n"
     ]
    },
    {
     "name": "stdout",
     "output_type": "stream",
     "text": [
      "[0.01725604 0.01837878 0.01707252 0.01720037 0.01729973 0.01737695\n",
      " 0.01743696 0.0174836  0.01751984 0.01754801 0.0175699  0.01758691\n",
      " 0.01760013 0.01761041 0.01761839 0.0176246  0.01762942 0.01763317\n",
      " 0.01763608 0.01763835 0.01764011 0.01764147 0.01764254 0.01764336\n",
      " 0.017644   0.0176445  0.01764489 0.01764519 0.01764543 0.01764561\n",
      " 0.01764575 0.01764586 0.01764595 0.01764601 0.01764606 0.0176461\n",
      " 0.01764613 0.01764616 0.01764618 0.01764619 0.0176462  0.01764621\n",
      " 0.01764622 0.01764622 0.01764623 0.01764623 0.01764623 0.01764624\n",
      " 0.01764624 0.01764624 0.01764624 0.01764624 0.01764624 0.01764624\n",
      " 0.01764624 0.01764624 0.01764624 0.01764624 0.01764624 0.01764624]\n",
      "[0.01937279 0.01865439 0.01282313 0.00946815 0.00866318 0.00976388\n",
      " 0.00873009 0.01345372 0.01627282 0.01631837 0.01653781 0.01640791\n",
      " 0.01659396 0.01794766 0.01857603 0.01922389 0.01976533 0.01984754\n",
      " 0.01941553 0.02035863 0.01922068 0.01853696 0.01932489 0.01774829\n",
      " 0.01787929 0.01776996 0.0166457  0.01677423 0.01488547 0.0144224\n",
      " 0.01426421 0.01522806 0.01618755 0.01933787 0.01917755 0.02088414\n",
      " 0.019842   0.01961764 0.0209591  0.0218979  0.02340094 0.02287934\n",
      " 0.02161878 0.02146912 0.01879018 0.01769925 0.01768853 0.01753083\n",
      " 0.01769753 0.01942874 0.01948125 0.02148444 0.01929276 0.01913444\n",
      " 0.0195879  0.01856301 0.02021539 0.01889404 0.01873533 0.01977676]\n"
     ]
    },
    {
     "name": "stderr",
     "output_type": "stream",
     "text": [
      "C:\\Users\\lenovo\\anaconda3\\envs\\google-trace-analysis\\lib\\site-packages\\statsmodels\\tsa\\arima_model.py:1521: RuntimeWarning: invalid value encountered in sqrt\n",
      "  return np.sqrt(np.diag(-inv(hess)))\n"
     ]
    },
    {
     "data": {
      "text/plain": "[<matplotlib.lines.Line2D at 0x174237dc730>]"
     },
     "execution_count": 98,
     "metadata": {},
     "output_type": "execute_result"
    },
    {
     "data": {
      "text/plain": "<Figure size 432x288 with 1 Axes>",
      "image/png": "[encoded data removed]"
     },
     "metadata": {
      "needs_background": "light"
     },
     "output_type": "display_data"
    }
   ],
   "source": [
    "# 训练ARIMA的数据集分割，训练集+测试集\n",
    "print (X.shape)\n",
    "trainSet_arima,testSet_arima = np.split(X,[24])\n",
    "#testSet_arima = X.iiloc[-20:]\n",
    "print(trainSet_arima.shape, testSet_arima.shape)\n",
    "\n",
    "from statsmodels.tsa.arima_model import ARIMA\n",
    "model=ARIMA(trainSet_arima,order=(1,0,3))\n",
    "model=model.fit()\n",
    "model.summary()\n",
    "\n",
    "#检查how good of the model\n",
    "start =len(trainSet_arima)\n",
    "end = start + len(testSet_arima) - 1\n",
    "pred = model.predict(start=start, end=end, typ = 'levels')\n",
    "#pred.plot(legend = True)\n",
    "#testSet_arima.plot(legend = True)\n",
    "print(pred)\n",
    "print(testSet_arima)\n",
    "\n",
    "plt.plot(np.arange(24, 84), testSet_arima, label='Actual_value', alpha=0.8)\n",
    "plt.plot(np.arange(24, 84), pred, c='r', label='Predicted_EWMA', alpha=0.5)"
   ]
  },
  {
   "cell_type": "markdown",
   "metadata": {},
   "source": [
    "# Time Series"
   ]
  },
  {
   "cell_type": "code",
   "execution_count": 68,
   "metadata": {},
   "outputs": [],
   "source": [
    "## helper functions\n",
    "\n",
    "## in both the functions t is the current value\n",
    "\n",
    "def EWMA(X, t, x_t_hat=None, alpha=0.5): # 如果alpha->0, more weight to older data, if alpha->1, more weight to newer data\n",
    "    if t == 0:    \n",
    "        return alpha*X[t] * (1-alpha)*X[t]\n",
    "    \n",
    "    if x_t_hat:\n",
    "        return alpha*X[t] + (1-alpha)*x_t_hat\n",
    "\n",
    "    else:\n",
    "        return alpha*X[t] + (1-alpha)*EWMA(X, t-1, None, alpha=alpha)\n",
    "    \n",
    "    \n",
    "    \n",
    "# 增加Arima (Auto-regressive intergrated moving average)\n",
    "#三个参数 P,D,Q\n",
    "import statsmodels.api as sm\n",
    "from statsmodels.tsa.arima_model import ARIMA\n",
    "from statsmodels.tsa.seasonal import seasonal_decompose\n",
    "from statsmodels.tsa.stattools import adfuller as ADF\n",
    "from pmdarima import auto_arima\n",
    "\n",
    "#def ARIMA (dataset):\n",
    "    \n",
    "\n",
    "    \n",
    "def seasonal_observed(X, t, season=144):\n",
    "    return X[t-season+1]\n",
    "\n",
    "\n",
    "class AutoRegression(object):\n",
    "    def __init__(self, p=3, X=None):\n",
    "        self.p = p\n",
    "        self.X = X\n",
    "        self.n = len(X)\n",
    "        self.beta = np.ones((p, 1))/(p+1)\n",
    "        self.LR_solver = LinearRegression(n_jobs=-1, fit_intercept=False)\n",
    "        \n",
    "    def get_features(self, start=0, end=-1):\n",
    "        A = []\n",
    "        \n",
    "        for i in range(start, end-self.p):\n",
    "            A.append(self.X[i:(i+self.p)])\n",
    "    \n",
    "        A = np.array(A)\n",
    "        n = A.shape[0]\n",
    "        A = np.hstack((np.ones((n,1)), A))\n",
    "        return A\n",
    "        \n",
    "        \n",
    "    def fit(self, end=-1): ## use 'end' inside, for our eg end = 577\n",
    "\n",
    "        features = self.get_features(0, end)\n",
    "        labels = np.array(self.X[self.p:end])\n",
    "        self.LR_solver.fit(features, labels)\n",
    "    \n",
    "    def predict(self, t): ## t is the value we want to predict, same as the previous 'end' = 577\n",
    "        features = self.get_features(t-self.p-1, t)\n",
    "        return self.LR_solver.predict(features)\n",
    "    \n",
    "def plotGraph(X,pred_ewma,pred_auto):\n",
    "    plt.xlabel('Index', fontsize=15)\n",
    "    plt.ylabel('Sample Value', fontsize=15)\n",
    "    plt.plot(np.arange(24, 84), X, label='Actual_value', alpha=0.8)\n",
    "    plt.plot(np.arange(24, 84), pred_ewma, c='r', label='Predicted_EWMA', alpha=0.5)\n",
    "    plt.plot(np.arange(24, 84), pred_auto, c='g', label='Predicted_AR', alpha=0.6)\n",
    "\n",
    "    plt.legend(fontsize=10)\n",
    "    plt.show()\n",
    "\n",
    "def errorCalc(actual,predict):\n",
    "    return (np.abs(predict-actual)*100/actual).mean()\n",
    "    \n",
    "def calcTimeSeries(X):\n",
    "    ar_model = AutoRegression(p=23, X=X)\n",
    "    pred_auto = []\n",
    "    for i in range(24, len(X)):\n",
    "        ar_model.fit(end=i)\n",
    "        pred_auto.append(ar_model.predict(t=i))\n",
    "\n",
    "    pred_auto = np.array(pred_auto).squeeze()\n",
    "    \n",
    "    y_t_hat = X[23]\n",
    "    alpha = 0.5\n",
    "    pred_ewma = []\n",
    "\n",
    "    for i in range(24, len(X)):\n",
    "        y_t_hat = EWMA(X, i, y_t_hat, alpha)\n",
    "        pred_ewma.append(y_t_hat)\n",
    "    \n",
    "    pred_ewma = np.array(pred_ewma)\n",
    "#     print X[24]\n",
    "#     print pred_auto\n",
    "#     print pred_ewma\n",
    "    y=[]\n",
    "    for i in range(24,len(X)):\n",
    "        y.append(X[i])\n",
    "    X=y\n",
    "    plotGraph(X,pred_ewma,pred_auto)\n",
    "    print (\"EWMA error: \",errorCalc(X,pred_ewma),\"%\")\n",
    "    print (\"AUTO REG error: \",errorCalc(X,pred_auto),\"%\")"
   ]
  },
  {
   "cell_type": "code",
   "execution_count": 71,
   "metadata": {},
   "outputs": [
    {
     "data": {
      "image/png": "[encoded data removed]",
      "text/plain": [
       "<Figure size 432x288 with 1 Axes>"
      ]
     },
     "metadata": {
      "needs_background": "light"
     },
     "output_type": "display_data"
    },
    {
     "name": "stdout",
     "output_type": "stream",
     "text": [
      "EWMA error:  4.755132187493254 %\n",
      "AUTO REG error:  7.648123792332566 %\n"
     ]
    }
   ],
   "source": [
    "calcTimeSeries(X)"
   ]
  },
  {
   "cell_type": "code",
   "execution_count": null,
   "metadata": {
    "pycharm": {
     "is_executing": true
    }
   },
   "outputs": [],
   "source": [
    "print (X)"
   ]
  },
  {
   "cell_type": "code",
   "execution_count": null,
   "metadata": {
    "pycharm": {
     "is_executing": true
    }
   },
   "outputs": [],
   "source": []
  },
  {
   "cell_type": "code",
   "execution_count": null,
   "metadata": {
    "pycharm": {
     "is_executing": true
    }
   },
   "outputs": [],
   "source": []
  },
  {
   "cell_type": "code",
   "execution_count": null,
   "metadata": {
    "pycharm": {
     "is_executing": true
    }
   },
   "outputs": [],
   "source": []
  },
  {
   "cell_type": "code",
   "execution_count": null,
   "metadata": {
    "pycharm": {
     "is_executing": true
    }
   },
   "outputs": [],
   "source": []
  },
  {
   "cell_type": "code",
   "execution_count": null,
   "metadata": {
    "pycharm": {
     "is_executing": true
    }
   },
   "outputs": [],
   "source": []
  },
  {
   "cell_type": "code",
   "execution_count": null,
   "metadata": {
    "pycharm": {
     "is_executing": true
    }
   },
   "outputs": [],
   "source": []
  }
 ],
 "metadata": {
  "kernelspec": {
   "display_name": "PyCharm (google-trace-analysis)",
   "language": "python",
   "name": "pycharm-f30bcb0d"
  },
  "language_info": {
   "codemirror_mode": {
    "name": "ipython",
    "version": 3
   },
   "file_extension": ".py",
   "mimetype": "text/x-python",
   "name": "python",
   "nbconvert_exporter": "python",
   "pygments_lexer": "ipython3",
   "version": "3.8.10"
  }
 },
 "nbformat": 4,
 "nbformat_minor": 2
}