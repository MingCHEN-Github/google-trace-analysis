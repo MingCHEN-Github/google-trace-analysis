{
 "cells": [
  {
   "cell_type": "code",
   "execution_count": 65,
   "metadata": {},
   "outputs": [],
   "source": [
    "from scipy import integrate\n",
    "\n",
    "import pandas as pd\n",
    "import numpy as np\n",
    "import os\n",
    "import pickle as pkl\n",
    "import h5py\n",
    "import datetime\n",
    "from datetime import timedelta\n",
    "import matplotlib.pyplot as plt\n",
    "from tqdm import tqdm\n",
    "import matplotlib\n",
    "import numpy as np\n",
    "from sklearn.linear_model import LinearRegression\n",
    "import matplotlib.pyplot as plt"
   ]
  },
  {
   "cell_type": "code",
   "execution_count": 66,
   "metadata": {},
   "outputs": [
    {
     "name": "stdout",
     "output_type": "stream",
     "text": [
      "2011-05-02 09:05:58\n"
     ]
    },
    {
     "data": {
      "text/plain": [
       "1"
      ]
     },
     "execution_count": 66,
     "metadata": {},
     "output_type": "execute_result"
    }
   ],
   "source": [
    "#可以以 1min, 2min, 5min, 60min 为unit 进行数据集不同粒度的划分\n",
    "\n",
    "def calculateHourlyUsage(data):\n",
    "    cols = ['hour','no_of_jobs','machines', 'mean_cpu_usage']\n",
    "    result = pd.DataFrame(columns=cols)\n",
    "    print(\"(60Min Unit) started loading\")\n",
    "    for i in tqdm(range(30 * 24 )):\n",
    "        range_min = i * 3600 * (10**6) # 扩大数据量，以6分钟为一个粒度？\n",
    "        range_max = (i + 1) * 3600 * (10**6)\n",
    "        jobs_of_hour = data[(data['end_time'] >= range_min) & (data['end_time'] < range_max)]\n",
    "        no_of_jobs = len(jobs_of_hour['job_id'].unique())\n",
    "        avg_cpu = np.average(jobs_of_hour['mean_cpu_usage'])\n",
    "        machines = len(jobs_of_hour['machine_id'].unique())\n",
    "        output_data = pd.DataFrame(columns=cols,data=[[i,no_of_jobs,machines, avg_cpu]])\n",
    "        result = result.append(output_data)\n",
    "    return result\n",
    "\n",
    "def calculateFiveMinUsage(data): # 以五分钟为一个粒度\n",
    "    print(\"start 5 mins loading:……\")\n",
    "    cols = ['hour','no_of_jobs','machines', 'mean_cpu_usage']\n",
    "    resultFiveMin = pd.DataFrame(columns=cols)\n",
    "    print(\"(FiveMin unit) started loading\")\n",
    "\n",
    "    for i in tqdm(range(30*24*12)):\n",
    "        range_min = i * 60*5 *(10**6)\n",
    "        range_max = (i+1) * 60*5 * (10**6)\n",
    "        jobs_of_unit = data[(data['end_time'] >= range_min) & (data['end_time'] < range_max)]\n",
    "\n",
    "        no_of_jobs = len(jobs_of_unit['job_id'].unique())\n",
    "        avg_cpu = np.average(jobs_of_unit['mean_cpu_usage'])\n",
    "        machines = len(jobs_of_unit['machine_id'].unique())\n",
    "        output_data = pd.DataFrame(columns=cols,data=[[i,no_of_jobs,machines, avg_cpu]])\n",
    "        resultFiveMin = resultFiveMin.append(output_data)\n",
    "\n",
    "    print(\"@@@@@@resultFiveMin--length=\", resultFiveMin)\n",
    "    return resultFiveMin\n",
    "\n",
    "def hour_to_day(hour_input):\n",
    "    start_date = datetime.datetime(2011, 5, 1, 19, 0)\n",
    "    datee = start_date + timedelta(microseconds = hour_input)\n",
    "    print (datee)\n",
    "    return datee.day - start_date.day\n",
    "\n",
    "hour_to_day(50758000000)\n"
   ]
  },
  {
   "cell_type": "code",
   "execution_count": 67,
   "metadata": {},
   "outputs": [],
   "source": [
    "#usage_dir = \"F:\\\\google-cluster2011\\\\task_usage\\\\\"\n",
    "#data_dir = \"./data/task_usage/\"\n",
    "data_dir = \"F:\\\\google-cluster2011\\\\task_usage\\\\\"\n",
    "\n",
    "task_usage_header = ['start_time','end_time','job_id','task_index','machine_id', 'mean_cpu_usage',\n",
    "                     'canon_memory_usage', 'assign_memory_usage', 'unmapped_cache', 'total_cache', \n",
    "                     'max_mem', 'mean_io', 'mean_space', 'max_cpu', 'max_io', 'cpi', 'mai', 'sample',\n",
    "                     'agg_type', 'sample_cpu_usage']"
   ]
  },
  {
   "cell_type": "code",
   "execution_count": 79,
   "metadata": {},
   "outputs": [
    {
     "name": "stderr",
     "output_type": "stream",
     "text": [
      "  0%|          | 0/6 [00:00<?, ?it/s]"
     ]
    },
    {
     "name": "stdout",
     "output_type": "stream",
     "text": [
      "00000\n"
     ]
    },
    {
     "name": "stderr",
     "output_type": "stream",
     "text": [
      " 17%|█▋        | 1/6 [00:08<00:44,  8.84s/it]"
     ]
    },
    {
     "name": "stdout",
     "output_type": "stream",
     "text": [
      "00001\n"
     ]
    },
    {
     "name": "stderr",
     "output_type": "stream",
     "text": [
      " 33%|███▎      | 2/6 [00:17<00:35,  8.77s/it]"
     ]
    },
    {
     "name": "stdout",
     "output_type": "stream",
     "text": [
      "00002\n"
     ]
    },
    {
     "name": "stderr",
     "output_type": "stream",
     "text": [
      " 50%|█████     | 3/6 [00:27<00:27,  9.08s/it]"
     ]
    },
    {
     "name": "stdout",
     "output_type": "stream",
     "text": [
      "00003\n"
     ]
    },
    {
     "name": "stderr",
     "output_type": "stream",
     "text": [
      " 67%|██████▋   | 4/6 [00:35<00:17,  8.98s/it]"
     ]
    },
    {
     "name": "stdout",
     "output_type": "stream",
     "text": [
      "00004\n"
     ]
    },
    {
     "name": "stderr",
     "output_type": "stream",
     "text": [
      " 83%|████████▎ | 5/6 [00:45<00:09,  9.27s/it]"
     ]
    },
    {
     "name": "stdout",
     "output_type": "stream",
     "text": [
      "00005\n"
     ]
    },
    {
     "name": "stderr",
     "output_type": "stream",
     "text": [
      "100%|██████████| 6/6 [00:55<00:00,  9.31s/it]\n"
     ]
    }
   ],
   "source": [
    "#提炼关键数据\n",
    "output_dataframe = pd.DataFrame()\n",
    "for i in tqdm(range(6)): #0~59\n",
    "    file_str = str(i).zfill(5) \n",
    "    print (file_str)\n",
    "    df = pd.read_csv(data_dir+\"part-\"+file_str+\"-of-00500.csv.gz\",header=None)\n",
    "    df.columns = task_usage_header\n",
    "    #保留 'end_time','job_id','task_index','machine_id', 'mean_cpu_usage' 这些列\n",
    "    df.drop(df.columns[[0,6,7,8,9,10,11,12,13,14,15,16,17,18,19]], axis=1,inplace=True)\n",
    "\n",
    "    output_dataframe = output_dataframe.append(df)\n",
    "#     output_data_dir = \"./data/task_usage_input_timeseries/part-\"+file_str+\"-of-00500.csv\"\n",
    "#     df.to_csv(output_data_dir, sep='\\t')\n",
    "#     break\n",
    "\n",
    "# save the processed data to CSV\n",
    "output_dataframe.to_csv('selectedOutputData.csv', encoding='utf-8')"
   ]
  },
  {
   "cell_type": "code",
   "execution_count": 69,
   "metadata": {},
   "outputs": [
    {
     "name": "stdout",
     "output_type": "stream",
     "text": [
      "(161910460, 5)\n"
     ]
    }
   ],
   "source": [
    "output_dataframe_final = output_dataframe\n",
    "print(output_dataframe.shape)"
   ]
  },
  {
   "cell_type": "code",
   "execution_count": 70,
   "metadata": {},
   "outputs": [
    {
     "name": "stdout",
     "output_type": "stream",
     "text": [
      "(161910460, 5)\n"
     ]
    }
   ],
   "source": [
    "output_dataframe_final\n",
    "print(output_dataframe_final.shape)"
   ]
  },
  {
   "cell_type": "code",
   "execution_count": 71,
   "metadata": {},
   "outputs": [],
   "source": [
    "#output_dataframe_final = calculateHourlyUsage(output_dataframe_final)"
   ]
  },
  {
   "cell_type": "markdown",
   "metadata": {},
   "source": [
    "将粒度由hour 变为 5 mins"
   ]
  },
  {
   "cell_type": "code",
   "execution_count": 72,
   "metadata": {},
   "outputs": [
    {
     "name": "stdout",
     "output_type": "stream",
     "text": [
      "start 5 mins loading:……\n",
      "(FiveMin unit) started loading\n"
     ]
    },
    {
     "name": "stderr",
     "output_type": "stream",
     "text": [
      "  0%|          | 0/8640 [00:00<?, ?it/s]C:\\Users\\lenovo\\anaconda3\\envs\\google-trace-analysis\\lib\\site-packages\\numpy\\lib\\function_base.py:380: RuntimeWarning: Mean of empty slice.\n",
      "  avg = a.mean(axis)\n",
      "C:\\Users\\lenovo\\anaconda3\\envs\\google-trace-analysis\\lib\\site-packages\\numpy\\core\\_methods.py:170: RuntimeWarning: invalid value encountered in double_scalars\n",
      "  ret = ret.dtype.type(ret / rcount)\n",
      "100%|██████████| 8640/8640 [59:38<00:00,  2.41it/s]"
     ]
    },
    {
     "name": "stdout",
     "output_type": "stream",
     "text": [
      "@@@@@@resultFiveMin--length=     hour no_of_jobs machines  mean_cpu_usage\n",
      "0      0          0        0             NaN\n",
      "0      1          0        0             NaN\n",
      "0      2        145     5018        0.010294\n",
      "0      3       4032    12474        0.017124\n",
      "0      4       4044    12474        0.016372\n",
      "..   ...        ...      ...             ...\n",
      "0   8635          0        0             NaN\n",
      "0   8636          0        0             NaN\n",
      "0   8637          0        0             NaN\n",
      "0   8638          0        0             NaN\n",
      "0   8639          0        0             NaN\n",
      "\n",
      "[8640 rows x 4 columns]\n"
     ]
    },
    {
     "name": "stderr",
     "output_type": "stream",
     "text": [
      "\n"
     ]
    }
   ],
   "source": [
    "output_dataframe_final = calculateFiveMinUsage(output_dataframe_final)"
   ]
  },
  {
   "cell_type": "code",
   "execution_count": 73,
   "metadata": {
    "collapsed": false,
    "pycharm": {
     "name": "#%%\n"
    }
   },
   "outputs": [
    {
     "name": "stdout",
     "output_type": "stream",
     "text": [
      "    hour no_of_jobs machines  mean_cpu_usage\n",
      "0      0          0        0             NaN\n",
      "0      1          0        0             NaN\n",
      "0      2        145     5018        0.010294\n",
      "0      3       4032    12474        0.017124\n",
      "0      4       4044    12474        0.016372\n",
      "..   ...        ...      ...             ...\n",
      "0   8635          0        0             NaN\n",
      "0   8636          0        0             NaN\n",
      "0   8637          0        0             NaN\n",
      "0   8638          0        0             NaN\n",
      "0   8639          0        0             NaN\n",
      "\n",
      "[8640 rows x 4 columns]\n"
     ]
    }
   ],
   "source": [
    "print(output_dataframe_final)"
   ]
  },
  {
   "cell_type": "code",
   "execution_count": 74,
   "metadata": {},
   "outputs": [],
   "source": [
    "output_dataframe_final = output_dataframe_final[output_dataframe_final['hour']<200]"
   ]
  },
  {
   "cell_type": "code",
   "execution_count": 75,
   "metadata": {},
   "outputs": [
    {
     "data": {
      "text/html": [
       "<div>\n",
       "<style scoped>\n",
       "    .dataframe tbody tr th:only-of-type {\n",
       "        vertical-align: middle;\n",
       "    }\n",
       "\n",
       "    .dataframe tbody tr th {\n",
       "        vertical-align: top;\n",
       "    }\n",
       "\n",
       "    .dataframe thead th {\n",
       "        text-align: right;\n",
       "    }\n",
       "</style>\n",
       "<table border=\"1\" class=\"dataframe\">\n",
       "  <thead>\n",
       "    <tr style=\"text-align: right;\">\n",
       "      <th></th>\n",
       "      <th>hour</th>\n",
       "      <th>no_of_jobs</th>\n",
       "      <th>machines</th>\n",
       "      <th>mean_cpu_usage</th>\n",
       "    </tr>\n",
       "  </thead>\n",
       "  <tbody>\n",
       "    <tr>\n",
       "      <th>0</th>\n",
       "      <td>0</td>\n",
       "      <td>0</td>\n",
       "      <td>0</td>\n",
       "      <td>NaN</td>\n",
       "    </tr>\n",
       "    <tr>\n",
       "      <th>0</th>\n",
       "      <td>1</td>\n",
       "      <td>0</td>\n",
       "      <td>0</td>\n",
       "      <td>NaN</td>\n",
       "    </tr>\n",
       "    <tr>\n",
       "      <th>0</th>\n",
       "      <td>2</td>\n",
       "      <td>145</td>\n",
       "      <td>5018</td>\n",
       "      <td>0.010294</td>\n",
       "    </tr>\n",
       "    <tr>\n",
       "      <th>0</th>\n",
       "      <td>3</td>\n",
       "      <td>4032</td>\n",
       "      <td>12474</td>\n",
       "      <td>0.017124</td>\n",
       "    </tr>\n",
       "    <tr>\n",
       "      <th>0</th>\n",
       "      <td>4</td>\n",
       "      <td>4044</td>\n",
       "      <td>12474</td>\n",
       "      <td>0.016372</td>\n",
       "    </tr>\n",
       "    <tr>\n",
       "      <th>...</th>\n",
       "      <td>...</td>\n",
       "      <td>...</td>\n",
       "      <td>...</td>\n",
       "      <td>...</td>\n",
       "    </tr>\n",
       "    <tr>\n",
       "      <th>0</th>\n",
       "      <td>195</td>\n",
       "      <td>4045</td>\n",
       "      <td>12471</td>\n",
       "      <td>0.018932</td>\n",
       "    </tr>\n",
       "    <tr>\n",
       "      <th>0</th>\n",
       "      <td>196</td>\n",
       "      <td>4090</td>\n",
       "      <td>12470</td>\n",
       "      <td>0.019289</td>\n",
       "    </tr>\n",
       "    <tr>\n",
       "      <th>0</th>\n",
       "      <td>197</td>\n",
       "      <td>4073</td>\n",
       "      <td>12473</td>\n",
       "      <td>0.018820</td>\n",
       "    </tr>\n",
       "    <tr>\n",
       "      <th>0</th>\n",
       "      <td>198</td>\n",
       "      <td>4084</td>\n",
       "      <td>12470</td>\n",
       "      <td>0.018244</td>\n",
       "    </tr>\n",
       "    <tr>\n",
       "      <th>0</th>\n",
       "      <td>199</td>\n",
       "      <td>4085</td>\n",
       "      <td>12469</td>\n",
       "      <td>0.019265</td>\n",
       "    </tr>\n",
       "  </tbody>\n",
       "</table>\n",
       "<p>200 rows × 4 columns</p>\n",
       "</div>"
      ],
      "text/plain": [
       "   hour no_of_jobs machines  mean_cpu_usage\n",
       "0     0          0        0             NaN\n",
       "0     1          0        0             NaN\n",
       "0     2        145     5018        0.010294\n",
       "0     3       4032    12474        0.017124\n",
       "0     4       4044    12474        0.016372\n",
       "..  ...        ...      ...             ...\n",
       "0   195       4045    12471        0.018932\n",
       "0   196       4090    12470        0.019289\n",
       "0   197       4073    12473        0.018820\n",
       "0   198       4084    12470        0.018244\n",
       "0   199       4085    12469        0.019265\n",
       "\n",
       "[200 rows x 4 columns]"
      ]
     },
     "execution_count": 75,
     "metadata": {},
     "output_type": "execute_result"
    }
   ],
   "source": [
    "output_dataframe_final"
   ]
  },
  {
   "cell_type": "code",
   "execution_count": 76,
   "metadata": {},
   "outputs": [],
   "source": [
    "X = np.array(output_dataframe_final['mean_cpu_usage'].tolist())"
   ]
  },
  {
   "cell_type": "code",
   "execution_count": 77,
   "metadata": {},
   "outputs": [
    {
     "name": "stdout",
     "output_type": "stream",
     "text": [
      "[       nan        nan 0.01029409 0.01712396 0.01637211 0.01649951\n",
      " 0.01979944 0.01782469 0.02060546 0.01782119 0.01497885 0.01694715\n",
      " 0.01837304 0.0200006  0.01774784 0.01839459 0.01692999 0.01678923\n",
      " 0.01503977 0.01512642 0.01585057 0.01471598 0.01491745 0.01641494\n",
      " 0.01706468 0.0164065  0.01631589 0.01653188 0.01741043 0.01708782\n",
      " 0.01601123 0.0161632  0.01640503 0.01587181 0.01496413 0.01512069\n",
      " 0.01643551 0.01715945 0.01627275 0.01631846 0.01702618 0.01433969\n",
      " 0.01585925 0.01642066 0.0148474  0.01485173 0.01523702 0.01446108\n",
      " 0.01462226 0.01495101 0.01534177 0.0152053  0.01463132 0.01425969\n",
      " 0.01628967 0.01545    0.01469137 0.01556683 0.01422824 0.01465526\n",
      " 0.01434273 0.01485585 0.01526384 0.01480943 0.01441496 0.01643153\n",
      " 0.01482803 0.01525223 0.01464846 0.01530195 0.01492832 0.01438266\n",
      " 0.01407248 0.01404776 0.01425757 0.01507924 0.01399443 0.01355205\n",
      " 0.01236981 0.01304648 0.01395225 0.01450254 0.01434076 0.01413462\n",
      " 0.01409985 0.01498585 0.01472779 0.0148396  0.01560204 0.01479082\n",
      " 0.01411746 0.01588501 0.01553573 0.01537941 0.01625412 0.01424777\n",
      " 0.0171673  0.01735667 0.01702364 0.01732093 0.01591216 0.01694971\n",
      " 0.0159468  0.01619921 0.01602327 0.01626661 0.01562588 0.01628793\n",
      " 0.01323864 0.0177806  0.0167332  0.01839382 0.0179751  0.01732411\n",
      " 0.01643808 0.01600554 0.0156951  0.01646457 0.017136   0.01676775\n",
      " 0.01649182 0.01602207 0.01664155 0.0163221  0.01712626 0.01658199\n",
      " 0.01656814 0.01278931 0.01259456 0.01832282 0.02147322 0.0207944\n",
      " 0.02057169 0.0218221  0.02001913 0.01736189 0.01669302 0.01520703\n",
      " 0.01637131 0.01707396 0.01629726 0.01558712 0.01631713 0.01653827\n",
      " 0.01636465 0.01606812 0.0161729  0.01651452 0.01603771 0.01570834\n",
      " 0.01649165 0.01614782 0.01655769 0.01822114 0.01965648 0.01941799\n",
      " 0.01830096 0.01751388 0.01773863 0.01456294 0.0198978  0.0171271\n",
      " 0.0177771  0.01933762 0.01859994 0.02009712 0.019238   0.01946371\n",
      " 0.01460506 0.02181062 0.02384007 0.02597094 0.02061383 0.01679763\n",
      " 0.01798765 0.01882312 0.01888869 0.01904453 0.01864051 0.01711209\n",
      " 0.02128816 0.02139341 0.01883188 0.01901476 0.01906499 0.01810182\n",
      " 0.01782398 0.01719482 0.01889622 0.01693247 0.01770095 0.0166243\n",
      " 0.01821001 0.01765594 0.01778543 0.01893175 0.01928941 0.01881969\n",
      " 0.01824353 0.01926534]\n"
     ]
    }
   ],
   "source": [
    "X\n",
    "print(X)\n",
    "#print(np.arange(140).shape)\n",
    "#print(np.arange(140).reshape(140,1))\n"
   ]
  },
  {
   "cell_type": "markdown",
   "metadata": {
    "collapsed": false,
    "pycharm": {
     "name": "#%% md\n"
    }
   },
   "source": [
    "Using qisk Quantum NN"
   ]
  },
  {
   "cell_type": "code",
   "execution_count": 78,
   "metadata": {
    "collapsed": false,
    "pycharm": {
     "name": "#%%\n"
    }
   },
   "outputs": [
    {
     "name": "stdout",
     "output_type": "stream",
     "text": [
      "(140,)\n"
     ]
    },
    {
     "ename": "ValueError",
     "evalue": "cannot reshape array of size 200 into shape (140,1)",
     "output_type": "error",
     "traceback": [
      "\u001b[1;31m---------------------------------------------------------------------------\u001b[0m",
      "\u001b[1;31mValueError\u001b[0m                                Traceback (most recent call last)",
      "\u001b[1;32m~\\AppData\\Local\\Temp/ipykernel_30548/3275115194.py\u001b[0m in \u001b[0;36m<module>\u001b[1;34m\u001b[0m\n\u001b[0;32m     55\u001b[0m \u001b[0mprint\u001b[0m\u001b[1;33m(\u001b[0m\u001b[0mnp\u001b[0m\u001b[1;33m.\u001b[0m\u001b[0marange\u001b[0m\u001b[1;33m(\u001b[0m\u001b[1;36m140\u001b[0m\u001b[1;33m)\u001b[0m\u001b[1;33m.\u001b[0m\u001b[0mshape\u001b[0m\u001b[1;33m)\u001b[0m\u001b[1;33m\u001b[0m\u001b[1;33m\u001b[0m\u001b[0m\n\u001b[0;32m     56\u001b[0m \u001b[1;31m# fit to data\u001b[0m\u001b[1;33m\u001b[0m\u001b[1;33m\u001b[0m\u001b[1;33m\u001b[0m\u001b[0m\n\u001b[1;32m---> 57\u001b[1;33m \u001b[0mregressor\u001b[0m\u001b[1;33m.\u001b[0m\u001b[0mfit\u001b[0m\u001b[1;33m(\u001b[0m\u001b[0mnp\u001b[0m\u001b[1;33m.\u001b[0m\u001b[0marange\u001b[0m\u001b[1;33m(\u001b[0m\u001b[1;36m140\u001b[0m\u001b[1;33m)\u001b[0m\u001b[1;33m.\u001b[0m\u001b[0mreshape\u001b[0m\u001b[1;33m(\u001b[0m\u001b[1;36m140\u001b[0m\u001b[1;33m,\u001b[0m\u001b[1;36m1\u001b[0m\u001b[1;33m)\u001b[0m\u001b[1;33m,\u001b[0m \u001b[0mX\u001b[0m\u001b[1;33m)\u001b[0m\u001b[1;33m\u001b[0m\u001b[1;33m\u001b[0m\u001b[0m\n\u001b[0m\u001b[0;32m     58\u001b[0m \u001b[1;31m# return to default figsize\u001b[0m\u001b[1;33m\u001b[0m\u001b[1;33m\u001b[0m\u001b[1;33m\u001b[0m\u001b[0m\n\u001b[0;32m     59\u001b[0m \u001b[0mplt\u001b[0m\u001b[1;33m.\u001b[0m\u001b[0mrcParams\u001b[0m\u001b[1;33m[\u001b[0m\u001b[1;34m\"figure.figsize\"\u001b[0m\u001b[1;33m]\u001b[0m \u001b[1;33m=\u001b[0m \u001b[1;33m(\u001b[0m\u001b[1;36m6\u001b[0m\u001b[1;33m,\u001b[0m \u001b[1;36m4\u001b[0m\u001b[1;33m)\u001b[0m\u001b[1;33m\u001b[0m\u001b[1;33m\u001b[0m\u001b[0m\n",
      "\u001b[1;32m~\\anaconda3\\envs\\google-trace-analysis\\lib\\site-packages\\qiskit_machine_learning\\algorithms\\regressors\\neural_network_regressor.py\u001b[0m in \u001b[0;36mfit\u001b[1;34m(self, X, y)\u001b[0m\n\u001b[0;32m     42\u001b[0m         \u001b[0mobjective\u001b[0m \u001b[1;33m=\u001b[0m \u001b[0mself\u001b[0m\u001b[1;33m.\u001b[0m\u001b[0m_get_objective\u001b[0m\u001b[1;33m(\u001b[0m\u001b[0mfunction\u001b[0m\u001b[1;33m)\u001b[0m\u001b[1;33m\u001b[0m\u001b[1;33m\u001b[0m\u001b[0m\n\u001b[0;32m     43\u001b[0m \u001b[1;33m\u001b[0m\u001b[0m\n\u001b[1;32m---> 44\u001b[1;33m         self._fit_result = self._optimizer.optimize(\n\u001b[0m\u001b[0;32m     45\u001b[0m             \u001b[0mself\u001b[0m\u001b[1;33m.\u001b[0m\u001b[0m_neural_network\u001b[0m\u001b[1;33m.\u001b[0m\u001b[0mnum_weights\u001b[0m\u001b[1;33m,\u001b[0m\u001b[1;33m\u001b[0m\u001b[1;33m\u001b[0m\u001b[0m\n\u001b[0;32m     46\u001b[0m             \u001b[0mobjective\u001b[0m\u001b[1;33m,\u001b[0m\u001b[1;33m\u001b[0m\u001b[1;33m\u001b[0m\u001b[0m\n",
      "\u001b[1;32m~\\anaconda3\\envs\\google-trace-analysis\\lib\\site-packages\\qiskit\\algorithms\\optimizers\\scipy_optimizer.py\u001b[0m in \u001b[0;36moptimize\u001b[1;34m(self, num_vars, objective_function, gradient_function, variable_bounds, initial_point)\u001b[0m\n\u001b[0;32m    138\u001b[0m         )\n\u001b[0;32m    139\u001b[0m \u001b[1;33m\u001b[0m\u001b[0m\n\u001b[1;32m--> 140\u001b[1;33m         res = minimize(\n\u001b[0m\u001b[0;32m    141\u001b[0m             \u001b[0mfun\u001b[0m\u001b[1;33m=\u001b[0m\u001b[0mobjective_function\u001b[0m\u001b[1;33m,\u001b[0m\u001b[1;33m\u001b[0m\u001b[1;33m\u001b[0m\u001b[0m\n\u001b[0;32m    142\u001b[0m             \u001b[0mx0\u001b[0m\u001b[1;33m=\u001b[0m\u001b[0minitial_point\u001b[0m\u001b[1;33m,\u001b[0m\u001b[1;33m\u001b[0m\u001b[1;33m\u001b[0m\u001b[0m\n",
      "\u001b[1;32m~\\anaconda3\\envs\\google-trace-analysis\\lib\\site-packages\\scipy\\optimize\\_minimize.py\u001b[0m in \u001b[0;36mminimize\u001b[1;34m(fun, x0, args, method, jac, hess, hessp, bounds, constraints, tol, callback, options)\u001b[0m\n\u001b[0;32m    617\u001b[0m                                   **options)\n\u001b[0;32m    618\u001b[0m     \u001b[1;32melif\u001b[0m \u001b[0mmeth\u001b[0m \u001b[1;33m==\u001b[0m \u001b[1;34m'l-bfgs-b'\u001b[0m\u001b[1;33m:\u001b[0m\u001b[1;33m\u001b[0m\u001b[1;33m\u001b[0m\u001b[0m\n\u001b[1;32m--> 619\u001b[1;33m         return _minimize_lbfgsb(fun, x0, args, jac, bounds,\n\u001b[0m\u001b[0;32m    620\u001b[0m                                 callback=callback, **options)\n\u001b[0;32m    621\u001b[0m     \u001b[1;32melif\u001b[0m \u001b[0mmeth\u001b[0m \u001b[1;33m==\u001b[0m \u001b[1;34m'tnc'\u001b[0m\u001b[1;33m:\u001b[0m\u001b[1;33m\u001b[0m\u001b[1;33m\u001b[0m\u001b[0m\n",
      "\u001b[1;32m~\\anaconda3\\envs\\google-trace-analysis\\lib\\site-packages\\scipy\\optimize\\lbfgsb.py\u001b[0m in \u001b[0;36m_minimize_lbfgsb\u001b[1;34m(fun, x0, args, jac, bounds, disp, maxcor, ftol, gtol, eps, maxfun, maxiter, iprint, callback, maxls, finite_diff_rel_step, **unknown_options)\u001b[0m\n\u001b[0;32m    304\u001b[0m             \u001b[0miprint\u001b[0m \u001b[1;33m=\u001b[0m \u001b[0mdisp\u001b[0m\u001b[1;33m\u001b[0m\u001b[1;33m\u001b[0m\u001b[0m\n\u001b[0;32m    305\u001b[0m \u001b[1;33m\u001b[0m\u001b[0m\n\u001b[1;32m--> 306\u001b[1;33m     sf = _prepare_scalar_function(fun, x0, jac=jac, args=args, epsilon=eps,\n\u001b[0m\u001b[0;32m    307\u001b[0m                                   \u001b[0mbounds\u001b[0m\u001b[1;33m=\u001b[0m\u001b[0mnew_bounds\u001b[0m\u001b[1;33m,\u001b[0m\u001b[1;33m\u001b[0m\u001b[1;33m\u001b[0m\u001b[0m\n\u001b[0;32m    308\u001b[0m                                   finite_diff_rel_step=finite_diff_rel_step)\n",
      "\u001b[1;32m~\\anaconda3\\envs\\google-trace-analysis\\lib\\site-packages\\scipy\\optimize\\optimize.py\u001b[0m in \u001b[0;36m_prepare_scalar_function\u001b[1;34m(fun, x0, jac, args, bounds, epsilon, finite_diff_rel_step, hess)\u001b[0m\n\u001b[0;32m    259\u001b[0m     \u001b[1;31m# ScalarFunction caches. Reuse of fun(x) during grad\u001b[0m\u001b[1;33m\u001b[0m\u001b[1;33m\u001b[0m\u001b[1;33m\u001b[0m\u001b[0m\n\u001b[0;32m    260\u001b[0m     \u001b[1;31m# calculation reduces overall function evaluations.\u001b[0m\u001b[1;33m\u001b[0m\u001b[1;33m\u001b[0m\u001b[1;33m\u001b[0m\u001b[0m\n\u001b[1;32m--> 261\u001b[1;33m     sf = ScalarFunction(fun, x0, args, grad, hess,\n\u001b[0m\u001b[0;32m    262\u001b[0m                         finite_diff_rel_step, bounds, epsilon=epsilon)\n\u001b[0;32m    263\u001b[0m \u001b[1;33m\u001b[0m\u001b[0m\n",
      "\u001b[1;32m~\\anaconda3\\envs\\google-trace-analysis\\lib\\site-packages\\scipy\\optimize\\_differentiable_functions.py\u001b[0m in \u001b[0;36m__init__\u001b[1;34m(self, fun, x0, args, grad, hess, finite_diff_rel_step, finite_diff_bounds, epsilon)\u001b[0m\n\u001b[0;32m    134\u001b[0m \u001b[1;33m\u001b[0m\u001b[0m\n\u001b[0;32m    135\u001b[0m         \u001b[0mself\u001b[0m\u001b[1;33m.\u001b[0m\u001b[0m_update_fun_impl\u001b[0m \u001b[1;33m=\u001b[0m \u001b[0mupdate_fun\u001b[0m\u001b[1;33m\u001b[0m\u001b[1;33m\u001b[0m\u001b[0m\n\u001b[1;32m--> 136\u001b[1;33m         \u001b[0mself\u001b[0m\u001b[1;33m.\u001b[0m\u001b[0m_update_fun\u001b[0m\u001b[1;33m(\u001b[0m\u001b[1;33m)\u001b[0m\u001b[1;33m\u001b[0m\u001b[1;33m\u001b[0m\u001b[0m\n\u001b[0m\u001b[0;32m    137\u001b[0m \u001b[1;33m\u001b[0m\u001b[0m\n\u001b[0;32m    138\u001b[0m         \u001b[1;31m# Gradient evaluation\u001b[0m\u001b[1;33m\u001b[0m\u001b[1;33m\u001b[0m\u001b[1;33m\u001b[0m\u001b[0m\n",
      "\u001b[1;32m~\\anaconda3\\envs\\google-trace-analysis\\lib\\site-packages\\scipy\\optimize\\_differentiable_functions.py\u001b[0m in \u001b[0;36m_update_fun\u001b[1;34m(self)\u001b[0m\n\u001b[0;32m    224\u001b[0m     \u001b[1;32mdef\u001b[0m \u001b[0m_update_fun\u001b[0m\u001b[1;33m(\u001b[0m\u001b[0mself\u001b[0m\u001b[1;33m)\u001b[0m\u001b[1;33m:\u001b[0m\u001b[1;33m\u001b[0m\u001b[1;33m\u001b[0m\u001b[0m\n\u001b[0;32m    225\u001b[0m         \u001b[1;32mif\u001b[0m \u001b[1;32mnot\u001b[0m \u001b[0mself\u001b[0m\u001b[1;33m.\u001b[0m\u001b[0mf_updated\u001b[0m\u001b[1;33m:\u001b[0m\u001b[1;33m\u001b[0m\u001b[1;33m\u001b[0m\u001b[0m\n\u001b[1;32m--> 226\u001b[1;33m             \u001b[0mself\u001b[0m\u001b[1;33m.\u001b[0m\u001b[0m_update_fun_impl\u001b[0m\u001b[1;33m(\u001b[0m\u001b[1;33m)\u001b[0m\u001b[1;33m\u001b[0m\u001b[1;33m\u001b[0m\u001b[0m\n\u001b[0m\u001b[0;32m    227\u001b[0m             \u001b[0mself\u001b[0m\u001b[1;33m.\u001b[0m\u001b[0mf_updated\u001b[0m \u001b[1;33m=\u001b[0m \u001b[1;32mTrue\u001b[0m\u001b[1;33m\u001b[0m\u001b[1;33m\u001b[0m\u001b[0m\n\u001b[0;32m    228\u001b[0m \u001b[1;33m\u001b[0m\u001b[0m\n",
      "\u001b[1;32m~\\anaconda3\\envs\\google-trace-analysis\\lib\\site-packages\\scipy\\optimize\\_differentiable_functions.py\u001b[0m in \u001b[0;36mupdate_fun\u001b[1;34m()\u001b[0m\n\u001b[0;32m    131\u001b[0m \u001b[1;33m\u001b[0m\u001b[0m\n\u001b[0;32m    132\u001b[0m         \u001b[1;32mdef\u001b[0m \u001b[0mupdate_fun\u001b[0m\u001b[1;33m(\u001b[0m\u001b[1;33m)\u001b[0m\u001b[1;33m:\u001b[0m\u001b[1;33m\u001b[0m\u001b[1;33m\u001b[0m\u001b[0m\n\u001b[1;32m--> 133\u001b[1;33m             \u001b[0mself\u001b[0m\u001b[1;33m.\u001b[0m\u001b[0mf\u001b[0m \u001b[1;33m=\u001b[0m \u001b[0mfun_wrapped\u001b[0m\u001b[1;33m(\u001b[0m\u001b[0mself\u001b[0m\u001b[1;33m.\u001b[0m\u001b[0mx\u001b[0m\u001b[1;33m)\u001b[0m\u001b[1;33m\u001b[0m\u001b[1;33m\u001b[0m\u001b[0m\n\u001b[0m\u001b[0;32m    134\u001b[0m \u001b[1;33m\u001b[0m\u001b[0m\n\u001b[0;32m    135\u001b[0m         \u001b[0mself\u001b[0m\u001b[1;33m.\u001b[0m\u001b[0m_update_fun_impl\u001b[0m \u001b[1;33m=\u001b[0m \u001b[0mupdate_fun\u001b[0m\u001b[1;33m\u001b[0m\u001b[1;33m\u001b[0m\u001b[0m\n",
      "\u001b[1;32m~\\anaconda3\\envs\\google-trace-analysis\\lib\\site-packages\\scipy\\optimize\\_differentiable_functions.py\u001b[0m in \u001b[0;36mfun_wrapped\u001b[1;34m(x)\u001b[0m\n\u001b[0;32m    128\u001b[0m         \u001b[1;32mdef\u001b[0m \u001b[0mfun_wrapped\u001b[0m\u001b[1;33m(\u001b[0m\u001b[0mx\u001b[0m\u001b[1;33m)\u001b[0m\u001b[1;33m:\u001b[0m\u001b[1;33m\u001b[0m\u001b[1;33m\u001b[0m\u001b[0m\n\u001b[0;32m    129\u001b[0m             \u001b[0mself\u001b[0m\u001b[1;33m.\u001b[0m\u001b[0mnfev\u001b[0m \u001b[1;33m+=\u001b[0m \u001b[1;36m1\u001b[0m\u001b[1;33m\u001b[0m\u001b[1;33m\u001b[0m\u001b[0m\n\u001b[1;32m--> 130\u001b[1;33m             \u001b[1;32mreturn\u001b[0m \u001b[0mfun\u001b[0m\u001b[1;33m(\u001b[0m\u001b[0mx\u001b[0m\u001b[1;33m,\u001b[0m \u001b[1;33m*\u001b[0m\u001b[0margs\u001b[0m\u001b[1;33m)\u001b[0m\u001b[1;33m\u001b[0m\u001b[1;33m\u001b[0m\u001b[0m\n\u001b[0m\u001b[0;32m    131\u001b[0m \u001b[1;33m\u001b[0m\u001b[0m\n\u001b[0;32m    132\u001b[0m         \u001b[1;32mdef\u001b[0m \u001b[0mupdate_fun\u001b[0m\u001b[1;33m(\u001b[0m\u001b[1;33m)\u001b[0m\u001b[1;33m:\u001b[0m\u001b[1;33m\u001b[0m\u001b[1;33m\u001b[0m\u001b[0m\n",
      "\u001b[1;32m~\\anaconda3\\envs\\google-trace-analysis\\lib\\site-packages\\qiskit_machine_learning\\algorithms\\trainable_model.py\u001b[0m in \u001b[0;36mobjective\u001b[1;34m(objective_weights)\u001b[0m\n\u001b[0;32m    225\u001b[0m \u001b[1;33m\u001b[0m\u001b[0m\n\u001b[0;32m    226\u001b[0m         \u001b[1;32mdef\u001b[0m \u001b[0mobjective\u001b[0m\u001b[1;33m(\u001b[0m\u001b[0mobjective_weights\u001b[0m\u001b[1;33m)\u001b[0m\u001b[1;33m:\u001b[0m\u001b[1;33m\u001b[0m\u001b[1;33m\u001b[0m\u001b[0m\n\u001b[1;32m--> 227\u001b[1;33m             \u001b[0mobjective_value\u001b[0m \u001b[1;33m=\u001b[0m \u001b[0mfunction\u001b[0m\u001b[1;33m.\u001b[0m\u001b[0mobjective\u001b[0m\u001b[1;33m(\u001b[0m\u001b[0mobjective_weights\u001b[0m\u001b[1;33m)\u001b[0m\u001b[1;33m\u001b[0m\u001b[1;33m\u001b[0m\u001b[0m\n\u001b[0m\u001b[0;32m    228\u001b[0m             \u001b[0mself\u001b[0m\u001b[1;33m.\u001b[0m\u001b[0m_callback\u001b[0m\u001b[1;33m(\u001b[0m\u001b[0mobjective_weights\u001b[0m\u001b[1;33m,\u001b[0m \u001b[0mobjective_value\u001b[0m\u001b[1;33m)\u001b[0m\u001b[1;33m\u001b[0m\u001b[1;33m\u001b[0m\u001b[0m\n\u001b[0;32m    229\u001b[0m             \u001b[1;32mreturn\u001b[0m \u001b[0mobjective_value\u001b[0m\u001b[1;33m\u001b[0m\u001b[1;33m\u001b[0m\u001b[0m\n",
      "\u001b[1;32m~\\anaconda3\\envs\\google-trace-analysis\\lib\\site-packages\\qiskit_machine_learning\\algorithms\\objective_functions.py\u001b[0m in \u001b[0;36mobjective\u001b[1;34m(self, weights)\u001b[0m\n\u001b[0;32m    111\u001b[0m         \u001b[1;31m# predict is of shape (N, 1), where N is a number of samples\u001b[0m\u001b[1;33m\u001b[0m\u001b[1;33m\u001b[0m\u001b[1;33m\u001b[0m\u001b[0m\n\u001b[0;32m    112\u001b[0m         \u001b[0mpredict\u001b[0m \u001b[1;33m=\u001b[0m \u001b[0mself\u001b[0m\u001b[1;33m.\u001b[0m\u001b[0m_neural_network_forward\u001b[0m\u001b[1;33m(\u001b[0m\u001b[0mweights\u001b[0m\u001b[1;33m)\u001b[0m\u001b[1;33m\u001b[0m\u001b[1;33m\u001b[0m\u001b[0m\n\u001b[1;32m--> 113\u001b[1;33m         \u001b[0mtarget\u001b[0m \u001b[1;33m=\u001b[0m \u001b[0mnp\u001b[0m\u001b[1;33m.\u001b[0m\u001b[0marray\u001b[0m\u001b[1;33m(\u001b[0m\u001b[0mself\u001b[0m\u001b[1;33m.\u001b[0m\u001b[0m_y\u001b[0m\u001b[1;33m)\u001b[0m\u001b[1;33m.\u001b[0m\u001b[0mreshape\u001b[0m\u001b[1;33m(\u001b[0m\u001b[0mpredict\u001b[0m\u001b[1;33m.\u001b[0m\u001b[0mshape\u001b[0m\u001b[1;33m)\u001b[0m\u001b[1;33m\u001b[0m\u001b[1;33m\u001b[0m\u001b[0m\n\u001b[0m\u001b[0;32m    114\u001b[0m         \u001b[1;31m# float(...) is for mypy compliance\u001b[0m\u001b[1;33m\u001b[0m\u001b[1;33m\u001b[0m\u001b[1;33m\u001b[0m\u001b[0m\n\u001b[0;32m    115\u001b[0m         \u001b[1;32mreturn\u001b[0m \u001b[0mfloat\u001b[0m\u001b[1;33m(\u001b[0m\u001b[0mnp\u001b[0m\u001b[1;33m.\u001b[0m\u001b[0msum\u001b[0m\u001b[1;33m(\u001b[0m\u001b[0mself\u001b[0m\u001b[1;33m.\u001b[0m\u001b[0m_loss\u001b[0m\u001b[1;33m(\u001b[0m\u001b[0mpredict\u001b[0m\u001b[1;33m,\u001b[0m \u001b[0mtarget\u001b[0m\u001b[1;33m)\u001b[0m\u001b[1;33m)\u001b[0m\u001b[1;33m)\u001b[0m\u001b[1;33m\u001b[0m\u001b[1;33m\u001b[0m\u001b[0m\n",
      "\u001b[1;31mValueError\u001b[0m: cannot reshape array of size 200 into shape (140,1)"
     ]
    }
   ],
   "source": [
    "import numpy as np\n",
    "import matplotlib.pyplot as plt\n",
    "\n",
    "from qiskit import Aer, QuantumCircuit\n",
    "from qiskit.opflow import Z, I, StateFn\n",
    "from qiskit.utils import QuantumInstance\n",
    "from qiskit.circuit import Parameter\n",
    "from qiskit.circuit.library import RealAmplitudes, ZZFeatureMap\n",
    "from qiskit.algorithms.optimizers import COBYLA, L_BFGS_B\n",
    "\n",
    "from qiskit_machine_learning.neural_networks import TwoLayerQNN, CircuitQNN\n",
    "from qiskit_machine_learning.algorithms.classifiers import NeuralNetworkClassifier, VQC\n",
    "from qiskit_machine_learning.algorithms.regressors import NeuralNetworkRegressor, VQR\n",
    "from IPython.display import clear_output\n",
    "\n",
    "\n",
    "quantum_instance = QuantumInstance(Aer.get_backend('aer_simulator'), shots=1024)\n",
    "\n",
    "# callback function that draws a live plot when the .fit() method is called\n",
    "def callback_graph(weights, obj_func_eval):\n",
    "    clear_output(wait=True)\n",
    "    objective_func_vals.append(obj_func_eval)\n",
    "    plt.title(\"Objective function value against iteration\")\n",
    "    plt.xlabel(\"Iteration\")\n",
    "    plt.ylabel(\"Objective function value\")\n",
    "    plt.plot(range(len(objective_func_vals)), objective_func_vals)\n",
    "    plt.show()\n",
    "# create empty array for callback to store evaluations of the objective function\n",
    "objective_func_vals = []\n",
    "plt.rcParams[\"figure.figsize\"] = (12, 6)\n",
    "\n",
    "# construct simple feature map\n",
    "param_x = Parameter('x')\n",
    "feature_map = QuantumCircuit(1, name='fm')\n",
    "feature_map.ry(param_x, 0)\n",
    "\n",
    "# construct simple ansatz\n",
    "param_y = Parameter('y')\n",
    "ansatz = QuantumCircuit(1, name='vf')\n",
    "ansatz.ry(param_y, 0)\n",
    "\n",
    "# construct QNN\n",
    "regression_opflow_qnn = TwoLayerQNN(1, feature_map, ansatz, quantum_instance=quantum_instance)\n",
    "\n",
    "# construct the regressor from the neural network\n",
    "regressor = NeuralNetworkRegressor(neural_network=regression_opflow_qnn,\n",
    "                                   loss='l2',\n",
    "                                   optimizer=L_BFGS_B(),\n",
    "                                   callback=callback_graph)\n",
    "\n",
    "# create empty array for callback to store evaluations of the objective function\n",
    "objective_func_vals = []\n",
    "plt.rcParams[\"figure.figsize\"] = (12, 6)\n",
    "\n",
    "print(np.arange(140).shape)\n",
    "# fit to data\n",
    "regressor.fit(np.arange(140).reshape(140,1), X)\n",
    "# return to default figsize\n",
    "plt.rcParams[\"figure.figsize\"] = (6, 4)\n",
    "# score the result\n",
    "regressor.score(np.arange(140).reshape(140,1), X)"
   ]
  },
  {
   "cell_type": "code",
   "execution_count": null,
   "metadata": {
    "collapsed": false,
    "pycharm": {
     "name": "#%%\n"
    }
   },
   "outputs": [
    {
     "data": {
      "image/png": "[encoded data removed]",
      "text/plain": [
       "<Figure size 432x288 with 1 Axes>"
      ]
     },
     "metadata": {
      "needs_background": "light"
     },
     "output_type": "display_data"
    }
   ],
   "source": [
    "#plot the data\n",
    "plt.plot(np.arange(140).reshape(140,1), X, 'bo')\n",
    "#plot the predicted data\n",
    "plt.plot(np.arange(140).reshape(140,1), regressor.predict(np.arange(140).reshape(140,1)), 'go')\n",
    "plt.show()\n",
    "\n"
   ]
  },
  {
   "cell_type": "markdown",
   "metadata": {
    "pycharm": {
     "name": "#%% md\n"
    }
   },
   "source": [
    "#ARIMA 模型参数拟合"
   ]
  },
  {
   "cell_type": "code",
   "execution_count": null,
   "metadata": {
    "collapsed": false,
    "pycharm": {
     "name": "#%%\n"
    }
   },
   "outputs": [
    {
     "name": "stdout",
     "output_type": "stream",
     "text": [
      "Performing stepwise search to minimize aic\n",
      " ARIMA(2,1,2)(0,0,0)[0] intercept   : AIC=-1428.193, Time=0.29 sec\n",
      " ARIMA(0,1,0)(0,0,0)[0] intercept   : AIC=-1429.872, Time=0.12 sec\n",
      " ARIMA(1,1,0)(0,0,0)[0] intercept   : AIC=-1427.895, Time=0.06 sec\n",
      " ARIMA(0,1,1)(0,0,0)[0] intercept   : AIC=-1427.869, Time=0.13 sec\n",
      " ARIMA(0,1,0)(0,0,0)[0]             : AIC=-1431.829, Time=0.02 sec\n",
      " ARIMA(1,1,1)(0,0,0)[0] intercept   : AIC=-1425.664, Time=0.13 sec\n",
      "\n",
      "Best model:  ARIMA(0,1,0)(0,0,0)[0]          \n",
      "Total fit time: 0.757 seconds\n",
      "(140,)\n",
      "(80,) (60,)\n",
      "[0.018576   0.018589   0.01860199 0.01861498 0.01862798 0.01864097\n",
      " 0.01865396 0.01866696 0.01867995 0.01869294 0.01870593 0.01871893\n",
      " 0.01873192 0.01874491 0.01875791 0.0187709  0.01878389 0.01879689\n",
      " 0.01880988 0.01882287 0.01883587 0.01884886 0.01886185 0.01887485\n",
      " 0.01888784 0.01890083 0.01891383 0.01892682 0.01893981 0.01895281\n",
      " 0.0189658  0.01897879 0.01899178 0.01900478 0.01901777 0.01903076\n",
      " 0.01904376 0.01905675 0.01906974 0.01908274 0.01909573 0.01910872\n",
      " 0.01912172 0.01913471 0.0191477  0.0191607  0.01917369 0.01918668\n",
      " 0.01919968 0.01921267 0.01922566 0.01923865 0.01925165 0.01926464\n",
      " 0.01927763 0.01929063 0.01930362 0.01931661 0.01932961 0.0193426 ]\n",
      "[0.02021539 0.01889404 0.01873533 0.0198003  0.02032871 0.02217466\n",
      " 0.02149575 0.02351722 0.02339261 0.02350719 0.02299058 0.02411201\n",
      " 0.02497637 0.0260961  0.02577828 0.02430513 0.0231448  0.02197199\n",
      " 0.02039678 0.01989584 0.01799695 0.01959192 0.01761098 0.01657975\n",
      " 0.01795268 0.01921797 0.01826257 0.02072519 0.01812186 0.02039097\n",
      " 0.02120128 0.02278463 0.02141702 0.02128256 0.02175604 0.02075926\n",
      " 0.01973341 0.02085194 0.01955341 0.01883392 0.01814132 0.02140858\n",
      " 0.01895998 0.0191914  0.01928322 0.02083527 0.02033639 0.02061273\n",
      " 0.02126936 0.01943756 0.02064773 0.0206057  0.02044421 0.02195673\n",
      " 0.02200812 0.02343535 0.02200349 0.02309038 0.02185048 0.02080535]\n"
     ]
    },
    {
     "name": "stderr",
     "output_type": "stream",
     "text": [
      "C:\\Users\\lenovo\\anaconda3\\envs\\google-trace-analysis\\lib\\site-packages\\statsmodels\\tsa\\arima_model.py:472: FutureWarning: \n",
      "statsmodels.tsa.arima_model.ARMA and statsmodels.tsa.arima_model.ARIMA have\n",
      "been deprecated in favor of statsmodels.tsa.arima.model.ARIMA (note the .\n",
      "between arima and model) and\n",
      "statsmodels.tsa.SARIMAX. These will be removed after the 0.12 release.\n",
      "\n",
      "statsmodels.tsa.arima.model.ARIMA makes use of the statespace framework and\n",
      "is both well tested and maintained.\n",
      "\n",
      "To silence this warning and continue using ARMA and ARIMA until they are\n",
      "removed, use:\n",
      "\n",
      "import warnings\n",
      "warnings.filterwarnings('ignore', 'statsmodels.tsa.arima_model.ARMA',\n",
      "                        FutureWarning)\n",
      "warnings.filterwarnings('ignore', 'statsmodels.tsa.arima_model.ARIMA',\n",
      "                        FutureWarning)\n",
      "\n",
      "  warnings.warn(ARIMA_DEPRECATION_WARN, FutureWarning)\n"
     ]
    },
    {
     "data": {
      "text/plain": [
       "[<matplotlib.lines.Line2D at 0x1c127bb03d0>]"
      ]
     },
     "execution_count": 15,
     "metadata": {},
     "output_type": "execute_result"
    },
    {
     "data": {
      "image/png": "[encoded data removed]",
      "text/plain": [
       "<Figure size 432x288 with 1 Axes>"
      ]
     },
     "metadata": {
      "needs_background": "light"
     },
     "output_type": "display_data"
    }
   ],
   "source": [
    "# 只用84个数据进行拟合，拟合并不是很理想\n",
    "# 1）扩充数据规模，预处理，规整数据；2）神经网络方法，3）量子神经网络的方法\n",
    "from pmdarima import auto_arima\n",
    "stepwise_fit = auto_arima(X, trace=True, suppress_warnings=True)\n",
    "# 得出结果 Best model:  ARIMA(1,0,3)(0,0,0)[0] intercept\n",
    "#Total fit time: 4.207 seconds\n",
    "\n",
    "\n",
    "# 训练ARIMA的数据集分割，训练集+测试集\n",
    "print (X.shape)\n",
    "trainSet_arima,testSet_arima = np.split(X,[80])\n",
    "#testSet_arima = X.iiloc[-20:]\n",
    "print(trainSet_arima.shape, testSet_arima.shape)\n",
    "\n",
    "from statsmodels.tsa.arima_model import ARIMA\n",
    "model=ARIMA(trainSet_arima,order=(0,1,0))\n",
    "model=model.fit()\n",
    "model.summary()\n",
    "\n",
    "#检查how good of the model\n",
    "start =len(trainSet_arima)\n",
    "end = start + len(testSet_arima) - 1\n",
    "pred = model.predict(start=start, end=end, typ = 'levels')\n",
    "#pred.plot(legend = True)\n",
    "#testSet_arima.plot(legend = True)\n",
    "print(pred)\n",
    "print(testSet_arima)\n",
    "\n",
    "plt.plot(np.arange(80, 140), testSet_arima, label='Actual_value', alpha=0.5)\n",
    "plt.plot(np.arange(80, 140), pred, c='r', label='Predicted_EWMA', alpha=0.5)"
   ]
  },
  {
   "cell_type": "markdown",
   "metadata": {
    "pycharm": {
     "name": "#%% md\n"
    }
   },
   "source": [
    "# Time Series"
   ]
  },
  {
   "cell_type": "code",
   "execution_count": null,
   "metadata": {
    "collapsed": false,
    "pycharm": {
     "name": "#%%\n"
    }
   },
   "outputs": [
    {
     "data": {
      "image/png": "[encoded data removed]",
      "text/plain": [
       "<Figure size 432x288 with 1 Axes>"
      ]
     },
     "metadata": {
      "needs_background": "light"
     },
     "output_type": "display_data"
    },
    {
     "name": "stdout",
     "output_type": "stream",
     "text": [
      "EWMA error:  2.375324376963549 %\n",
      "AUTO REG error:  7.648123792332566 %\n"
     ]
    }
   ],
   "source": [
    "## helper functions\n",
    "## in both the functions t is the current value\n",
    "\n",
    "def EWMA(X, t, x_t_hat=None, alpha=0.5): #,默认0.5,, 如果alpha->0, more weight to older data, if alpha->1, more weight to newer data\n",
    "    if t == 0:    \n",
    "        return alpha*X[t] * (1-alpha)*X[t]\n",
    "    if x_t_hat:\n",
    "        return alpha*X[t] + (1-alpha)*x_t_hat\n",
    "    else:\n",
    "        return alpha*X[t] + (1-alpha)*EWMA(X, t-1, None, alpha=alpha)\n",
    "\n",
    "def seasonal_observed(X, t, season=144):\n",
    "    return X[t-season+1]\n",
    "\n",
    "\n",
    "class AutoRegression(object):\n",
    "    def __init__(self, p=3, X=None):\n",
    "        self.p = p\n",
    "        self.X = X\n",
    "        self.n = len(X)\n",
    "        self.beta = np.ones((p, 1))/(p+1)\n",
    "        self.LR_solver = LinearRegression(n_jobs=-1, fit_intercept=False)\n",
    "        \n",
    "    def get_features(self, start=0, end=-1):\n",
    "        A = []\n",
    "        for i in range(start, end-self.p):\n",
    "            A.append(self.X[i:(i+self.p)])\n",
    "\n",
    "        A = np.array(A)\n",
    "        n = A.shape[0]\n",
    "        A = np.hstack((np.ones((n,1)), A))\n",
    "        return A\n",
    "        \n",
    "    def fit(self, end=-1): ## use 'end' inside, for our eg end = 577\n",
    "        features = self.get_features(0, end)\n",
    "        labels = np.array(self.X[self.p:end])\n",
    "        self.LR_solver.fit(features, labels)\n",
    "    \n",
    "    def predict(self, t): ## t is the value we want to predict, same as the previous 'end' = 577\n",
    "        features = self.get_features(t-self.p-1, t)\n",
    "        return self.LR_solver.predict(features)\n",
    "\n",
    "# 起点非24开始，加一个变量\n",
    "delta = 0\n",
    "\n",
    "def plotGraph(X,pred_ewma,pred_auto):\n",
    "    plt.xlabel('Index', fontsize=15)\n",
    "    plt.ylabel('Sample Value', fontsize=15)\n",
    "    plt.plot(np.arange(24 + delta, 84), X, label='Actual_value', alpha=0.8)\n",
    "    plt.plot(np.arange(24 + delta, 84), pred_ewma, c='r', label='Predicted_EWMA', alpha=0.5)\n",
    "    plt.plot(np.arange(24 + delta, 84), pred_auto, c='g', label='Predicted_AR', alpha=0.6)\n",
    "\n",
    "    plt.legend(fontsize=10)\n",
    "    plt.show()\n",
    "\n",
    "def errorCalc(actual,predict):\n",
    "    return (np.abs(predict-actual)*100/actual).mean()\n",
    "    \n",
    "def calcTimeSeries(X):\n",
    "    ar_model = AutoRegression(p=23 + delta, X=X)\n",
    "    pred_auto = []\n",
    "    for i in range(24 + delta, len(X)):\n",
    "        ar_model.fit(end=i)\n",
    "        pred_auto.append(ar_model.predict(t=i))\n",
    "\n",
    "    pred_auto = np.array(pred_auto).squeeze()\n",
    "    \n",
    "    y_t_hat = X[23 + delta]\n",
    "    alpha = 0.7\n",
    "    pred_ewma = []\n",
    "\n",
    "    for i in range(24 + delta, len(X)):\n",
    "        y_t_hat = EWMA(X, i, y_t_hat, alpha)\n",
    "        pred_ewma.append(y_t_hat)\n",
    "    \n",
    "    pred_ewma = np.array(pred_ewma)\n",
    "#     print X[24]\n",
    "#     print pred_auto\n",
    "#     print pred_ewma\n",
    "    y=[]\n",
    "    for i in range(24 + delta,len(X)):\n",
    "        y.append(X[i])\n",
    "    X=y\n",
    "    plotGraph(X,pred_ewma,pred_auto)\n",
    "    print (\"EWMA error: \",errorCalc(X,pred_ewma),\"%\")\n",
    "    print (\"AUTO REG error: \",errorCalc(X,pred_auto),\"%\")\n",
    "\n",
    "\n",
    "calcTimeSeries(X)"
   ]
  },
  {
   "cell_type": "code",
   "execution_count": null,
   "metadata": {},
   "outputs": [
    {
     "name": "stdout",
     "output_type": "stream",
     "text": [
      "[0.01753654 0.01671724 0.01628377 0.01571072 0.01498057 0.01495185\n",
      " 0.01394167 0.01502232 0.01649895 0.01657997 0.01664338 0.01745756\n",
      " 0.01696358 0.0181543  0.01921209 0.0185627  0.0188185  0.01891544\n",
      " 0.02145261 0.02142198 0.01988755 0.02009669 0.02083384 0.01824115\n",
      " 0.01937279 0.01865439 0.01282313 0.00946815 0.00866318 0.00976388\n",
      " 0.00873009 0.01345372 0.01627282 0.01631837 0.01653781 0.01640791\n",
      " 0.01659396 0.01794766 0.01857603 0.01922389 0.01976533 0.01984754\n",
      " 0.01941553 0.02035863 0.01922068 0.01853696 0.01932489 0.01774829\n",
      " 0.01787929 0.01776996 0.0166457  0.01677423 0.01488547 0.0144224\n",
      " 0.01426421 0.01522806 0.01618755 0.01933787 0.01917755 0.02088414\n",
      " 0.019842   0.01961764 0.0209591  0.0218979  0.02340094 0.02287934\n",
      " 0.02161878 0.02146912 0.01879018 0.01769925 0.01768853 0.01753083\n",
      " 0.01769753 0.01942874 0.01948125 0.02148444 0.01929276 0.01913444\n",
      " 0.0195879  0.01856301 0.02021539 0.01889404 0.01873533 0.0198003\n",
      " 0.02032871 0.02217466 0.02149575 0.02351722 0.02339261 0.02350719\n",
      " 0.02299058 0.02411201 0.02497637 0.0260961  0.02577828 0.02430513\n",
      " 0.0231448  0.02197199 0.02039678 0.01989584 0.01799695 0.01959192\n",
      " 0.01761098 0.01657975 0.01795268 0.01921797 0.01826257 0.02072519\n",
      " 0.01812186 0.02039097 0.02120128 0.02278463 0.02141702 0.02128256\n",
      " 0.02175604 0.02075926 0.01973341 0.02085194 0.01955341 0.01883392\n",
      " 0.01814132 0.02140858 0.01895998 0.0191914  0.01928322 0.02083527\n",
      " 0.02033639 0.02061273 0.02126936 0.01943756 0.02064773 0.0206057\n",
      " 0.02044421 0.02195673 0.02200812 0.02343535 0.02200349 0.02309038\n",
      " 0.02185048 0.02080535]\n"
     ]
    }
   ],
   "source": [
    "print (X)"
   ]
  },
  {
   "cell_type": "code",
   "execution_count": null,
   "metadata": {},
   "outputs": [],
   "source": []
  },
  {
   "cell_type": "code",
   "execution_count": null,
   "metadata": {},
   "outputs": [],
   "source": []
  },
  {
   "cell_type": "code",
   "execution_count": null,
   "metadata": {},
   "outputs": [],
   "source": []
  },
  {
   "cell_type": "code",
   "execution_count": null,
   "metadata": {},
   "outputs": [],
   "source": []
  },
  {
   "cell_type": "code",
   "execution_count": null,
   "metadata": {},
   "outputs": [],
   "source": []
  },
  {
   "cell_type": "code",
   "execution_count": null,
   "metadata": {},
   "outputs": [],
   "source": []
  }
 ],
 "metadata": {
  "interpreter": {
   "hash": "7513e9064c256a006195ec957517e37803dbcf086ddba3a66619e9b019ab589c"
  },
  "kernelspec": {
   "display_name": "PyCharm (google-trace-analysis)",
   "language": "python",
   "name": "python3"
  },
  "language_info": {
   "codemirror_mode": {
    "name": "ipython",
    "version": 3
   },
   "file_extension": ".py",
   "mimetype": "text/x-python",
   "name": "python",
   "nbconvert_exporter": "python",
   "pygments_lexer": "ipython3",
   "version": "3.8.10"
  }
 },
 "nbformat": 4,
 "nbformat_minor": 2
}
