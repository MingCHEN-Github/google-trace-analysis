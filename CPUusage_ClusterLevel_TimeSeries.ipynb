{
 "cells": [
  {
   "cell_type": "code",
   "execution_count": 1,
   "metadata": {},
   "outputs": [],
   "source": [
    "from scipy import integrate\n",
    "\n",
    "import pandas as pd\n",
    "import numpy as np\n",
    "import os\n",
    "import pickle as pkl\n",
    "import h5py\n",
    "import datetime\n",
    "from datetime import timedelta\n",
    "import matplotlib.pyplot as plt\n",
    "from tqdm import tqdm\n",
    "import matplotlib\n",
    "import numpy as np\n",
    "from sklearn.linear_model import LinearRegression\n",
    "import matplotlib.pyplot as plt"
   ]
  },
  {
   "cell_type": "code",
   "execution_count": 65,
   "metadata": {},
   "outputs": [
    {
     "name": "stdout",
     "output_type": "stream",
     "text": [
      "2011-05-02 09:05:58\n"
     ]
    },
    {
     "data": {
      "text/plain": "1"
     },
     "execution_count": 65,
     "metadata": {},
     "output_type": "execute_result"
    }
   ],
   "source": [
    "def calculateHourlyUsage(data):\n",
    "    cols = ['hour','no_of_jobs','machines', 'mean_cpu_usage']\n",
    "    result = pd.DataFrame(columns=cols)\n",
    "    print(\"started loading\")\n",
    "    for i in tqdm(range(30 * 24 )):\n",
    "        range_min = i * 3600 * (10**6) # 扩大数据量，以6分钟为一个粒度？\n",
    "        range_max = (i + 1) * 3600 * (10**6)\n",
    "        jobs_of_hour = data[(data['end_time'] >= range_min) & (data['end_time'] < range_max)]\n",
    "        no_of_jobs = len(jobs_of_hour['job_id'].unique())\n",
    "        avg_cpu = np.average(jobs_of_hour['mean_cpu_usage'])\n",
    "        machines = len(jobs_of_hour['machine_id'].unique())\n",
    "        output_data = pd.DataFrame(columns=cols,data=[[i,no_of_jobs,machines, avg_cpu]])\n",
    "        result = result.append(output_data)\n",
    "    return result\n",
    "def hour_to_day(hour_input):\n",
    "    start_date = datetime.datetime(2011, 5, 1, 19, 0)\n",
    "    datee = start_date + timedelta(microseconds = hour_input)\n",
    "    print (datee)\n",
    "    return datee.day - start_date.day\n",
    "\n",
    "hour_to_day(50758000000)\n"
   ]
  },
  {
   "cell_type": "code",
   "execution_count": 3,
   "metadata": {},
   "outputs": [],
   "source": [
    "#usage_dir = \"F:\\\\google-cluster2011\\\\task_usage\\\\\"\n",
    "#data_dir = \"./data/task_usage/\"\n",
    "data_dir = \"F:\\\\google-cluster2011\\\\task_usage\\\\\"\n",
    "\n",
    "task_usage_header = ['start_time','end_time','job_id','task_index','machine_id', 'mean_cpu_usage',\n",
    "                     'canon_memory_usage', 'assign_memory_usage', 'unmapped_cache', 'total_cache', \n",
    "                     'max_mem', 'mean_io', 'mean_space', 'max_cpu', 'max_io', 'cpi', 'mai', 'sample',\n",
    "                     'agg_type', 'sample_cpu_usage']"
   ]
  },
  {
   "cell_type": "code",
   "execution_count": 4,
   "metadata": {},
   "outputs": [
    {
     "name": "stderr",
     "output_type": "stream",
     "text": [
      "  0%|          | 0/100 [00:00<?, ?it/s]"
     ]
    },
    {
     "name": "stdout",
     "output_type": "stream",
     "text": [
      "00000\n"
     ]
    },
    {
     "name": "stderr",
     "output_type": "stream",
     "text": [
      "  1%|          | 1/100 [00:07<12:11,  7.39s/it]"
     ]
    },
    {
     "name": "stdout",
     "output_type": "stream",
     "text": [
      "00001\n"
     ]
    },
    {
     "name": "stderr",
     "output_type": "stream",
     "text": [
      "  2%|▏         | 2/100 [00:14<12:02,  7.38s/it]"
     ]
    },
    {
     "name": "stdout",
     "output_type": "stream",
     "text": [
      "00002\n"
     ]
    },
    {
     "name": "stderr",
     "output_type": "stream",
     "text": [
      "  3%|▎         | 3/100 [00:21<11:47,  7.29s/it]"
     ]
    },
    {
     "name": "stdout",
     "output_type": "stream",
     "text": [
      "00003\n"
     ]
    },
    {
     "name": "stderr",
     "output_type": "stream",
     "text": [
      "  4%|▍         | 4/100 [00:28<11:27,  7.16s/it]"
     ]
    },
    {
     "name": "stdout",
     "output_type": "stream",
     "text": [
      "00004\n"
     ]
    },
    {
     "name": "stderr",
     "output_type": "stream",
     "text": [
      "  5%|▌         | 5/100 [00:36<11:46,  7.43s/it]"
     ]
    },
    {
     "name": "stdout",
     "output_type": "stream",
     "text": [
      "00005\n"
     ]
    },
    {
     "name": "stderr",
     "output_type": "stream",
     "text": [
      "  6%|▌         | 6/100 [00:44<11:53,  7.59s/it]"
     ]
    },
    {
     "name": "stdout",
     "output_type": "stream",
     "text": [
      "00006\n"
     ]
    },
    {
     "name": "stderr",
     "output_type": "stream",
     "text": [
      "  7%|▋         | 7/100 [00:52<11:40,  7.53s/it]"
     ]
    },
    {
     "name": "stdout",
     "output_type": "stream",
     "text": [
      "00007\n"
     ]
    },
    {
     "name": "stderr",
     "output_type": "stream",
     "text": [
      "  8%|▊         | 8/100 [00:59<11:37,  7.58s/it]"
     ]
    },
    {
     "name": "stdout",
     "output_type": "stream",
     "text": [
      "00008\n"
     ]
    },
    {
     "name": "stderr",
     "output_type": "stream",
     "text": [
      "  9%|▉         | 9/100 [01:07<11:23,  7.51s/it]"
     ]
    },
    {
     "name": "stdout",
     "output_type": "stream",
     "text": [
      "00009\n"
     ]
    },
    {
     "name": "stderr",
     "output_type": "stream",
     "text": [
      " 10%|█         | 10/100 [01:15<11:25,  7.62s/it]"
     ]
    },
    {
     "name": "stdout",
     "output_type": "stream",
     "text": [
      "00010\n"
     ]
    },
    {
     "name": "stderr",
     "output_type": "stream",
     "text": [
      " 11%|█         | 11/100 [01:22<11:09,  7.52s/it]"
     ]
    },
    {
     "name": "stdout",
     "output_type": "stream",
     "text": [
      "00011\n"
     ]
    },
    {
     "name": "stderr",
     "output_type": "stream",
     "text": [
      " 12%|█▏        | 12/100 [01:30<11:11,  7.63s/it]"
     ]
    },
    {
     "name": "stdout",
     "output_type": "stream",
     "text": [
      "00012\n"
     ]
    },
    {
     "name": "stderr",
     "output_type": "stream",
     "text": [
      " 13%|█▎        | 13/100 [01:37<11:02,  7.62s/it]"
     ]
    },
    {
     "name": "stdout",
     "output_type": "stream",
     "text": [
      "00013\n"
     ]
    },
    {
     "name": "stderr",
     "output_type": "stream",
     "text": [
      " 14%|█▍        | 14/100 [01:45<10:44,  7.50s/it]"
     ]
    },
    {
     "name": "stdout",
     "output_type": "stream",
     "text": [
      "00014\n"
     ]
    },
    {
     "name": "stderr",
     "output_type": "stream",
     "text": [
      " 15%|█▌        | 15/100 [01:53<11:06,  7.84s/it]"
     ]
    },
    {
     "name": "stdout",
     "output_type": "stream",
     "text": [
      "00015\n"
     ]
    },
    {
     "name": "stderr",
     "output_type": "stream",
     "text": [
      " 16%|█▌        | 16/100 [02:01<11:07,  7.95s/it]"
     ]
    },
    {
     "name": "stdout",
     "output_type": "stream",
     "text": [
      "00016\n"
     ]
    },
    {
     "name": "stderr",
     "output_type": "stream",
     "text": [
      " 17%|█▋        | 17/100 [02:09<10:58,  7.93s/it]"
     ]
    },
    {
     "name": "stdout",
     "output_type": "stream",
     "text": [
      "00017\n"
     ]
    },
    {
     "name": "stderr",
     "output_type": "stream",
     "text": [
      " 18%|█▊        | 18/100 [02:18<11:07,  8.14s/it]"
     ]
    },
    {
     "name": "stdout",
     "output_type": "stream",
     "text": [
      "00018\n"
     ]
    },
    {
     "name": "stderr",
     "output_type": "stream",
     "text": [
      " 19%|█▉        | 19/100 [02:28<11:48,  8.74s/it]"
     ]
    },
    {
     "name": "stdout",
     "output_type": "stream",
     "text": [
      "00019\n"
     ]
    },
    {
     "name": "stderr",
     "output_type": "stream",
     "text": [
      " 20%|██        | 20/100 [02:41<13:26, 10.08s/it]"
     ]
    },
    {
     "name": "stdout",
     "output_type": "stream",
     "text": [
      "00020\n"
     ]
    },
    {
     "name": "stderr",
     "output_type": "stream",
     "text": [
      " 21%|██        | 21/100 [02:56<15:11, 11.54s/it]"
     ]
    },
    {
     "name": "stdout",
     "output_type": "stream",
     "text": [
      "00021\n"
     ]
    },
    {
     "name": "stderr",
     "output_type": "stream",
     "text": [
      " 22%|██▏       | 22/100 [03:12<16:31, 12.72s/it]"
     ]
    },
    {
     "name": "stdout",
     "output_type": "stream",
     "text": [
      "00022\n"
     ]
    },
    {
     "name": "stderr",
     "output_type": "stream",
     "text": [
      " 23%|██▎       | 23/100 [03:24<16:05, 12.53s/it]"
     ]
    },
    {
     "name": "stdout",
     "output_type": "stream",
     "text": [
      "00023\n"
     ]
    },
    {
     "name": "stderr",
     "output_type": "stream",
     "text": [
      " 24%|██▍       | 24/100 [03:32<14:05, 11.12s/it]"
     ]
    },
    {
     "name": "stdout",
     "output_type": "stream",
     "text": [
      "00024\n"
     ]
    },
    {
     "name": "stderr",
     "output_type": "stream",
     "text": [
      " 25%|██▌       | 25/100 [03:40<12:52, 10.30s/it]"
     ]
    },
    {
     "name": "stdout",
     "output_type": "stream",
     "text": [
      "00025\n"
     ]
    },
    {
     "name": "stderr",
     "output_type": "stream",
     "text": [
      " 26%|██▌       | 26/100 [03:48<11:57,  9.70s/it]"
     ]
    },
    {
     "name": "stdout",
     "output_type": "stream",
     "text": [
      "00026\n"
     ]
    },
    {
     "name": "stderr",
     "output_type": "stream",
     "text": [
      " 27%|██▋       | 27/100 [03:57<11:32,  9.48s/it]"
     ]
    },
    {
     "name": "stdout",
     "output_type": "stream",
     "text": [
      "00027\n"
     ]
    },
    {
     "name": "stderr",
     "output_type": "stream",
     "text": [
      " 28%|██▊       | 28/100 [04:06<11:01,  9.18s/it]"
     ]
    },
    {
     "name": "stdout",
     "output_type": "stream",
     "text": [
      "00028\n"
     ]
    },
    {
     "name": "stderr",
     "output_type": "stream",
     "text": [
      " 29%|██▉       | 29/100 [04:14<10:38,  9.00s/it]"
     ]
    },
    {
     "name": "stdout",
     "output_type": "stream",
     "text": [
      "00029\n"
     ]
    },
    {
     "name": "stderr",
     "output_type": "stream",
     "text": [
      " 30%|███       | 30/100 [04:23<10:25,  8.93s/it]"
     ]
    },
    {
     "name": "stdout",
     "output_type": "stream",
     "text": [
      "00030\n"
     ]
    },
    {
     "name": "stderr",
     "output_type": "stream",
     "text": [
      " 31%|███       | 31/100 [04:32<10:17,  8.95s/it]"
     ]
    },
    {
     "name": "stdout",
     "output_type": "stream",
     "text": [
      "00031\n"
     ]
    },
    {
     "name": "stderr",
     "output_type": "stream",
     "text": [
      " 32%|███▏      | 32/100 [04:40<09:56,  8.77s/it]"
     ]
    },
    {
     "name": "stdout",
     "output_type": "stream",
     "text": [
      "00032\n"
     ]
    },
    {
     "name": "stderr",
     "output_type": "stream",
     "text": [
      " 33%|███▎      | 33/100 [04:49<09:43,  8.72s/it]"
     ]
    },
    {
     "name": "stdout",
     "output_type": "stream",
     "text": [
      "00033\n"
     ]
    },
    {
     "name": "stderr",
     "output_type": "stream",
     "text": [
      " 34%|███▍      | 34/100 [04:57<09:28,  8.61s/it]"
     ]
    },
    {
     "name": "stdout",
     "output_type": "stream",
     "text": [
      "00034\n"
     ]
    },
    {
     "name": "stderr",
     "output_type": "stream",
     "text": [
      " 35%|███▌      | 35/100 [05:07<09:46,  9.03s/it]"
     ]
    },
    {
     "name": "stdout",
     "output_type": "stream",
     "text": [
      "00035\n"
     ]
    },
    {
     "name": "stderr",
     "output_type": "stream",
     "text": [
      " 36%|███▌      | 36/100 [05:17<09:57,  9.34s/it]"
     ]
    },
    {
     "name": "stdout",
     "output_type": "stream",
     "text": [
      "00036\n"
     ]
    },
    {
     "name": "stderr",
     "output_type": "stream",
     "text": [
      " 37%|███▋      | 37/100 [05:27<09:59,  9.51s/it]"
     ]
    },
    {
     "name": "stdout",
     "output_type": "stream",
     "text": [
      "00037\n"
     ]
    },
    {
     "name": "stderr",
     "output_type": "stream",
     "text": [
      " 38%|███▊      | 38/100 [05:37<09:55,  9.61s/it]"
     ]
    },
    {
     "name": "stdout",
     "output_type": "stream",
     "text": [
      "00038\n"
     ]
    },
    {
     "name": "stderr",
     "output_type": "stream",
     "text": [
      " 39%|███▉      | 39/100 [05:47<09:45,  9.61s/it]"
     ]
    },
    {
     "name": "stdout",
     "output_type": "stream",
     "text": [
      "00039\n"
     ]
    },
    {
     "name": "stderr",
     "output_type": "stream",
     "text": [
      " 40%|████      | 40/100 [05:57<09:46,  9.78s/it]"
     ]
    },
    {
     "name": "stdout",
     "output_type": "stream",
     "text": [
      "00040\n"
     ]
    },
    {
     "name": "stderr",
     "output_type": "stream",
     "text": [
      " 41%|████      | 41/100 [06:06<09:21,  9.52s/it]"
     ]
    },
    {
     "name": "stdout",
     "output_type": "stream",
     "text": [
      "00041\n"
     ]
    },
    {
     "name": "stderr",
     "output_type": "stream",
     "text": [
      " 42%|████▏     | 42/100 [06:15<08:59,  9.29s/it]"
     ]
    },
    {
     "name": "stdout",
     "output_type": "stream",
     "text": [
      "00042\n"
     ]
    },
    {
     "name": "stderr",
     "output_type": "stream",
     "text": [
      " 43%|████▎     | 43/100 [06:24<08:43,  9.19s/it]"
     ]
    },
    {
     "name": "stdout",
     "output_type": "stream",
     "text": [
      "00043\n"
     ]
    },
    {
     "name": "stderr",
     "output_type": "stream",
     "text": [
      " 44%|████▍     | 44/100 [06:32<08:28,  9.08s/it]"
     ]
    },
    {
     "name": "stdout",
     "output_type": "stream",
     "text": [
      "00044\n"
     ]
    },
    {
     "name": "stderr",
     "output_type": "stream",
     "text": [
      " 45%|████▌     | 45/100 [06:42<08:22,  9.13s/it]"
     ]
    },
    {
     "name": "stdout",
     "output_type": "stream",
     "text": [
      "00045\n"
     ]
    },
    {
     "name": "stderr",
     "output_type": "stream",
     "text": [
      " 46%|████▌     | 46/100 [06:50<08:05,  8.99s/it]"
     ]
    },
    {
     "name": "stdout",
     "output_type": "stream",
     "text": [
      "00046\n"
     ]
    },
    {
     "name": "stderr",
     "output_type": "stream",
     "text": [
      " 47%|████▋     | 47/100 [06:58<07:40,  8.69s/it]"
     ]
    },
    {
     "name": "stdout",
     "output_type": "stream",
     "text": [
      "00047\n"
     ]
    },
    {
     "name": "stderr",
     "output_type": "stream",
     "text": [
      " 48%|████▊     | 48/100 [07:06<07:23,  8.53s/it]"
     ]
    },
    {
     "name": "stdout",
     "output_type": "stream",
     "text": [
      "00048\n"
     ]
    },
    {
     "name": "stderr",
     "output_type": "stream",
     "text": [
      " 49%|████▉     | 49/100 [07:16<07:33,  8.88s/it]"
     ]
    },
    {
     "name": "stdout",
     "output_type": "stream",
     "text": [
      "00049\n"
     ]
    },
    {
     "name": "stderr",
     "output_type": "stream",
     "text": [
      " 50%|█████     | 50/100 [07:27<07:46,  9.34s/it]"
     ]
    },
    {
     "name": "stdout",
     "output_type": "stream",
     "text": [
      "00050\n"
     ]
    },
    {
     "name": "stderr",
     "output_type": "stream",
     "text": [
      " 51%|█████     | 51/100 [07:36<07:35,  9.30s/it]"
     ]
    },
    {
     "name": "stdout",
     "output_type": "stream",
     "text": [
      "00051\n"
     ]
    },
    {
     "name": "stderr",
     "output_type": "stream",
     "text": [
      " 52%|█████▏    | 52/100 [07:45<07:31,  9.41s/it]"
     ]
    },
    {
     "name": "stdout",
     "output_type": "stream",
     "text": [
      "00052\n"
     ]
    },
    {
     "name": "stderr",
     "output_type": "stream",
     "text": [
      " 53%|█████▎    | 53/100 [07:55<07:20,  9.37s/it]"
     ]
    },
    {
     "name": "stdout",
     "output_type": "stream",
     "text": [
      "00053\n"
     ]
    },
    {
     "name": "stderr",
     "output_type": "stream",
     "text": [
      " 54%|█████▍    | 54/100 [08:05<07:20,  9.58s/it]"
     ]
    },
    {
     "name": "stdout",
     "output_type": "stream",
     "text": [
      "00054\n"
     ]
    },
    {
     "name": "stderr",
     "output_type": "stream",
     "text": [
      " 55%|█████▌    | 55/100 [08:14<07:00,  9.35s/it]"
     ]
    },
    {
     "name": "stdout",
     "output_type": "stream",
     "text": [
      "00055\n"
     ]
    },
    {
     "name": "stderr",
     "output_type": "stream",
     "text": [
      " 56%|█████▌    | 56/100 [08:23<06:48,  9.28s/it]"
     ]
    },
    {
     "name": "stdout",
     "output_type": "stream",
     "text": [
      "00056\n"
     ]
    },
    {
     "name": "stderr",
     "output_type": "stream",
     "text": [
      " 57%|█████▋    | 57/100 [08:31<06:30,  9.07s/it]"
     ]
    },
    {
     "name": "stdout",
     "output_type": "stream",
     "text": [
      "00057\n"
     ]
    },
    {
     "name": "stderr",
     "output_type": "stream",
     "text": [
      " 58%|█████▊    | 58/100 [08:51<08:41, 12.41s/it]"
     ]
    },
    {
     "name": "stdout",
     "output_type": "stream",
     "text": [
      "00058\n"
     ]
    },
    {
     "name": "stderr",
     "output_type": "stream",
     "text": [
      " 59%|█████▉    | 59/100 [09:14<10:33, 15.46s/it]"
     ]
    },
    {
     "name": "stdout",
     "output_type": "stream",
     "text": [
      "00059\n"
     ]
    },
    {
     "name": "stderr",
     "output_type": "stream",
     "text": [
      " 60%|██████    | 60/100 [09:40<12:24, 18.62s/it]"
     ]
    },
    {
     "name": "stdout",
     "output_type": "stream",
     "text": [
      "00060\n"
     ]
    },
    {
     "name": "stderr",
     "output_type": "stream",
     "text": [
      " 61%|██████    | 61/100 [09:55<11:25, 17.58s/it]"
     ]
    },
    {
     "name": "stdout",
     "output_type": "stream",
     "text": [
      "00061\n"
     ]
    },
    {
     "name": "stderr",
     "output_type": "stream",
     "text": [
      " 62%|██████▏   | 62/100 [10:11<10:50, 17.12s/it]"
     ]
    },
    {
     "name": "stdout",
     "output_type": "stream",
     "text": [
      "00062\n"
     ]
    },
    {
     "name": "stderr",
     "output_type": "stream",
     "text": [
      " 63%|██████▎   | 63/100 [10:26<10:07, 16.41s/it]"
     ]
    },
    {
     "name": "stdout",
     "output_type": "stream",
     "text": [
      "00063\n"
     ]
    },
    {
     "name": "stderr",
     "output_type": "stream",
     "text": [
      " 64%|██████▍   | 64/100 [10:37<08:57, 14.92s/it]"
     ]
    },
    {
     "name": "stdout",
     "output_type": "stream",
     "text": [
      "00064\n"
     ]
    },
    {
     "name": "stderr",
     "output_type": "stream",
     "text": [
      " 65%|██████▌   | 65/100 [10:55<09:10, 15.74s/it]"
     ]
    },
    {
     "name": "stdout",
     "output_type": "stream",
     "text": [
      "00065\n"
     ]
    },
    {
     "name": "stderr",
     "output_type": "stream",
     "text": [
      " 66%|██████▌   | 66/100 [11:06<08:10, 14.44s/it]"
     ]
    },
    {
     "name": "stdout",
     "output_type": "stream",
     "text": [
      "00066\n"
     ]
    },
    {
     "name": "stderr",
     "output_type": "stream",
     "text": [
      " 67%|██████▋   | 67/100 [11:16<07:09, 13.02s/it]"
     ]
    },
    {
     "name": "stdout",
     "output_type": "stream",
     "text": [
      "00067\n"
     ]
    },
    {
     "name": "stderr",
     "output_type": "stream",
     "text": [
      " 68%|██████▊   | 68/100 [11:25<06:16, 11.78s/it]"
     ]
    },
    {
     "name": "stdout",
     "output_type": "stream",
     "text": [
      "00068\n"
     ]
    },
    {
     "name": "stderr",
     "output_type": "stream",
     "text": [
      " 69%|██████▉   | 69/100 [11:35<05:49, 11.27s/it]"
     ]
    },
    {
     "name": "stdout",
     "output_type": "stream",
     "text": [
      "00069\n"
     ]
    },
    {
     "name": "stderr",
     "output_type": "stream",
     "text": [
      " 70%|███████   | 70/100 [11:45<05:24, 10.80s/it]"
     ]
    },
    {
     "name": "stdout",
     "output_type": "stream",
     "text": [
      "00070\n"
     ]
    },
    {
     "name": "stderr",
     "output_type": "stream",
     "text": [
      " 71%|███████   | 71/100 [11:54<05:01, 10.39s/it]"
     ]
    },
    {
     "name": "stdout",
     "output_type": "stream",
     "text": [
      "00071\n"
     ]
    },
    {
     "name": "stderr",
     "output_type": "stream",
     "text": [
      " 72%|███████▏  | 72/100 [12:05<04:57, 10.61s/it]"
     ]
    },
    {
     "name": "stdout",
     "output_type": "stream",
     "text": [
      "00072\n"
     ]
    },
    {
     "name": "stderr",
     "output_type": "stream",
     "text": [
      " 73%|███████▎  | 73/100 [12:22<05:35, 12.41s/it]"
     ]
    },
    {
     "name": "stdout",
     "output_type": "stream",
     "text": [
      "00073\n"
     ]
    },
    {
     "name": "stderr",
     "output_type": "stream",
     "text": [
      " 74%|███████▍  | 74/100 [12:34<05:21, 12.35s/it]"
     ]
    },
    {
     "name": "stdout",
     "output_type": "stream",
     "text": [
      "00074\n"
     ]
    },
    {
     "name": "stderr",
     "output_type": "stream",
     "text": [
      " 75%|███████▌  | 75/100 [12:49<05:26, 13.06s/it]"
     ]
    },
    {
     "name": "stdout",
     "output_type": "stream",
     "text": [
      "00075\n"
     ]
    },
    {
     "name": "stderr",
     "output_type": "stream",
     "text": [
      " 76%|███████▌  | 76/100 [12:59<04:55, 12.29s/it]"
     ]
    },
    {
     "name": "stdout",
     "output_type": "stream",
     "text": [
      "00076\n"
     ]
    },
    {
     "name": "stderr",
     "output_type": "stream",
     "text": [
      " 77%|███████▋  | 77/100 [13:09<04:22, 11.41s/it]"
     ]
    },
    {
     "name": "stdout",
     "output_type": "stream",
     "text": [
      "00077\n"
     ]
    },
    {
     "name": "stderr",
     "output_type": "stream",
     "text": [
      " 78%|███████▊  | 78/100 [13:20<04:08, 11.29s/it]"
     ]
    },
    {
     "name": "stdout",
     "output_type": "stream",
     "text": [
      "00078\n"
     ]
    },
    {
     "name": "stderr",
     "output_type": "stream",
     "text": [
      " 79%|███████▉  | 79/100 [13:37<04:32, 12.96s/it]"
     ]
    },
    {
     "name": "stdout",
     "output_type": "stream",
     "text": [
      "00079\n"
     ]
    },
    {
     "name": "stderr",
     "output_type": "stream",
     "text": [
      " 80%|████████  | 80/100 [13:56<04:55, 14.78s/it]"
     ]
    },
    {
     "name": "stdout",
     "output_type": "stream",
     "text": [
      "00080\n"
     ]
    },
    {
     "name": "stderr",
     "output_type": "stream",
     "text": [
      " 81%|████████  | 81/100 [14:07<04:21, 13.76s/it]"
     ]
    },
    {
     "name": "stdout",
     "output_type": "stream",
     "text": [
      "00081\n"
     ]
    },
    {
     "name": "stderr",
     "output_type": "stream",
     "text": [
      " 82%|████████▏ | 82/100 [14:20<04:01, 13.40s/it]"
     ]
    },
    {
     "name": "stdout",
     "output_type": "stream",
     "text": [
      "00082\n"
     ]
    },
    {
     "name": "stderr",
     "output_type": "stream",
     "text": [
      " 83%|████████▎ | 83/100 [14:35<03:58, 14.06s/it]"
     ]
    },
    {
     "name": "stdout",
     "output_type": "stream",
     "text": [
      "00083\n"
     ]
    },
    {
     "name": "stderr",
     "output_type": "stream",
     "text": [
      " 84%|████████▍ | 84/100 [14:53<04:00, 15.04s/it]"
     ]
    },
    {
     "name": "stdout",
     "output_type": "stream",
     "text": [
      "00084\n"
     ]
    },
    {
     "name": "stderr",
     "output_type": "stream",
     "text": [
      " 85%|████████▌ | 85/100 [15:11<03:59, 15.99s/it]"
     ]
    },
    {
     "name": "stdout",
     "output_type": "stream",
     "text": [
      "00085\n"
     ]
    },
    {
     "name": "stderr",
     "output_type": "stream",
     "text": [
      " 86%|████████▌ | 86/100 [15:30<03:58, 17.01s/it]"
     ]
    },
    {
     "name": "stdout",
     "output_type": "stream",
     "text": [
      "00086\n"
     ]
    },
    {
     "name": "stderr",
     "output_type": "stream",
     "text": [
      " 87%|████████▋ | 87/100 [15:41<03:17, 15.18s/it]"
     ]
    },
    {
     "name": "stdout",
     "output_type": "stream",
     "text": [
      "00087\n"
     ]
    },
    {
     "name": "stderr",
     "output_type": "stream",
     "text": [
      " 88%|████████▊ | 88/100 [15:50<02:39, 13.33s/it]"
     ]
    },
    {
     "name": "stdout",
     "output_type": "stream",
     "text": [
      "00088\n"
     ]
    },
    {
     "name": "stderr",
     "output_type": "stream",
     "text": [
      " 89%|████████▉ | 89/100 [16:01<02:17, 12.46s/it]"
     ]
    },
    {
     "name": "stdout",
     "output_type": "stream",
     "text": [
      "00089\n"
     ]
    },
    {
     "name": "stderr",
     "output_type": "stream",
     "text": [
      " 90%|█████████ | 90/100 [16:11<01:57, 11.76s/it]"
     ]
    },
    {
     "name": "stdout",
     "output_type": "stream",
     "text": [
      "00090\n"
     ]
    },
    {
     "name": "stderr",
     "output_type": "stream",
     "text": [
      " 91%|█████████ | 91/100 [16:37<02:24, 16.04s/it]"
     ]
    },
    {
     "name": "stdout",
     "output_type": "stream",
     "text": [
      "00091\n"
     ]
    },
    {
     "name": "stderr",
     "output_type": "stream",
     "text": [
      " 92%|█████████▏| 92/100 [16:54<02:12, 16.53s/it]"
     ]
    },
    {
     "name": "stdout",
     "output_type": "stream",
     "text": [
      "00092\n"
     ]
    },
    {
     "name": "stderr",
     "output_type": "stream",
     "text": [
      " 93%|█████████▎| 93/100 [17:08<01:48, 15.57s/it]"
     ]
    },
    {
     "name": "stdout",
     "output_type": "stream",
     "text": [
      "00093\n"
     ]
    },
    {
     "name": "stderr",
     "output_type": "stream",
     "text": [
      " 94%|█████████▍| 94/100 [17:21<01:28, 14.74s/it]"
     ]
    },
    {
     "name": "stdout",
     "output_type": "stream",
     "text": [
      "00094\n"
     ]
    },
    {
     "name": "stderr",
     "output_type": "stream",
     "text": [
      " 95%|█████████▌| 95/100 [17:33<01:10, 14.01s/it]"
     ]
    },
    {
     "name": "stdout",
     "output_type": "stream",
     "text": [
      "00095\n"
     ]
    },
    {
     "name": "stderr",
     "output_type": "stream",
     "text": [
      " 96%|█████████▌| 96/100 [17:48<00:56, 14.24s/it]"
     ]
    },
    {
     "name": "stdout",
     "output_type": "stream",
     "text": [
      "00096\n"
     ]
    },
    {
     "name": "stderr",
     "output_type": "stream",
     "text": [
      " 97%|█████████▋| 97/100 [18:02<00:42, 14.31s/it]"
     ]
    },
    {
     "name": "stdout",
     "output_type": "stream",
     "text": [
      "00097\n"
     ]
    },
    {
     "name": "stderr",
     "output_type": "stream",
     "text": [
      " 98%|█████████▊| 98/100 [18:18<00:29, 14.86s/it]"
     ]
    },
    {
     "name": "stdout",
     "output_type": "stream",
     "text": [
      "00098\n"
     ]
    },
    {
     "name": "stderr",
     "output_type": "stream",
     "text": [
      " 99%|█████████▉| 99/100 [18:29<00:13, 13.64s/it]"
     ]
    },
    {
     "name": "stdout",
     "output_type": "stream",
     "text": [
      "00099\n"
     ]
    },
    {
     "name": "stderr",
     "output_type": "stream",
     "text": [
      "100%|██████████| 100/100 [18:40<00:00, 11.20s/it]\n"
     ]
    }
   ],
   "source": [
    "output_dataframe = pd.DataFrame()\n",
    "for i in tqdm(range(100)): #0~59\n",
    "    file_str = str(i).zfill(5) \n",
    "    print (file_str)\n",
    "    df = pd.read_csv(data_dir+\"part-\"+file_str+\"-of-00500.csv.gz\",header=None)\n",
    "    df.columns = task_usage_header\n",
    "    #保留 'end_time','job_id','task_index','machine_id', 'mean_cpu_usage' 这些列\n",
    "    df.drop(df.columns[[0,6,7,8,9,10,11,12,13,14,15,16,17,18,19]], axis=1,inplace=True)\n",
    "\n",
    "    output_dataframe = output_dataframe.append(df)\n",
    "#     output_data_dir = \"./data/task_usage_input_timeseries/part-\"+file_str+\"-of-00500.csv\"\n",
    "#     df.to_csv(output_data_dir, sep='\\t')\n",
    "#     break"
   ]
  },
  {
   "cell_type": "code",
   "execution_count": 70,
   "metadata": {},
   "outputs": [],
   "source": [
    "output_dataframe_final = output_dataframe"
   ]
  },
  {
   "cell_type": "code",
   "execution_count": 6,
   "metadata": {},
   "outputs": [
    {
     "data": {
      "text/plain": "             end_time      job_id  task_index  machine_id  mean_cpu_usage\n0           900000000     3418309           0  4155527081        0.001562\n1           900000000     3418309           1   329150663        0.001568\n2           900000000     3418314           0  3938719206        0.000307\n3           900000000     3418314           1   351618647        0.000300\n4           900000000     3418319           0   431052910        0.000461\n...               ...         ...         ...         ...             ...\n2017011  501720000000  6300419086          75   257338306        0.000000\n2017012  501720000000  6300419086          98   334006408        0.000000\n2017013  501900000000  6300422961          15  4820109218        0.009384\n2017014  501900000000  6300424786         197  4303328869        0.039370\n2017015  501900000000  6300424786         337      717242        0.034730\n\n[248506856 rows x 5 columns]",
      "text/html": "<div>\n<style scoped>\n    .dataframe tbody tr th:only-of-type {\n        vertical-align: middle;\n    }\n\n    .dataframe tbody tr th {\n        vertical-align: top;\n    }\n\n    .dataframe thead th {\n        text-align: right;\n    }\n</style>\n<table border=\"1\" class=\"dataframe\">\n  <thead>\n    <tr style=\"text-align: right;\">\n      <th></th>\n      <th>end_time</th>\n      <th>job_id</th>\n      <th>task_index</th>\n      <th>machine_id</th>\n      <th>mean_cpu_usage</th>\n    </tr>\n  </thead>\n  <tbody>\n    <tr>\n      <th>0</th>\n      <td>900000000</td>\n      <td>3418309</td>\n      <td>0</td>\n      <td>4155527081</td>\n      <td>0.001562</td>\n    </tr>\n    <tr>\n      <th>1</th>\n      <td>900000000</td>\n      <td>3418309</td>\n      <td>1</td>\n      <td>329150663</td>\n      <td>0.001568</td>\n    </tr>\n    <tr>\n      <th>2</th>\n      <td>900000000</td>\n      <td>3418314</td>\n      <td>0</td>\n      <td>3938719206</td>\n      <td>0.000307</td>\n    </tr>\n    <tr>\n      <th>3</th>\n      <td>900000000</td>\n      <td>3418314</td>\n      <td>1</td>\n      <td>351618647</td>\n      <td>0.000300</td>\n    </tr>\n    <tr>\n      <th>4</th>\n      <td>900000000</td>\n      <td>3418319</td>\n      <td>0</td>\n      <td>431052910</td>\n      <td>0.000461</td>\n    </tr>\n    <tr>\n      <th>...</th>\n      <td>...</td>\n      <td>...</td>\n      <td>...</td>\n      <td>...</td>\n      <td>...</td>\n    </tr>\n    <tr>\n      <th>2017011</th>\n      <td>501720000000</td>\n      <td>6300419086</td>\n      <td>75</td>\n      <td>257338306</td>\n      <td>0.000000</td>\n    </tr>\n    <tr>\n      <th>2017012</th>\n      <td>501720000000</td>\n      <td>6300419086</td>\n      <td>98</td>\n      <td>334006408</td>\n      <td>0.000000</td>\n    </tr>\n    <tr>\n      <th>2017013</th>\n      <td>501900000000</td>\n      <td>6300422961</td>\n      <td>15</td>\n      <td>4820109218</td>\n      <td>0.009384</td>\n    </tr>\n    <tr>\n      <th>2017014</th>\n      <td>501900000000</td>\n      <td>6300424786</td>\n      <td>197</td>\n      <td>4303328869</td>\n      <td>0.039370</td>\n    </tr>\n    <tr>\n      <th>2017015</th>\n      <td>501900000000</td>\n      <td>6300424786</td>\n      <td>337</td>\n      <td>717242</td>\n      <td>0.034730</td>\n    </tr>\n  </tbody>\n</table>\n<p>248506856 rows × 5 columns</p>\n</div>"
     },
     "execution_count": 6,
     "metadata": {},
     "output_type": "execute_result"
    }
   ],
   "source": [
    "output_dataframe_final"
   ]
  },
  {
   "cell_type": "code",
   "execution_count": 7,
   "metadata": {},
   "outputs": [
    {
     "name": "stdout",
     "output_type": "stream",
     "text": [
      "started loading\n"
     ]
    },
    {
     "name": "stderr",
     "output_type": "stream",
     "text": [
      " 19%|█▉        | 140/720 [02:44<10:30,  1.09s/it]C:\\Users\\lenovo\\anaconda3\\envs\\google-trace-analysis\\lib\\site-packages\\numpy\\lib\\function_base.py:380: RuntimeWarning: Mean of empty slice.\n",
      "  avg = a.mean(axis)\n",
      "C:\\Users\\lenovo\\anaconda3\\envs\\google-trace-analysis\\lib\\site-packages\\numpy\\core\\_methods.py:170: RuntimeWarning: invalid value encountered in double_scalars\n",
      "  ret = ret.dtype.type(ret / rcount)\n",
      "100%|██████████| 720/720 [11:55<00:00,  1.01it/s]\n"
     ]
    }
   ],
   "source": [
    "output_dataframe_final = calculateHourlyUsage(output_dataframe_final)"
   ]
  },
  {
   "cell_type": "code",
   "execution_count": 67,
   "metadata": {},
   "outputs": [],
   "source": [
    "output_dataframe_final = output_dataframe_final[output_dataframe_final['hour']<84]"
   ]
  },
  {
   "cell_type": "code",
   "execution_count": 69,
   "metadata": {},
   "outputs": [
    {
     "data": {
      "text/plain": "   hour no_of_jobs machines  mean_cpu_usage\n0     0       4513    12476        0.017537\n0     1       4688    12476        0.016717\n0     2       4620    12478        0.016284\n0     3       4855    12485        0.015711\n0     4       4719    12485        0.014981\n..  ...        ...      ...             ...\n0    79       4932    12513        0.018563\n0    80       4770    12513        0.020215\n0    81       5115    12516        0.018894\n0    82       4736    12515        0.018735\n0    83       4677    12515        0.019800\n\n[84 rows x 4 columns]",
      "text/html": "<div>\n<style scoped>\n    .dataframe tbody tr th:only-of-type {\n        vertical-align: middle;\n    }\n\n    .dataframe tbody tr th {\n        vertical-align: top;\n    }\n\n    .dataframe thead th {\n        text-align: right;\n    }\n</style>\n<table border=\"1\" class=\"dataframe\">\n  <thead>\n    <tr style=\"text-align: right;\">\n      <th></th>\n      <th>hour</th>\n      <th>no_of_jobs</th>\n      <th>machines</th>\n      <th>mean_cpu_usage</th>\n    </tr>\n  </thead>\n  <tbody>\n    <tr>\n      <th>0</th>\n      <td>0</td>\n      <td>4513</td>\n      <td>12476</td>\n      <td>0.017537</td>\n    </tr>\n    <tr>\n      <th>0</th>\n      <td>1</td>\n      <td>4688</td>\n      <td>12476</td>\n      <td>0.016717</td>\n    </tr>\n    <tr>\n      <th>0</th>\n      <td>2</td>\n      <td>4620</td>\n      <td>12478</td>\n      <td>0.016284</td>\n    </tr>\n    <tr>\n      <th>0</th>\n      <td>3</td>\n      <td>4855</td>\n      <td>12485</td>\n      <td>0.015711</td>\n    </tr>\n    <tr>\n      <th>0</th>\n      <td>4</td>\n      <td>4719</td>\n      <td>12485</td>\n      <td>0.014981</td>\n    </tr>\n    <tr>\n      <th>...</th>\n      <td>...</td>\n      <td>...</td>\n      <td>...</td>\n      <td>...</td>\n    </tr>\n    <tr>\n      <th>0</th>\n      <td>79</td>\n      <td>4932</td>\n      <td>12513</td>\n      <td>0.018563</td>\n    </tr>\n    <tr>\n      <th>0</th>\n      <td>80</td>\n      <td>4770</td>\n      <td>12513</td>\n      <td>0.020215</td>\n    </tr>\n    <tr>\n      <th>0</th>\n      <td>81</td>\n      <td>5115</td>\n      <td>12516</td>\n      <td>0.018894</td>\n    </tr>\n    <tr>\n      <th>0</th>\n      <td>82</td>\n      <td>4736</td>\n      <td>12515</td>\n      <td>0.018735</td>\n    </tr>\n    <tr>\n      <th>0</th>\n      <td>83</td>\n      <td>4677</td>\n      <td>12515</td>\n      <td>0.019800</td>\n    </tr>\n  </tbody>\n</table>\n<p>84 rows × 4 columns</p>\n</div>"
     },
     "execution_count": 69,
     "metadata": {},
     "output_type": "execute_result"
    }
   ],
   "source": [
    "output_dataframe_final"
   ]
  },
  {
   "cell_type": "code",
   "execution_count": 10,
   "metadata": {},
   "outputs": [],
   "source": [
    "X = np.array(output_dataframe_final['mean_cpu_usage'].tolist())"
   ]
  },
  {
   "cell_type": "code",
   "execution_count": 11,
   "metadata": {},
   "outputs": [
    {
     "data": {
      "text/plain": "array([0.01753654, 0.01671724, 0.01628377, 0.01571072, 0.01498057,\n       0.01495185, 0.01394167, 0.01502232, 0.01649895, 0.01657997,\n       0.01664338, 0.01745756, 0.01696358, 0.0181543 , 0.01921209,\n       0.0185627 , 0.0188185 , 0.01891544, 0.02145261, 0.02142198,\n       0.01988755, 0.02009669, 0.02083384, 0.01824115, 0.01937279,\n       0.01865439, 0.01282313, 0.00946815, 0.00866318, 0.00976388,\n       0.00873009, 0.01345372, 0.01627282, 0.01631837, 0.01653781,\n       0.01640791, 0.01659396, 0.01794766, 0.01857603, 0.01922389,\n       0.01976533, 0.01984754, 0.01941553, 0.02035863, 0.01922068,\n       0.01853696, 0.01932489, 0.01774829, 0.01787929, 0.01776996,\n       0.0166457 , 0.01677423, 0.01488547, 0.0144224 , 0.01426421,\n       0.01522806, 0.01618755, 0.01933787, 0.01917755, 0.02088414,\n       0.019842  , 0.01961764, 0.0209591 , 0.0218979 , 0.02340094,\n       0.02287934, 0.02161878, 0.02146912, 0.01879018, 0.01769925,\n       0.01768853, 0.01753083, 0.01769753, 0.01942874, 0.01948125,\n       0.02148444, 0.01929276, 0.01913444, 0.0195879 , 0.01856301,\n       0.02021539, 0.01889404, 0.01873533, 0.0198003 ])"
     },
     "execution_count": 11,
     "metadata": {},
     "output_type": "execute_result"
    }
   ],
   "source": [
    "X"
   ]
  },
  {
   "cell_type": "markdown",
   "source": [
    "Using qisk Quantum NN"
   ],
   "metadata": {
    "collapsed": false,
    "pycharm": {
     "name": "#%% md\n"
    }
   }
  },
  {
   "cell_type": "code",
   "execution_count": 73,
   "outputs": [
    {
     "ename": "QiskitMachineLearningError",
     "evalue": "'Input data has incorrect shape, last dimension is not equal to the number of inputs: 1, but got: 84.'",
     "output_type": "error",
     "traceback": [
      "\u001B[1;31m---------------------------------------------------------------------------\u001B[0m",
      "\u001B[1;31mQiskitMachineLearningError\u001B[0m                Traceback (most recent call last)",
      "\u001B[1;32m~\\AppData\\Local\\Temp/ipykernel_31748/1002932938.py\u001B[0m in \u001B[0;36m<module>\u001B[1;34m\u001B[0m\n\u001B[0;32m     54\u001B[0m \u001B[1;33m\u001B[0m\u001B[0m\n\u001B[0;32m     55\u001B[0m \u001B[1;31m# fit to data\u001B[0m\u001B[1;33m\u001B[0m\u001B[1;33m\u001B[0m\u001B[1;33m\u001B[0m\u001B[0m\n\u001B[1;32m---> 56\u001B[1;33m \u001B[0mregressor\u001B[0m\u001B[1;33m.\u001B[0m\u001B[0mfit\u001B[0m\u001B[1;33m(\u001B[0m\u001B[0mnp\u001B[0m\u001B[1;33m.\u001B[0m\u001B[0marange\u001B[0m\u001B[1;33m(\u001B[0m\u001B[1;36m84\u001B[0m\u001B[1;33m)\u001B[0m\u001B[1;33m,\u001B[0m \u001B[0mX\u001B[0m\u001B[1;33m)\u001B[0m\u001B[1;33m\u001B[0m\u001B[1;33m\u001B[0m\u001B[0m\n\u001B[0m\u001B[0;32m     57\u001B[0m \u001B[0mprint\u001B[0m\u001B[1;33m(\u001B[0m\u001B[0mnp\u001B[0m\u001B[1;33m.\u001B[0m\u001B[0marange\u001B[0m\u001B[1;33m(\u001B[0m\u001B[1;36m84\u001B[0m\u001B[1;33m)\u001B[0m\u001B[1;33m)\u001B[0m\u001B[1;33m\u001B[0m\u001B[1;33m\u001B[0m\u001B[0m\n\u001B[0;32m     58\u001B[0m \u001B[1;31m# return to default figsize\u001B[0m\u001B[1;33m\u001B[0m\u001B[1;33m\u001B[0m\u001B[1;33m\u001B[0m\u001B[0m\n",
      "\u001B[1;32m~\\anaconda3\\envs\\google-trace-analysis\\lib\\site-packages\\qiskit_machine_learning\\algorithms\\regressors\\neural_network_regressor.py\u001B[0m in \u001B[0;36mfit\u001B[1;34m(self, X, y)\u001B[0m\n\u001B[0;32m     42\u001B[0m         \u001B[0mobjective\u001B[0m \u001B[1;33m=\u001B[0m \u001B[0mself\u001B[0m\u001B[1;33m.\u001B[0m\u001B[0m_get_objective\u001B[0m\u001B[1;33m(\u001B[0m\u001B[0mfunction\u001B[0m\u001B[1;33m)\u001B[0m\u001B[1;33m\u001B[0m\u001B[1;33m\u001B[0m\u001B[0m\n\u001B[0;32m     43\u001B[0m \u001B[1;33m\u001B[0m\u001B[0m\n\u001B[1;32m---> 44\u001B[1;33m         self._fit_result = self._optimizer.optimize(\n\u001B[0m\u001B[0;32m     45\u001B[0m             \u001B[0mself\u001B[0m\u001B[1;33m.\u001B[0m\u001B[0m_neural_network\u001B[0m\u001B[1;33m.\u001B[0m\u001B[0mnum_weights\u001B[0m\u001B[1;33m,\u001B[0m\u001B[1;33m\u001B[0m\u001B[1;33m\u001B[0m\u001B[0m\n\u001B[0;32m     46\u001B[0m             \u001B[0mobjective\u001B[0m\u001B[1;33m,\u001B[0m\u001B[1;33m\u001B[0m\u001B[1;33m\u001B[0m\u001B[0m\n",
      "\u001B[1;32m~\\anaconda3\\envs\\google-trace-analysis\\lib\\site-packages\\qiskit\\algorithms\\optimizers\\scipy_optimizer.py\u001B[0m in \u001B[0;36moptimize\u001B[1;34m(self, num_vars, objective_function, gradient_function, variable_bounds, initial_point)\u001B[0m\n\u001B[0;32m    138\u001B[0m         )\n\u001B[0;32m    139\u001B[0m \u001B[1;33m\u001B[0m\u001B[0m\n\u001B[1;32m--> 140\u001B[1;33m         res = minimize(\n\u001B[0m\u001B[0;32m    141\u001B[0m             \u001B[0mfun\u001B[0m\u001B[1;33m=\u001B[0m\u001B[0mobjective_function\u001B[0m\u001B[1;33m,\u001B[0m\u001B[1;33m\u001B[0m\u001B[1;33m\u001B[0m\u001B[0m\n\u001B[0;32m    142\u001B[0m             \u001B[0mx0\u001B[0m\u001B[1;33m=\u001B[0m\u001B[0minitial_point\u001B[0m\u001B[1;33m,\u001B[0m\u001B[1;33m\u001B[0m\u001B[1;33m\u001B[0m\u001B[0m\n",
      "\u001B[1;32m~\\anaconda3\\envs\\google-trace-analysis\\lib\\site-packages\\scipy\\optimize\\_minimize.py\u001B[0m in \u001B[0;36mminimize\u001B[1;34m(fun, x0, args, method, jac, hess, hessp, bounds, constraints, tol, callback, options)\u001B[0m\n\u001B[0;32m    617\u001B[0m                                   **options)\n\u001B[0;32m    618\u001B[0m     \u001B[1;32melif\u001B[0m \u001B[0mmeth\u001B[0m \u001B[1;33m==\u001B[0m \u001B[1;34m'l-bfgs-b'\u001B[0m\u001B[1;33m:\u001B[0m\u001B[1;33m\u001B[0m\u001B[1;33m\u001B[0m\u001B[0m\n\u001B[1;32m--> 619\u001B[1;33m         return _minimize_lbfgsb(fun, x0, args, jac, bounds,\n\u001B[0m\u001B[0;32m    620\u001B[0m                                 callback=callback, **options)\n\u001B[0;32m    621\u001B[0m     \u001B[1;32melif\u001B[0m \u001B[0mmeth\u001B[0m \u001B[1;33m==\u001B[0m \u001B[1;34m'tnc'\u001B[0m\u001B[1;33m:\u001B[0m\u001B[1;33m\u001B[0m\u001B[1;33m\u001B[0m\u001B[0m\n",
      "\u001B[1;32m~\\anaconda3\\envs\\google-trace-analysis\\lib\\site-packages\\scipy\\optimize\\lbfgsb.py\u001B[0m in \u001B[0;36m_minimize_lbfgsb\u001B[1;34m(fun, x0, args, jac, bounds, disp, maxcor, ftol, gtol, eps, maxfun, maxiter, iprint, callback, maxls, finite_diff_rel_step, **unknown_options)\u001B[0m\n\u001B[0;32m    304\u001B[0m             \u001B[0miprint\u001B[0m \u001B[1;33m=\u001B[0m \u001B[0mdisp\u001B[0m\u001B[1;33m\u001B[0m\u001B[1;33m\u001B[0m\u001B[0m\n\u001B[0;32m    305\u001B[0m \u001B[1;33m\u001B[0m\u001B[0m\n\u001B[1;32m--> 306\u001B[1;33m     sf = _prepare_scalar_function(fun, x0, jac=jac, args=args, epsilon=eps,\n\u001B[0m\u001B[0;32m    307\u001B[0m                                   \u001B[0mbounds\u001B[0m\u001B[1;33m=\u001B[0m\u001B[0mnew_bounds\u001B[0m\u001B[1;33m,\u001B[0m\u001B[1;33m\u001B[0m\u001B[1;33m\u001B[0m\u001B[0m\n\u001B[0;32m    308\u001B[0m                                   finite_diff_rel_step=finite_diff_rel_step)\n",
      "\u001B[1;32m~\\anaconda3\\envs\\google-trace-analysis\\lib\\site-packages\\scipy\\optimize\\optimize.py\u001B[0m in \u001B[0;36m_prepare_scalar_function\u001B[1;34m(fun, x0, jac, args, bounds, epsilon, finite_diff_rel_step, hess)\u001B[0m\n\u001B[0;32m    259\u001B[0m     \u001B[1;31m# ScalarFunction caches. Reuse of fun(x) during grad\u001B[0m\u001B[1;33m\u001B[0m\u001B[1;33m\u001B[0m\u001B[1;33m\u001B[0m\u001B[0m\n\u001B[0;32m    260\u001B[0m     \u001B[1;31m# calculation reduces overall function evaluations.\u001B[0m\u001B[1;33m\u001B[0m\u001B[1;33m\u001B[0m\u001B[1;33m\u001B[0m\u001B[0m\n\u001B[1;32m--> 261\u001B[1;33m     sf = ScalarFunction(fun, x0, args, grad, hess,\n\u001B[0m\u001B[0;32m    262\u001B[0m                         finite_diff_rel_step, bounds, epsilon=epsilon)\n\u001B[0;32m    263\u001B[0m \u001B[1;33m\u001B[0m\u001B[0m\n",
      "\u001B[1;32m~\\anaconda3\\envs\\google-trace-analysis\\lib\\site-packages\\scipy\\optimize\\_differentiable_functions.py\u001B[0m in \u001B[0;36m__init__\u001B[1;34m(self, fun, x0, args, grad, hess, finite_diff_rel_step, finite_diff_bounds, epsilon)\u001B[0m\n\u001B[0;32m    134\u001B[0m \u001B[1;33m\u001B[0m\u001B[0m\n\u001B[0;32m    135\u001B[0m         \u001B[0mself\u001B[0m\u001B[1;33m.\u001B[0m\u001B[0m_update_fun_impl\u001B[0m \u001B[1;33m=\u001B[0m \u001B[0mupdate_fun\u001B[0m\u001B[1;33m\u001B[0m\u001B[1;33m\u001B[0m\u001B[0m\n\u001B[1;32m--> 136\u001B[1;33m         \u001B[0mself\u001B[0m\u001B[1;33m.\u001B[0m\u001B[0m_update_fun\u001B[0m\u001B[1;33m(\u001B[0m\u001B[1;33m)\u001B[0m\u001B[1;33m\u001B[0m\u001B[1;33m\u001B[0m\u001B[0m\n\u001B[0m\u001B[0;32m    137\u001B[0m \u001B[1;33m\u001B[0m\u001B[0m\n\u001B[0;32m    138\u001B[0m         \u001B[1;31m# Gradient evaluation\u001B[0m\u001B[1;33m\u001B[0m\u001B[1;33m\u001B[0m\u001B[1;33m\u001B[0m\u001B[0m\n",
      "\u001B[1;32m~\\anaconda3\\envs\\google-trace-analysis\\lib\\site-packages\\scipy\\optimize\\_differentiable_functions.py\u001B[0m in \u001B[0;36m_update_fun\u001B[1;34m(self)\u001B[0m\n\u001B[0;32m    224\u001B[0m     \u001B[1;32mdef\u001B[0m \u001B[0m_update_fun\u001B[0m\u001B[1;33m(\u001B[0m\u001B[0mself\u001B[0m\u001B[1;33m)\u001B[0m\u001B[1;33m:\u001B[0m\u001B[1;33m\u001B[0m\u001B[1;33m\u001B[0m\u001B[0m\n\u001B[0;32m    225\u001B[0m         \u001B[1;32mif\u001B[0m \u001B[1;32mnot\u001B[0m \u001B[0mself\u001B[0m\u001B[1;33m.\u001B[0m\u001B[0mf_updated\u001B[0m\u001B[1;33m:\u001B[0m\u001B[1;33m\u001B[0m\u001B[1;33m\u001B[0m\u001B[0m\n\u001B[1;32m--> 226\u001B[1;33m             \u001B[0mself\u001B[0m\u001B[1;33m.\u001B[0m\u001B[0m_update_fun_impl\u001B[0m\u001B[1;33m(\u001B[0m\u001B[1;33m)\u001B[0m\u001B[1;33m\u001B[0m\u001B[1;33m\u001B[0m\u001B[0m\n\u001B[0m\u001B[0;32m    227\u001B[0m             \u001B[0mself\u001B[0m\u001B[1;33m.\u001B[0m\u001B[0mf_updated\u001B[0m \u001B[1;33m=\u001B[0m \u001B[1;32mTrue\u001B[0m\u001B[1;33m\u001B[0m\u001B[1;33m\u001B[0m\u001B[0m\n\u001B[0;32m    228\u001B[0m \u001B[1;33m\u001B[0m\u001B[0m\n",
      "\u001B[1;32m~\\anaconda3\\envs\\google-trace-analysis\\lib\\site-packages\\scipy\\optimize\\_differentiable_functions.py\u001B[0m in \u001B[0;36mupdate_fun\u001B[1;34m()\u001B[0m\n\u001B[0;32m    131\u001B[0m \u001B[1;33m\u001B[0m\u001B[0m\n\u001B[0;32m    132\u001B[0m         \u001B[1;32mdef\u001B[0m \u001B[0mupdate_fun\u001B[0m\u001B[1;33m(\u001B[0m\u001B[1;33m)\u001B[0m\u001B[1;33m:\u001B[0m\u001B[1;33m\u001B[0m\u001B[1;33m\u001B[0m\u001B[0m\n\u001B[1;32m--> 133\u001B[1;33m             \u001B[0mself\u001B[0m\u001B[1;33m.\u001B[0m\u001B[0mf\u001B[0m \u001B[1;33m=\u001B[0m \u001B[0mfun_wrapped\u001B[0m\u001B[1;33m(\u001B[0m\u001B[0mself\u001B[0m\u001B[1;33m.\u001B[0m\u001B[0mx\u001B[0m\u001B[1;33m)\u001B[0m\u001B[1;33m\u001B[0m\u001B[1;33m\u001B[0m\u001B[0m\n\u001B[0m\u001B[0;32m    134\u001B[0m \u001B[1;33m\u001B[0m\u001B[0m\n\u001B[0;32m    135\u001B[0m         \u001B[0mself\u001B[0m\u001B[1;33m.\u001B[0m\u001B[0m_update_fun_impl\u001B[0m \u001B[1;33m=\u001B[0m \u001B[0mupdate_fun\u001B[0m\u001B[1;33m\u001B[0m\u001B[1;33m\u001B[0m\u001B[0m\n",
      "\u001B[1;32m~\\anaconda3\\envs\\google-trace-analysis\\lib\\site-packages\\scipy\\optimize\\_differentiable_functions.py\u001B[0m in \u001B[0;36mfun_wrapped\u001B[1;34m(x)\u001B[0m\n\u001B[0;32m    128\u001B[0m         \u001B[1;32mdef\u001B[0m \u001B[0mfun_wrapped\u001B[0m\u001B[1;33m(\u001B[0m\u001B[0mx\u001B[0m\u001B[1;33m)\u001B[0m\u001B[1;33m:\u001B[0m\u001B[1;33m\u001B[0m\u001B[1;33m\u001B[0m\u001B[0m\n\u001B[0;32m    129\u001B[0m             \u001B[0mself\u001B[0m\u001B[1;33m.\u001B[0m\u001B[0mnfev\u001B[0m \u001B[1;33m+=\u001B[0m \u001B[1;36m1\u001B[0m\u001B[1;33m\u001B[0m\u001B[1;33m\u001B[0m\u001B[0m\n\u001B[1;32m--> 130\u001B[1;33m             \u001B[1;32mreturn\u001B[0m \u001B[0mfun\u001B[0m\u001B[1;33m(\u001B[0m\u001B[0mx\u001B[0m\u001B[1;33m,\u001B[0m \u001B[1;33m*\u001B[0m\u001B[0margs\u001B[0m\u001B[1;33m)\u001B[0m\u001B[1;33m\u001B[0m\u001B[1;33m\u001B[0m\u001B[0m\n\u001B[0m\u001B[0;32m    131\u001B[0m \u001B[1;33m\u001B[0m\u001B[0m\n\u001B[0;32m    132\u001B[0m         \u001B[1;32mdef\u001B[0m \u001B[0mupdate_fun\u001B[0m\u001B[1;33m(\u001B[0m\u001B[1;33m)\u001B[0m\u001B[1;33m:\u001B[0m\u001B[1;33m\u001B[0m\u001B[1;33m\u001B[0m\u001B[0m\n",
      "\u001B[1;32m~\\anaconda3\\envs\\google-trace-analysis\\lib\\site-packages\\qiskit_machine_learning\\algorithms\\trainable_model.py\u001B[0m in \u001B[0;36mobjective\u001B[1;34m(objective_weights)\u001B[0m\n\u001B[0;32m    225\u001B[0m \u001B[1;33m\u001B[0m\u001B[0m\n\u001B[0;32m    226\u001B[0m         \u001B[1;32mdef\u001B[0m \u001B[0mobjective\u001B[0m\u001B[1;33m(\u001B[0m\u001B[0mobjective_weights\u001B[0m\u001B[1;33m)\u001B[0m\u001B[1;33m:\u001B[0m\u001B[1;33m\u001B[0m\u001B[1;33m\u001B[0m\u001B[0m\n\u001B[1;32m--> 227\u001B[1;33m             \u001B[0mobjective_value\u001B[0m \u001B[1;33m=\u001B[0m \u001B[0mfunction\u001B[0m\u001B[1;33m.\u001B[0m\u001B[0mobjective\u001B[0m\u001B[1;33m(\u001B[0m\u001B[0mobjective_weights\u001B[0m\u001B[1;33m)\u001B[0m\u001B[1;33m\u001B[0m\u001B[1;33m\u001B[0m\u001B[0m\n\u001B[0m\u001B[0;32m    228\u001B[0m             \u001B[0mself\u001B[0m\u001B[1;33m.\u001B[0m\u001B[0m_callback\u001B[0m\u001B[1;33m(\u001B[0m\u001B[0mobjective_weights\u001B[0m\u001B[1;33m,\u001B[0m \u001B[0mobjective_value\u001B[0m\u001B[1;33m)\u001B[0m\u001B[1;33m\u001B[0m\u001B[1;33m\u001B[0m\u001B[0m\n\u001B[0;32m    229\u001B[0m             \u001B[1;32mreturn\u001B[0m \u001B[0mobjective_value\u001B[0m\u001B[1;33m\u001B[0m\u001B[1;33m\u001B[0m\u001B[0m\n",
      "\u001B[1;32m~\\anaconda3\\envs\\google-trace-analysis\\lib\\site-packages\\qiskit_machine_learning\\algorithms\\objective_functions.py\u001B[0m in \u001B[0;36mobjective\u001B[1;34m(self, weights)\u001B[0m\n\u001B[0;32m    110\u001B[0m     \u001B[1;32mdef\u001B[0m \u001B[0mobjective\u001B[0m\u001B[1;33m(\u001B[0m\u001B[0mself\u001B[0m\u001B[1;33m,\u001B[0m \u001B[0mweights\u001B[0m\u001B[1;33m:\u001B[0m \u001B[0mnp\u001B[0m\u001B[1;33m.\u001B[0m\u001B[0mndarray\u001B[0m\u001B[1;33m)\u001B[0m \u001B[1;33m->\u001B[0m \u001B[0mfloat\u001B[0m\u001B[1;33m:\u001B[0m\u001B[1;33m\u001B[0m\u001B[1;33m\u001B[0m\u001B[0m\n\u001B[0;32m    111\u001B[0m         \u001B[1;31m# predict is of shape (N, 1), where N is a number of samples\u001B[0m\u001B[1;33m\u001B[0m\u001B[1;33m\u001B[0m\u001B[1;33m\u001B[0m\u001B[0m\n\u001B[1;32m--> 112\u001B[1;33m         \u001B[0mpredict\u001B[0m \u001B[1;33m=\u001B[0m \u001B[0mself\u001B[0m\u001B[1;33m.\u001B[0m\u001B[0m_neural_network_forward\u001B[0m\u001B[1;33m(\u001B[0m\u001B[0mweights\u001B[0m\u001B[1;33m)\u001B[0m\u001B[1;33m\u001B[0m\u001B[1;33m\u001B[0m\u001B[0m\n\u001B[0m\u001B[0;32m    113\u001B[0m         \u001B[0mtarget\u001B[0m \u001B[1;33m=\u001B[0m \u001B[0mnp\u001B[0m\u001B[1;33m.\u001B[0m\u001B[0marray\u001B[0m\u001B[1;33m(\u001B[0m\u001B[0mself\u001B[0m\u001B[1;33m.\u001B[0m\u001B[0m_y\u001B[0m\u001B[1;33m)\u001B[0m\u001B[1;33m.\u001B[0m\u001B[0mreshape\u001B[0m\u001B[1;33m(\u001B[0m\u001B[0mpredict\u001B[0m\u001B[1;33m.\u001B[0m\u001B[0mshape\u001B[0m\u001B[1;33m)\u001B[0m\u001B[1;33m\u001B[0m\u001B[1;33m\u001B[0m\u001B[0m\n\u001B[0;32m    114\u001B[0m         \u001B[1;31m# float(...) is for mypy compliance\u001B[0m\u001B[1;33m\u001B[0m\u001B[1;33m\u001B[0m\u001B[1;33m\u001B[0m\u001B[0m\n",
      "\u001B[1;32m~\\anaconda3\\envs\\google-trace-analysis\\lib\\site-packages\\qiskit_machine_learning\\algorithms\\objective_functions.py\u001B[0m in \u001B[0;36m_neural_network_forward\u001B[1;34m(self, weights)\u001B[0m\n\u001B[0;32m     99\u001B[0m         \u001B[1;32mif\u001B[0m \u001B[0mdata_id\u001B[0m \u001B[1;33m!=\u001B[0m \u001B[0mself\u001B[0m\u001B[1;33m.\u001B[0m\u001B[0m_last_forward_id\u001B[0m\u001B[1;33m:\u001B[0m\u001B[1;33m\u001B[0m\u001B[1;33m\u001B[0m\u001B[0m\n\u001B[0;32m    100\u001B[0m             \u001B[1;31m# compute forward and cache the results for re-use in backward\u001B[0m\u001B[1;33m\u001B[0m\u001B[1;33m\u001B[0m\u001B[1;33m\u001B[0m\u001B[0m\n\u001B[1;32m--> 101\u001B[1;33m             \u001B[0mself\u001B[0m\u001B[1;33m.\u001B[0m\u001B[0m_last_forward\u001B[0m \u001B[1;33m=\u001B[0m \u001B[0mself\u001B[0m\u001B[1;33m.\u001B[0m\u001B[0m_neural_network\u001B[0m\u001B[1;33m.\u001B[0m\u001B[0mforward\u001B[0m\u001B[1;33m(\u001B[0m\u001B[0mself\u001B[0m\u001B[1;33m.\u001B[0m\u001B[0m_X\u001B[0m\u001B[1;33m,\u001B[0m \u001B[0mweights\u001B[0m\u001B[1;33m)\u001B[0m\u001B[1;33m\u001B[0m\u001B[1;33m\u001B[0m\u001B[0m\n\u001B[0m\u001B[0;32m    102\u001B[0m             \u001B[0mself\u001B[0m\u001B[1;33m.\u001B[0m\u001B[0m_last_forward_id\u001B[0m \u001B[1;33m=\u001B[0m \u001B[0mdata_id\u001B[0m\u001B[1;33m\u001B[0m\u001B[1;33m\u001B[0m\u001B[0m\n\u001B[0;32m    103\u001B[0m         \u001B[1;32mreturn\u001B[0m \u001B[0mself\u001B[0m\u001B[1;33m.\u001B[0m\u001B[0m_last_forward\u001B[0m\u001B[1;33m\u001B[0m\u001B[1;33m\u001B[0m\u001B[0m\n",
      "\u001B[1;32m~\\anaconda3\\envs\\google-trace-analysis\\lib\\site-packages\\qiskit_machine_learning\\neural_networks\\neural_network.py\u001B[0m in \u001B[0;36mforward\u001B[1;34m(self, input_data, weights)\u001B[0m\n\u001B[0;32m    192\u001B[0m             \u001B[0mThe\u001B[0m \u001B[0mresult\u001B[0m \u001B[0mof\u001B[0m \u001B[0mthe\u001B[0m \u001B[0mneural\u001B[0m \u001B[0mnetwork\u001B[0m \u001B[0mof\u001B[0m \u001B[0mthe\u001B[0m \u001B[0mshape\u001B[0m \u001B[1;33m(\u001B[0m\u001B[0moutput_shape\u001B[0m\u001B[1;33m)\u001B[0m\u001B[1;33m.\u001B[0m\u001B[1;33m\u001B[0m\u001B[1;33m\u001B[0m\u001B[0m\n\u001B[0;32m    193\u001B[0m         \"\"\"\n\u001B[1;32m--> 194\u001B[1;33m         \u001B[0minput_\u001B[0m\u001B[1;33m,\u001B[0m \u001B[0mshape\u001B[0m \u001B[1;33m=\u001B[0m \u001B[0mself\u001B[0m\u001B[1;33m.\u001B[0m\u001B[0m_validate_input\u001B[0m\u001B[1;33m(\u001B[0m\u001B[0minput_data\u001B[0m\u001B[1;33m)\u001B[0m\u001B[1;33m\u001B[0m\u001B[1;33m\u001B[0m\u001B[0m\n\u001B[0m\u001B[0;32m    195\u001B[0m         \u001B[0mweights_\u001B[0m \u001B[1;33m=\u001B[0m \u001B[0mself\u001B[0m\u001B[1;33m.\u001B[0m\u001B[0m_validate_weights\u001B[0m\u001B[1;33m(\u001B[0m\u001B[0mweights\u001B[0m\u001B[1;33m)\u001B[0m\u001B[1;33m\u001B[0m\u001B[1;33m\u001B[0m\u001B[0m\n\u001B[0;32m    196\u001B[0m         \u001B[0moutput_data\u001B[0m \u001B[1;33m=\u001B[0m \u001B[0mself\u001B[0m\u001B[1;33m.\u001B[0m\u001B[0m_forward\u001B[0m\u001B[1;33m(\u001B[0m\u001B[0minput_\u001B[0m\u001B[1;33m,\u001B[0m \u001B[0mweights_\u001B[0m\u001B[1;33m)\u001B[0m\u001B[1;33m\u001B[0m\u001B[1;33m\u001B[0m\u001B[0m\n",
      "\u001B[1;32m~\\anaconda3\\envs\\google-trace-analysis\\lib\\site-packages\\qiskit_machine_learning\\neural_networks\\neural_network.py\u001B[0m in \u001B[0;36m_validate_input\u001B[1;34m(self, input_data)\u001B[0m\n\u001B[0;32m    129\u001B[0m \u001B[1;33m\u001B[0m\u001B[0m\n\u001B[0;32m    130\u001B[0m         \u001B[1;32mif\u001B[0m \u001B[0mshape\u001B[0m\u001B[1;33m[\u001B[0m\u001B[1;33m-\u001B[0m\u001B[1;36m1\u001B[0m\u001B[1;33m]\u001B[0m \u001B[1;33m!=\u001B[0m \u001B[0mself\u001B[0m\u001B[1;33m.\u001B[0m\u001B[0m_num_inputs\u001B[0m\u001B[1;33m:\u001B[0m\u001B[1;33m\u001B[0m\u001B[1;33m\u001B[0m\u001B[0m\n\u001B[1;32m--> 131\u001B[1;33m             raise QiskitMachineLearningError(\n\u001B[0m\u001B[0;32m    132\u001B[0m                 \u001B[1;34mf\"Input data has incorrect shape, last dimension \"\u001B[0m\u001B[1;33m\u001B[0m\u001B[1;33m\u001B[0m\u001B[0m\n\u001B[0;32m    133\u001B[0m                 \u001B[1;34mf\"is not equal to the number of inputs: \"\u001B[0m\u001B[1;33m\u001B[0m\u001B[1;33m\u001B[0m\u001B[0m\n",
      "\u001B[1;31mQiskitMachineLearningError\u001B[0m: 'Input data has incorrect shape, last dimension is not equal to the number of inputs: 1, but got: 84.'"
     ]
    }
   ],
   "source": [
    "import numpy as np\n",
    "import matplotlib.pyplot as plt\n",
    "\n",
    "from qiskit import Aer, QuantumCircuit\n",
    "from qiskit.opflow import Z, I, StateFn\n",
    "from qiskit.utils import QuantumInstance\n",
    "from qiskit.circuit import Parameter\n",
    "from qiskit.circuit.library import RealAmplitudes, ZZFeatureMap\n",
    "from qiskit.algorithms.optimizers import COBYLA, L_BFGS_B\n",
    "\n",
    "from qiskit_machine_learning.neural_networks import TwoLayerQNN, CircuitQNN\n",
    "from qiskit_machine_learning.algorithms.classifiers import NeuralNetworkClassifier, VQC\n",
    "from qiskit_machine_learning.algorithms.regressors import NeuralNetworkRegressor, VQR\n",
    "from IPython.display import clear_output\n",
    "\n",
    "\n",
    "quantum_instance = QuantumInstance(Aer.get_backend('aer_simulator'), shots=1024)\n",
    "\n",
    "# callback function that draws a live plot when the .fit() method is called\n",
    "def callback_graph(weights, obj_func_eval):\n",
    "    clear_output(wait=True)\n",
    "    objective_func_vals.append(obj_func_eval)\n",
    "    plt.title(\"Objective function value against iteration\")\n",
    "    plt.xlabel(\"Iteration\")\n",
    "    plt.ylabel(\"Objective function value\")\n",
    "    plt.plot(range(len(objective_func_vals)), objective_func_vals)\n",
    "    plt.show()\n",
    "# create empty array for callback to store evaluations of the objective function\n",
    "objective_func_vals = []\n",
    "plt.rcParams[\"figure.figsize\"] = (12, 6)\n",
    "\n",
    "# construct simple feature map\n",
    "param_x = Parameter('x')\n",
    "feature_map = QuantumCircuit(1, name='fm')\n",
    "feature_map.ry(param_x, 0)\n",
    "\n",
    "# construct simple ansatz\n",
    "param_y = Parameter('y')\n",
    "ansatz = QuantumCircuit(1, name='vf')\n",
    "ansatz.ry(param_y, 0)\n",
    "\n",
    "# construct QNN\n",
    "regression_opflow_qnn = TwoLayerQNN(1, feature_map, ansatz, quantum_instance=quantum_instance)\n",
    "\n",
    "# construct the regressor from the neural network\n",
    "regressor = NeuralNetworkRegressor(neural_network=regression_opflow_qnn,\n",
    "                                   loss='l2',\n",
    "                                   optimizer=L_BFGS_B(),\n",
    "                                   callback=callback_graph)\n",
    "\n",
    "# create empty array for callback to store evaluations of the objective function\n",
    "objective_func_vals = []\n",
    "plt.rcParams[\"figure.figsize\"] = (12, 6)\n",
    "\n",
    "print(np.arange(84))\n",
    "# fit to data\n",
    "regressor.fit(np.arange(84), X)\n",
    "\n",
    "# return to default figsize\n",
    "plt.rcParams[\"figure.figsize\"] = (6, 4)\n",
    "\n",
    "# score the result\n",
    "regressor.score(np.arange(84), X)\n"
   ],
   "metadata": {
    "collapsed": false,
    "pycharm": {
     "name": "#%%\n"
    }
   }
  },
  {
   "cell_type": "markdown",
   "metadata": {
    "pycharm": {
     "name": "#%% md\n"
    }
   },
   "source": [
    "#ARIMA 模型参数拟合"
   ]
  },
  {
   "cell_type": "code",
   "execution_count": 64,
   "outputs": [
    {
     "name": "stdout",
     "output_type": "stream",
     "text": [
      "Performing stepwise search to minimize aic\n",
      " ARIMA(2,0,2)(0,0,0)[0] intercept   : AIC=-859.088, Time=0.22 sec\n",
      " ARIMA(0,0,0)(0,0,0)[0] intercept   : AIC=-739.984, Time=0.04 sec\n",
      " ARIMA(1,0,0)(0,0,0)[0] intercept   : AIC=-860.308, Time=0.13 sec\n",
      " ARIMA(0,0,1)(0,0,0)[0] intercept   : AIC=-799.486, Time=0.10 sec\n",
      " ARIMA(0,0,0)(0,0,0)[0]             : AIC=-434.029, Time=0.02 sec\n",
      " ARIMA(2,0,0)(0,0,0)[0] intercept   : AIC=-863.085, Time=0.06 sec\n",
      " ARIMA(3,0,0)(0,0,0)[0] intercept   : AIC=-863.227, Time=0.09 sec\n",
      " ARIMA(4,0,0)(0,0,0)[0] intercept   : AIC=-865.731, Time=0.15 sec\n",
      " ARIMA(5,0,0)(0,0,0)[0] intercept   : AIC=-864.300, Time=0.13 sec\n",
      " ARIMA(4,0,1)(0,0,0)[0] intercept   : AIC=-863.231, Time=0.19 sec\n",
      " ARIMA(3,0,1)(0,0,0)[0] intercept   : AIC=-858.305, Time=0.26 sec\n",
      " ARIMA(5,0,1)(0,0,0)[0] intercept   : AIC=-860.526, Time=0.25 sec\n",
      " ARIMA(4,0,0)(0,0,0)[0]             : AIC=inf, Time=0.11 sec\n",
      "\n",
      "Best model:  ARIMA(4,0,0)(0,0,0)[0] intercept\n",
      "Total fit time: 1.744 seconds\n",
      "(84,)\n",
      "(30,) (54,)\n"
     ]
    },
    {
     "name": "stderr",
     "output_type": "stream",
     "text": [
      "C:\\Users\\lenovo\\anaconda3\\envs\\google-trace-analysis\\lib\\site-packages\\statsmodels\\tsa\\arima_model.py:472: FutureWarning: \n",
      "statsmodels.tsa.arima_model.ARMA and statsmodels.tsa.arima_model.ARIMA have\n",
      "been deprecated in favor of statsmodels.tsa.arima.model.ARIMA (note the .\n",
      "between arima and model) and\n",
      "statsmodels.tsa.SARIMAX. These will be removed after the 0.12 release.\n",
      "\n",
      "statsmodels.tsa.arima.model.ARIMA makes use of the statespace framework and\n",
      "is both well tested and maintained.\n",
      "\n",
      "To silence this warning and continue using ARMA and ARIMA until they are\n",
      "removed, use:\n",
      "\n",
      "import warnings\n",
      "warnings.filterwarnings('ignore', 'statsmodels.tsa.arima_model.ARMA',\n",
      "                        FutureWarning)\n",
      "warnings.filterwarnings('ignore', 'statsmodels.tsa.arima_model.ARIMA',\n",
      "                        FutureWarning)\n",
      "\n",
      "  warnings.warn(ARIMA_DEPRECATION_WARN, FutureWarning)\n"
     ]
    },
    {
     "name": "stdout",
     "output_type": "stream",
     "text": [
      "[0.01096361 0.01276027 0.01512248 0.01715677 0.01868295 0.0197871\n",
      " 0.02029111 0.02018535 0.01966933 0.01888516 0.01795965 0.01706288\n",
      " 0.01632151 0.01579799 0.0155248  0.01549793 0.01567278 0.01598633\n",
      " 0.01637114 0.01676068 0.01709952 0.01735067 0.01749598 0.01753485\n",
      " 0.01748175 0.01736125 0.01720251 0.01703453 0.01688228 0.01676385\n",
      " 0.01668928 0.0166607  0.01667351 0.01671821 0.01678269 0.01685436\n",
      " 0.01692199 0.01697699 0.01701411 0.01703156 0.0170306  0.01701478\n",
      " 0.01698906 0.01695883 0.01692911 0.01690391 0.01688587 0.01687615\n",
      " 0.01687453 0.01687973 0.01688977 0.01690235 0.01691527 0.01692668]\n",
      "[0.00873009 0.01345372 0.01627282 0.01631837 0.01653781 0.01640791\n",
      " 0.01659396 0.01794766 0.01857603 0.01922389 0.01976533 0.01984754\n",
      " 0.01941553 0.02035863 0.01922068 0.01853696 0.01932489 0.01774829\n",
      " 0.01787929 0.01776996 0.0166457  0.01677423 0.01488547 0.0144224\n",
      " 0.01426421 0.01522806 0.01618755 0.01933787 0.01917755 0.02088414\n",
      " 0.019842   0.01961764 0.0209591  0.0218979  0.02340094 0.02287934\n",
      " 0.02161878 0.02146912 0.01879018 0.01769925 0.01768853 0.01753083\n",
      " 0.01769753 0.01942874 0.01948125 0.02148444 0.01929276 0.01913444\n",
      " 0.0195879  0.01856301 0.02021539 0.01889404 0.01873533 0.0198003 ]\n"
     ]
    },
    {
     "data": {
      "text/plain": "[<matplotlib.lines.Line2D at 0x29825072100>]"
     },
     "execution_count": 64,
     "metadata": {},
     "output_type": "execute_result"
    },
    {
     "data": {
      "text/plain": "<Figure size 432x288 with 1 Axes>",
      "image/png": "[encoded data removed]"
     },
     "metadata": {
      "needs_background": "light"
     },
     "output_type": "display_data"
    }
   ],
   "source": [
    "# 只用84个数据进行拟合，拟合并不是很理想\n",
    "# 1）扩充数据规模，预处理，规整数据；2）神经网络方法，3）量子神经网络的方法\n",
    "from pmdarima import auto_arima\n",
    "stepwise_fit = auto_arima(X, trace=True, suppress_warnings=True)\n",
    "# 得出结果 Best model:  ARIMA(1,0,3)(0,0,0)[0] intercept\n",
    "#Total fit time: 4.207 seconds\n",
    "\n",
    "\n",
    "# 训练ARIMA的数据集分割，训练集+测试集\n",
    "print (X.shape)\n",
    "trainSet_arima,testSet_arima = np.split(X,[30])\n",
    "#testSet_arima = X.iiloc[-20:]\n",
    "print(trainSet_arima.shape, testSet_arima.shape)\n",
    "\n",
    "from statsmodels.tsa.arima_model import ARIMA\n",
    "model=ARIMA(trainSet_arima,order=(4,0,0))\n",
    "model=model.fit()\n",
    "model.summary()\n",
    "\n",
    "#检查how good of the model\n",
    "start =len(trainSet_arima)\n",
    "end = start + len(testSet_arima) - 1\n",
    "pred = model.predict(start=start, end=end, typ = 'levels')\n",
    "#pred.plot(legend = True)\n",
    "#testSet_arima.plot(legend = True)\n",
    "print(pred)\n",
    "print(testSet_arima)\n",
    "\n",
    "plt.plot(np.arange(30, 84), testSet_arima, label='Actual_value', alpha=0.5)\n",
    "plt.plot(np.arange(30, 84), pred, c='r', label='Predicted_EWMA', alpha=0.5)"
   ],
   "metadata": {
    "collapsed": false,
    "pycharm": {
     "name": "#%%\n"
    }
   }
  },
  {
   "cell_type": "markdown",
   "metadata": {
    "pycharm": {
     "name": "#%% md\n"
    }
   },
   "source": [
    "# Time Series"
   ]
  },
  {
   "cell_type": "code",
   "execution_count": 41,
   "outputs": [
    {
     "data": {
      "text/plain": "<Figure size 432x288 with 1 Axes>",
      "image/png": "[encoded data removed]"
     },
     "metadata": {
      "needs_background": "light"
     },
     "output_type": "display_data"
    },
    {
     "name": "stdout",
     "output_type": "stream",
     "text": [
      "EWMA error:  1.6966556887467803 %\n",
      "AUTO REG error:  5.107406069144584 %\n"
     ]
    }
   ],
   "source": [
    "## helper functions\n",
    "## in both the functions t is the current value\n",
    "\n",
    "def EWMA(X, t, x_t_hat=None, alpha=0.5): #,默认0.5,, 如果alpha->0, more weight to older data, if alpha->1, more weight to newer data\n",
    "    if t == 0:    \n",
    "        return alpha*X[t] * (1-alpha)*X[t]\n",
    "    if x_t_hat:\n",
    "        return alpha*X[t] + (1-alpha)*x_t_hat\n",
    "    else:\n",
    "        return alpha*X[t] + (1-alpha)*EWMA(X, t-1, None, alpha=alpha)\n",
    "\n",
    "def seasonal_observed(X, t, season=144):\n",
    "    return X[t-season+1]\n",
    "\n",
    "\n",
    "class AutoRegression(object):\n",
    "    def __init__(self, p=3, X=None):\n",
    "        self.p = p\n",
    "        self.X = X\n",
    "        self.n = len(X)\n",
    "        self.beta = np.ones((p, 1))/(p+1)\n",
    "        self.LR_solver = LinearRegression(n_jobs=-1, fit_intercept=False)\n",
    "        \n",
    "    def get_features(self, start=0, end=-1):\n",
    "        A = []\n",
    "        for i in range(start, end-self.p):\n",
    "            A.append(self.X[i:(i+self.p)])\n",
    "\n",
    "        A = np.array(A)\n",
    "        n = A.shape[0]\n",
    "        A = np.hstack((np.ones((n,1)), A))\n",
    "        return A\n",
    "        \n",
    "    def fit(self, end=-1): ## use 'end' inside, for our eg end = 577\n",
    "        features = self.get_features(0, end)\n",
    "        labels = np.array(self.X[self.p:end])\n",
    "        self.LR_solver.fit(features, labels)\n",
    "    \n",
    "    def predict(self, t): ## t is the value we want to predict, same as the previous 'end' = 577\n",
    "        features = self.get_features(t-self.p-1, t)\n",
    "        return self.LR_solver.predict(features)\n",
    "\n",
    "# 起点非24开始，加一个变量\n",
    "delta = 30\n",
    "\n",
    "def plotGraph(X,pred_ewma,pred_auto):\n",
    "    plt.xlabel('Index', fontsize=15)\n",
    "    plt.ylabel('Sample Value', fontsize=15)\n",
    "    plt.plot(np.arange(24 + delta, 84), X, label='Actual_value', alpha=0.8)\n",
    "    plt.plot(np.arange(24 + delta, 84), pred_ewma, c='r', label='Predicted_EWMA', alpha=0.5)\n",
    "    plt.plot(np.arange(24 + delta, 84), pred_auto, c='g', label='Predicted_AR', alpha=0.6)\n",
    "\n",
    "    plt.legend(fontsize=10)\n",
    "    plt.show()\n",
    "\n",
    "def errorCalc(actual,predict):\n",
    "    return (np.abs(predict-actual)*100/actual).mean()\n",
    "    \n",
    "def calcTimeSeries(X):\n",
    "    ar_model = AutoRegression(p=23 + delta, X=X)\n",
    "    pred_auto = []\n",
    "    for i in range(24 + delta, len(X)):\n",
    "        ar_model.fit(end=i)\n",
    "        pred_auto.append(ar_model.predict(t=i))\n",
    "\n",
    "    pred_auto = np.array(pred_auto).squeeze()\n",
    "    \n",
    "    y_t_hat = X[23 + delta]\n",
    "    alpha = 0.7\n",
    "    pred_ewma = []\n",
    "\n",
    "    for i in range(24 + delta, len(X)):\n",
    "        y_t_hat = EWMA(X, i, y_t_hat, alpha)\n",
    "        pred_ewma.append(y_t_hat)\n",
    "    \n",
    "    pred_ewma = np.array(pred_ewma)\n",
    "#     print X[24]\n",
    "#     print pred_auto\n",
    "#     print pred_ewma\n",
    "    y=[]\n",
    "    for i in range(24 + delta,len(X)):\n",
    "        y.append(X[i])\n",
    "    X=y\n",
    "    plotGraph(X,pred_ewma,pred_auto)\n",
    "    print (\"EWMA error: \",errorCalc(X,pred_ewma),\"%\")\n",
    "    print (\"AUTO REG error: \",errorCalc(X,pred_auto),\"%\")\n",
    "\n",
    "\n",
    "calcTimeSeries(X)"
   ],
   "metadata": {
    "collapsed": false,
    "pycharm": {
     "name": "#%%\n"
    }
   }
  },
  {
   "cell_type": "code",
   "execution_count": 33,
   "metadata": {},
   "outputs": [
    {
     "name": "stdout",
     "output_type": "stream",
     "text": [
      "[0.01753654 0.01671724 0.01628377 0.01571072 0.01498057 0.01495185\n",
      " 0.01394167 0.01502232 0.01649895 0.01657997 0.01664338 0.01745756\n",
      " 0.01696358 0.0181543  0.01921209 0.0185627  0.0188185  0.01891544\n",
      " 0.02145261 0.02142198 0.01988755 0.02009669 0.02083384 0.01824115\n",
      " 0.01937279 0.01865439 0.01282313 0.00946815 0.00866318 0.00976388\n",
      " 0.00873009 0.01345372 0.01627282 0.01631837 0.01653781 0.01640791\n",
      " 0.01659396 0.01794766 0.01857603 0.01922389 0.01976533 0.01984754\n",
      " 0.01941553 0.02035863 0.01922068 0.01853696 0.01932489 0.01774829\n",
      " 0.01787929 0.01776996 0.0166457  0.01677423 0.01488547 0.0144224\n",
      " 0.01426421 0.01522806 0.01618755 0.01933787 0.01917755 0.02088414\n",
      " 0.019842   0.01961764 0.0209591  0.0218979  0.02340094 0.02287934\n",
      " 0.02161878 0.02146912 0.01879018 0.01769925 0.01768853 0.01753083\n",
      " 0.01769753 0.01942874 0.01948125 0.02148444 0.01929276 0.01913444\n",
      " 0.0195879  0.01856301 0.02021539 0.01889404 0.01873533 0.0198003 ]\n"
     ]
    }
   ],
   "source": [
    "print (X)"
   ]
  },
  {
   "cell_type": "code",
   "execution_count": 16,
   "metadata": {},
   "outputs": [],
   "source": []
  },
  {
   "cell_type": "code",
   "execution_count": 16,
   "metadata": {},
   "outputs": [],
   "source": []
  },
  {
   "cell_type": "code",
   "execution_count": 16,
   "metadata": {},
   "outputs": [],
   "source": []
  },
  {
   "cell_type": "code",
   "execution_count": 16,
   "metadata": {},
   "outputs": [],
   "source": []
  },
  {
   "cell_type": "code",
   "execution_count": 16,
   "metadata": {},
   "outputs": [],
   "source": []
  },
  {
   "cell_type": "code",
   "execution_count": 16,
   "metadata": {},
   "outputs": [],
   "source": []
  }
 ],
 "metadata": {
  "kernelspec": {
   "display_name": "PyCharm (google-trace-analysis)",
   "language": "python",
   "name": "pycharm-f30bcb0d"
  },
  "language_info": {
   "codemirror_mode": {
    "name": "ipython",
    "version": 3
   },
   "file_extension": ".py",
   "mimetype": "text/x-python",
   "name": "python",
   "nbconvert_exporter": "python",
   "pygments_lexer": "ipython3",
   "version": "3.8.10"
  }
 },
 "nbformat": 4,
 "nbformat_minor": 2
}