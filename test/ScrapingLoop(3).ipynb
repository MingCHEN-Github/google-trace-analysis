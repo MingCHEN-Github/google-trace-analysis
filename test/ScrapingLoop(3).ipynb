{
 "cells": [
  {
   "cell_type": "code",
   "execution_count": 59,
   "metadata": {},
   "outputs": [],
   "source": [
    "import requests\n",
    "import pandas as pd\n",
    "import numpy as np\n",
    "from bs4 import BeautifulSoup\n",
    "import re\n",
    "import csv"
   ]
  },
  {
   "cell_type": "code",
   "execution_count": 60,
   "metadata": {},
   "outputs": [
    {
     "data": {
      "text/plain": "   stories_id    publish_date  \\\n0    24842462  2010/10/1 3:15   \n1    24846848  2010/10/1 3:15   \n2    24852751  2010/10/1 3:15   \n3    24854379  2010/10/1 3:15   \n4    24855301  2010/10/1 3:15   \n\n                                               title  \\\n0           Ad watch | Robin Carnahan and Roy Blunt    \n1             Younger Frederick enters the BCS fray    \n2     NASCAR's Stewart can be difficult, but ther...   \n3     When Washington fails, average citizens ste...   \n4     Movie Mom | &lsquo;The Social Network,' &ls...   \n\n                                                 url language  ap_syndicated  \\\n0  http://www.kansascity.com/2010/09/30/2264637/a...      NaN          False   \n1  http://www.kansascity.com/2010/09/30/2265196/y...      NaN          False   \n2  http://www.kansascity.com/2010/09/30/2265128/n...      NaN          False   \n3  http://www.kansascity.com/2010/09/30/2264678/w...      NaN          False   \n4  http://www.kansascity.com/2010/09/30/2262171/m...      NaN          False   \n\n  themes  media_id        media_name                   media_url  \n0    NaN        30  Kansas City Star  http://www.kansascity.com/  \n1    NaN        30  Kansas City Star  http://www.kansascity.com/  \n2    NaN        30  Kansas City Star  http://www.kansascity.com/  \n3    NaN        30  Kansas City Star  http://www.kansascity.com/  \n4    NaN        30  Kansas City Star  http://www.kansascity.com/  ",
      "text/html": "<div>\n<style scoped>\n    .dataframe tbody tr th:only-of-type {\n        vertical-align: middle;\n    }\n\n    .dataframe tbody tr th {\n        vertical-align: top;\n    }\n\n    .dataframe thead th {\n        text-align: right;\n    }\n</style>\n<table border=\"1\" class=\"dataframe\">\n  <thead>\n    <tr style=\"text-align: right;\">\n      <th></th>\n      <th>stories_id</th>\n      <th>publish_date</th>\n      <th>title</th>\n      <th>url</th>\n      <th>language</th>\n      <th>ap_syndicated</th>\n      <th>themes</th>\n      <th>media_id</th>\n      <th>media_name</th>\n      <th>media_url</th>\n    </tr>\n  </thead>\n  <tbody>\n    <tr>\n      <th>0</th>\n      <td>24842462</td>\n      <td>2010/10/1 3:15</td>\n      <td>Ad watch | Robin Carnahan and Roy Blunt</td>\n      <td>http://www.kansascity.com/2010/09/30/2264637/a...</td>\n      <td>NaN</td>\n      <td>False</td>\n      <td>NaN</td>\n      <td>30</td>\n      <td>Kansas City Star</td>\n      <td>http://www.kansascity.com/</td>\n    </tr>\n    <tr>\n      <th>1</th>\n      <td>24846848</td>\n      <td>2010/10/1 3:15</td>\n      <td>Younger Frederick enters the BCS fray</td>\n      <td>http://www.kansascity.com/2010/09/30/2265196/y...</td>\n      <td>NaN</td>\n      <td>False</td>\n      <td>NaN</td>\n      <td>30</td>\n      <td>Kansas City Star</td>\n      <td>http://www.kansascity.com/</td>\n    </tr>\n    <tr>\n      <th>2</th>\n      <td>24852751</td>\n      <td>2010/10/1 3:15</td>\n      <td>NASCAR's Stewart can be difficult, but ther...</td>\n      <td>http://www.kansascity.com/2010/09/30/2265128/n...</td>\n      <td>NaN</td>\n      <td>False</td>\n      <td>NaN</td>\n      <td>30</td>\n      <td>Kansas City Star</td>\n      <td>http://www.kansascity.com/</td>\n    </tr>\n    <tr>\n      <th>3</th>\n      <td>24854379</td>\n      <td>2010/10/1 3:15</td>\n      <td>When Washington fails, average citizens ste...</td>\n      <td>http://www.kansascity.com/2010/09/30/2264678/w...</td>\n      <td>NaN</td>\n      <td>False</td>\n      <td>NaN</td>\n      <td>30</td>\n      <td>Kansas City Star</td>\n      <td>http://www.kansascity.com/</td>\n    </tr>\n    <tr>\n      <th>4</th>\n      <td>24855301</td>\n      <td>2010/10/1 3:15</td>\n      <td>Movie Mom | &amp;lsquo;The Social Network,' &amp;ls...</td>\n      <td>http://www.kansascity.com/2010/09/30/2262171/m...</td>\n      <td>NaN</td>\n      <td>False</td>\n      <td>NaN</td>\n      <td>30</td>\n      <td>Kansas City Star</td>\n      <td>http://www.kansascity.com/</td>\n    </tr>\n  </tbody>\n</table>\n</div>"
     },
     "execution_count": 60,
     "metadata": {},
     "output_type": "execute_result"
    }
   ],
   "source": [
    "# import the story list\n",
    "# resave the csv file, because the orignial csv may contain the error chars\n",
    "df = pd.read_csv(\"story_listUS_2.csv\" ,encoding=\"ISO-8859-1\" )\n",
    "df.head()"
   ]
  },
  {
   "cell_type": "code",
   "execution_count": 61,
   "metadata": {
    "pycharm": {
     "name": "#%%\n"
    },
    "scrolled": true
   },
   "outputs": [
    {
     "data": {
      "text/plain": "                         Source  Source_ID                      URL_Root  \\\n164            Kansas City Star         30    http://www.kansascity.com/   \n165               Baltimore Sun         34  http://www.baltimoresun.com/   \n166       San Jose Mercury News         35   http://www.mercurynews.com/   \n167  Milwaukee Journal Sentinel         36      http://www.jsonline.com/   \n168            Orlando Sentinal         38     feeds.orlandosentinal.com   \n\n                                       Key_for_article        Notes  \n164                                                NaN  Unreachable  \n165                     (\"div\", class_=\"crd clln--it\")          NaN  \n166                                                NaN  Unreachable  \n167                                                (p)          NaN  \n168  every (\"p\", class = \" \") within (\"div\", class ...          NaN  ",
      "text/html": "<div>\n<style scoped>\n    .dataframe tbody tr th:only-of-type {\n        vertical-align: middle;\n    }\n\n    .dataframe tbody tr th {\n        vertical-align: top;\n    }\n\n    .dataframe thead th {\n        text-align: right;\n    }\n</style>\n<table border=\"1\" class=\"dataframe\">\n  <thead>\n    <tr style=\"text-align: right;\">\n      <th></th>\n      <th>Source</th>\n      <th>Source_ID</th>\n      <th>URL_Root</th>\n      <th>Key_for_article</th>\n      <th>Notes</th>\n    </tr>\n  </thead>\n  <tbody>\n    <tr>\n      <th>164</th>\n      <td>Kansas City Star</td>\n      <td>30</td>\n      <td>http://www.kansascity.com/</td>\n      <td>NaN</td>\n      <td>Unreachable</td>\n    </tr>\n    <tr>\n      <th>165</th>\n      <td>Baltimore Sun</td>\n      <td>34</td>\n      <td>http://www.baltimoresun.com/</td>\n      <td>(\"div\", class_=\"crd clln--it\")</td>\n      <td>NaN</td>\n    </tr>\n    <tr>\n      <th>166</th>\n      <td>San Jose Mercury News</td>\n      <td>35</td>\n      <td>http://www.mercurynews.com/</td>\n      <td>NaN</td>\n      <td>Unreachable</td>\n    </tr>\n    <tr>\n      <th>167</th>\n      <td>Milwaukee Journal Sentinel</td>\n      <td>36</td>\n      <td>http://www.jsonline.com/</td>\n      <td>(p)</td>\n      <td>NaN</td>\n    </tr>\n    <tr>\n      <th>168</th>\n      <td>Orlando Sentinal</td>\n      <td>38</td>\n      <td>feeds.orlandosentinal.com</td>\n      <td>every (\"p\", class = \" \") within (\"div\", class ...</td>\n      <td>NaN</td>\n    </tr>\n  </tbody>\n</table>\n</div>"
     },
     "execution_count": 61,
     "metadata": {},
     "output_type": "execute_result"
    }
   ],
   "source": [
    "# import the tags\n",
    "tags = pd.read_csv(\"Tags2.csv\")\n",
    "tags.tail()"
   ]
  },
  {
   "cell_type": "code",
   "execution_count": 62,
   "metadata": {},
   "outputs": [
    {
     "data": {
      "text/plain": "0       1\n1       1\n2       1\n3       1\n4       1\n       ..\n164    30\n165    34\n166    35\n167    36\n168    38\nName: Source_ID, Length: 169, dtype: int32"
     },
     "execution_count": 62,
     "metadata": {},
     "output_type": "execute_result"
    }
   ],
   "source": [
    "# convert the Source ID into integer\n",
    "\n",
    "\n",
    "tags['Source_ID'] = tags['Source_ID'].astype(int)\n",
    "tags['Source_ID']"
   ]
  },
  {
   "cell_type": "code",
   "execution_count": 63,
   "metadata": {},
   "outputs": [
    {
     "data": {
      "text/plain": "0        30\n1        30\n2        30\n3        30\n4        30\n         ..\n87223    41\n87224    30\n87225    30\n87226    36\n87227    30\nName: media_id, Length: 87228, dtype: int32"
     },
     "execution_count": 63,
     "metadata": {},
     "output_type": "execute_result"
    }
   ],
   "source": [
    "# convert the media_id into integer\n",
    "df['media_id'] = df['media_id'].astype(int)\n",
    "df['media_id']"
   ]
  },
  {
   "cell_type": "code",
   "execution_count": 64,
   "metadata": {
    "scrolled": true
   },
   "outputs": [],
   "source": [
    "# identify and extract out the row of the story\n",
    "for n in range(len(df)):\n",
    "    eg = df.iloc[n]\n",
    "    eg"
   ]
  },
  {
   "cell_type": "code",
   "execution_count": 65,
   "metadata": {},
   "outputs": [
    {
     "data": {
      "text/plain": "               Source  Source_ID                    URL_Root Key_for_article  \\\n164  Kansas City Star         30  http://www.kansascity.com/             NaN   \n\n           Notes  \n164  Unreachable  ",
      "text/html": "<div>\n<style scoped>\n    .dataframe tbody tr th:only-of-type {\n        vertical-align: middle;\n    }\n\n    .dataframe tbody tr th {\n        vertical-align: top;\n    }\n\n    .dataframe thead th {\n        text-align: right;\n    }\n</style>\n<table border=\"1\" class=\"dataframe\">\n  <thead>\n    <tr style=\"text-align: right;\">\n      <th></th>\n      <th>Source</th>\n      <th>Source_ID</th>\n      <th>URL_Root</th>\n      <th>Key_for_article</th>\n      <th>Notes</th>\n    </tr>\n  </thead>\n  <tbody>\n    <tr>\n      <th>164</th>\n      <td>Kansas City Star</td>\n      <td>30</td>\n      <td>http://www.kansascity.com/</td>\n      <td>NaN</td>\n      <td>Unreachable</td>\n    </tr>\n  </tbody>\n</table>\n</div>"
     },
     "execution_count": 65,
     "metadata": {},
     "output_type": "execute_result"
    }
   ],
   "source": [
    "# searching for the tags \n",
    "temp = tags[tags[\"Source_ID\"] == eg[\"media_id\"]]\n",
    "temp"
   ]
  },
  {
   "cell_type": "code",
   "execution_count": 66,
   "metadata": {},
   "outputs": [
    {
     "ename": "KeyError",
     "evalue": "'URL Root'",
     "output_type": "error",
     "traceback": [
      "\u001B[1;31m---------------------------------------------------------------------------\u001B[0m",
      "\u001B[1;31mKeyError\u001B[0m                                  Traceback (most recent call last)",
      "\u001B[1;32m~\\anaconda3\\envs\\google-trace-analysis\\lib\\site-packages\\pandas\\core\\indexes\\base.py\u001B[0m in \u001B[0;36mget_loc\u001B[1;34m(self, key, method, tolerance)\u001B[0m\n\u001B[0;32m   3360\u001B[0m             \u001B[1;32mtry\u001B[0m\u001B[1;33m:\u001B[0m\u001B[1;33m\u001B[0m\u001B[1;33m\u001B[0m\u001B[0m\n\u001B[1;32m-> 3361\u001B[1;33m                 \u001B[1;32mreturn\u001B[0m \u001B[0mself\u001B[0m\u001B[1;33m.\u001B[0m\u001B[0m_engine\u001B[0m\u001B[1;33m.\u001B[0m\u001B[0mget_loc\u001B[0m\u001B[1;33m(\u001B[0m\u001B[0mcasted_key\u001B[0m\u001B[1;33m)\u001B[0m\u001B[1;33m\u001B[0m\u001B[1;33m\u001B[0m\u001B[0m\n\u001B[0m\u001B[0;32m   3362\u001B[0m             \u001B[1;32mexcept\u001B[0m \u001B[0mKeyError\u001B[0m \u001B[1;32mas\u001B[0m \u001B[0merr\u001B[0m\u001B[1;33m:\u001B[0m\u001B[1;33m\u001B[0m\u001B[1;33m\u001B[0m\u001B[0m\n",
      "\u001B[1;32m~\\anaconda3\\envs\\google-trace-analysis\\lib\\site-packages\\pandas\\_libs\\index.pyx\u001B[0m in \u001B[0;36mpandas._libs.index.IndexEngine.get_loc\u001B[1;34m()\u001B[0m\n",
      "\u001B[1;32m~\\anaconda3\\envs\\google-trace-analysis\\lib\\site-packages\\pandas\\_libs\\index.pyx\u001B[0m in \u001B[0;36mpandas._libs.index.IndexEngine.get_loc\u001B[1;34m()\u001B[0m\n",
      "\u001B[1;32mpandas\\_libs\\hashtable_class_helper.pxi\u001B[0m in \u001B[0;36mpandas._libs.hashtable.PyObjectHashTable.get_item\u001B[1;34m()\u001B[0m\n",
      "\u001B[1;32mpandas\\_libs\\hashtable_class_helper.pxi\u001B[0m in \u001B[0;36mpandas._libs.hashtable.PyObjectHashTable.get_item\u001B[1;34m()\u001B[0m\n",
      "\u001B[1;31mKeyError\u001B[0m: 'URL Root'",
      "\nThe above exception was the direct cause of the following exception:\n",
      "\u001B[1;31mKeyError\u001B[0m                                  Traceback (most recent call last)",
      "\u001B[1;32m~\\AppData\\Local\\Temp/ipykernel_46772/2819029761.py\u001B[0m in \u001B[0;36m<module>\u001B[1;34m\u001B[0m\n\u001B[0;32m      3\u001B[0m \u001B[1;32mfor\u001B[0m \u001B[0mi\u001B[0m \u001B[1;32min\u001B[0m \u001B[0mrange\u001B[0m\u001B[1;33m(\u001B[0m\u001B[0mlen\u001B[0m\u001B[1;33m(\u001B[0m\u001B[0mtemp\u001B[0m\u001B[1;33m)\u001B[0m\u001B[1;33m)\u001B[0m\u001B[1;33m:\u001B[0m\u001B[1;33m\u001B[0m\u001B[1;33m\u001B[0m\u001B[0m\n\u001B[0;32m      4\u001B[0m     \u001B[1;31m# when URL Root is contained in url, then perform the func below to extract the content of webpage\u001B[0m\u001B[1;33m\u001B[0m\u001B[1;33m\u001B[0m\u001B[1;33m\u001B[0m\u001B[0m\n\u001B[1;32m----> 5\u001B[1;33m     \u001B[1;32mif\u001B[0m \u001B[0mtemp\u001B[0m\u001B[1;33m[\u001B[0m\u001B[1;34m\"URL Root\"\u001B[0m\u001B[1;33m]\u001B[0m\u001B[1;33m.\u001B[0m\u001B[0miloc\u001B[0m\u001B[1;33m[\u001B[0m\u001B[0mi\u001B[0m\u001B[1;33m]\u001B[0m \u001B[1;32min\u001B[0m \u001B[0meg\u001B[0m\u001B[1;33m[\u001B[0m\u001B[1;34m\"url\"\u001B[0m\u001B[1;33m]\u001B[0m\u001B[1;33m:\u001B[0m\u001B[1;33m\u001B[0m\u001B[1;33m\u001B[0m\u001B[0m\n\u001B[0m\u001B[0;32m      6\u001B[0m         \u001B[0mkey\u001B[0m \u001B[1;33m=\u001B[0m \u001B[0mtags\u001B[0m\u001B[1;33m[\u001B[0m\u001B[1;34m\"Key for article\"\u001B[0m\u001B[1;33m]\u001B[0m\u001B[1;33m.\u001B[0m\u001B[0miloc\u001B[0m\u001B[1;33m[\u001B[0m\u001B[0mi\u001B[0m\u001B[1;33m]\u001B[0m\u001B[1;33m\u001B[0m\u001B[1;33m\u001B[0m\u001B[0m\n\u001B[0;32m      7\u001B[0m         \u001B[1;32mtry\u001B[0m\u001B[1;33m:\u001B[0m\u001B[1;33m\u001B[0m\u001B[1;33m\u001B[0m\u001B[0m\n",
      "\u001B[1;32m~\\anaconda3\\envs\\google-trace-analysis\\lib\\site-packages\\pandas\\core\\frame.py\u001B[0m in \u001B[0;36m__getitem__\u001B[1;34m(self, key)\u001B[0m\n\u001B[0;32m   3453\u001B[0m             \u001B[1;32mif\u001B[0m \u001B[0mself\u001B[0m\u001B[1;33m.\u001B[0m\u001B[0mcolumns\u001B[0m\u001B[1;33m.\u001B[0m\u001B[0mnlevels\u001B[0m \u001B[1;33m>\u001B[0m \u001B[1;36m1\u001B[0m\u001B[1;33m:\u001B[0m\u001B[1;33m\u001B[0m\u001B[1;33m\u001B[0m\u001B[0m\n\u001B[0;32m   3454\u001B[0m                 \u001B[1;32mreturn\u001B[0m \u001B[0mself\u001B[0m\u001B[1;33m.\u001B[0m\u001B[0m_getitem_multilevel\u001B[0m\u001B[1;33m(\u001B[0m\u001B[0mkey\u001B[0m\u001B[1;33m)\u001B[0m\u001B[1;33m\u001B[0m\u001B[1;33m\u001B[0m\u001B[0m\n\u001B[1;32m-> 3455\u001B[1;33m             \u001B[0mindexer\u001B[0m \u001B[1;33m=\u001B[0m \u001B[0mself\u001B[0m\u001B[1;33m.\u001B[0m\u001B[0mcolumns\u001B[0m\u001B[1;33m.\u001B[0m\u001B[0mget_loc\u001B[0m\u001B[1;33m(\u001B[0m\u001B[0mkey\u001B[0m\u001B[1;33m)\u001B[0m\u001B[1;33m\u001B[0m\u001B[1;33m\u001B[0m\u001B[0m\n\u001B[0m\u001B[0;32m   3456\u001B[0m             \u001B[1;32mif\u001B[0m \u001B[0mis_integer\u001B[0m\u001B[1;33m(\u001B[0m\u001B[0mindexer\u001B[0m\u001B[1;33m)\u001B[0m\u001B[1;33m:\u001B[0m\u001B[1;33m\u001B[0m\u001B[1;33m\u001B[0m\u001B[0m\n\u001B[0;32m   3457\u001B[0m                 \u001B[0mindexer\u001B[0m \u001B[1;33m=\u001B[0m \u001B[1;33m[\u001B[0m\u001B[0mindexer\u001B[0m\u001B[1;33m]\u001B[0m\u001B[1;33m\u001B[0m\u001B[1;33m\u001B[0m\u001B[0m\n",
      "\u001B[1;32m~\\anaconda3\\envs\\google-trace-analysis\\lib\\site-packages\\pandas\\core\\indexes\\base.py\u001B[0m in \u001B[0;36mget_loc\u001B[1;34m(self, key, method, tolerance)\u001B[0m\n\u001B[0;32m   3361\u001B[0m                 \u001B[1;32mreturn\u001B[0m \u001B[0mself\u001B[0m\u001B[1;33m.\u001B[0m\u001B[0m_engine\u001B[0m\u001B[1;33m.\u001B[0m\u001B[0mget_loc\u001B[0m\u001B[1;33m(\u001B[0m\u001B[0mcasted_key\u001B[0m\u001B[1;33m)\u001B[0m\u001B[1;33m\u001B[0m\u001B[1;33m\u001B[0m\u001B[0m\n\u001B[0;32m   3362\u001B[0m             \u001B[1;32mexcept\u001B[0m \u001B[0mKeyError\u001B[0m \u001B[1;32mas\u001B[0m \u001B[0merr\u001B[0m\u001B[1;33m:\u001B[0m\u001B[1;33m\u001B[0m\u001B[1;33m\u001B[0m\u001B[0m\n\u001B[1;32m-> 3363\u001B[1;33m                 \u001B[1;32mraise\u001B[0m \u001B[0mKeyError\u001B[0m\u001B[1;33m(\u001B[0m\u001B[0mkey\u001B[0m\u001B[1;33m)\u001B[0m \u001B[1;32mfrom\u001B[0m \u001B[0merr\u001B[0m\u001B[1;33m\u001B[0m\u001B[1;33m\u001B[0m\u001B[0m\n\u001B[0m\u001B[0;32m   3364\u001B[0m \u001B[1;33m\u001B[0m\u001B[0m\n\u001B[0;32m   3365\u001B[0m         \u001B[1;32mif\u001B[0m \u001B[0mis_scalar\u001B[0m\u001B[1;33m(\u001B[0m\u001B[0mkey\u001B[0m\u001B[1;33m)\u001B[0m \u001B[1;32mand\u001B[0m \u001B[0misna\u001B[0m\u001B[1;33m(\u001B[0m\u001B[0mkey\u001B[0m\u001B[1;33m)\u001B[0m \u001B[1;32mand\u001B[0m \u001B[1;32mnot\u001B[0m \u001B[0mself\u001B[0m\u001B[1;33m.\u001B[0m\u001B[0mhasnans\u001B[0m\u001B[1;33m:\u001B[0m\u001B[1;33m\u001B[0m\u001B[1;33m\u001B[0m\u001B[0m\n",
      "\u001B[1;31mKeyError\u001B[0m: 'URL Root'"
     ]
    }
   ],
   "source": [
    "full = ''\n",
    "# to perform scraping loop   \n",
    "for i in range(len(temp)):\n",
    "    # when URL Root is contained in url, then perform the func below to extract the content of webpage\n",
    "    if temp[\"URL Root\"].iloc[i] in eg[\"url\"]:\n",
    "        key = tags[\"Key for article\"].iloc[i]\n",
    "        try:\n",
    "            page = requests.get(eg[\"url\"])\n",
    "            soup = BeautifulSoup(page.content, \"html.parser\")\n",
    "            if 'and' in key:\n",
    "                key = key.split(' and ')\n",
    "                contents0 = soup.find_all(key[0].strip('(\" \")'))\n",
    "                for content in contents0:\n",
    "                    full += content.get_text()\n",
    "                    contents1 = soup.find_all(key[1].strip('()'))\n",
    "                for content in contents1:\n",
    "                    full += content.get_text()\n",
    "            else:\n",
    "                contents = contents = soup.find_all(key.strip('(\" \")'))\n",
    "                for content in contents:\n",
    "                    full += content.get_text()\n",
    "            if \"The page you were looking for couldn't be found\" in full:\n",
    "                    full = 'broken'\n",
    "        except:\n",
    "            full =\"broken\"\n",
    "        break"
   ]
  },
  {
   "cell_type": "code",
   "execution_count": null,
   "metadata": {},
   "outputs": [],
   "source": [
    "full"
   ]
  },
  {
   "cell_type": "code",
   "execution_count": null,
   "metadata": {},
   "outputs": [],
   "source": [
    "title = '\"'+df['title'][n]+'\"'\n",
    "title"
   ]
  },
  {
   "cell_type": "code",
   "execution_count": null,
   "metadata": {},
   "outputs": [],
   "source": [
    "#save the title and text to a file\n",
    "save_file = open(r'result.txt', 'w')\n",
    "save_file.write(title)\n",
    "save_file.write(full)\n",
    "save_file.close()"
   ]
  },
  {
   "cell_type": "code",
   "execution_count": null,
   "metadata": {},
   "outputs": [],
   "source": []
  }
 ],
 "metadata": {
  "kernelspec": {
   "name": "pycharm-f30bcb0d",
   "language": "python",
   "display_name": "PyCharm (google-trace-analysis)"
  },
  "language_info": {
   "codemirror_mode": {
    "name": "ipython",
    "version": 3
   },
   "file_extension": ".py",
   "mimetype": "text/x-python",
   "name": "python",
   "nbconvert_exporter": "python",
   "pygments_lexer": "ipython3",
   "version": "3.8.3"
  }
 },
 "nbformat": 4,
 "nbformat_minor": 4
}