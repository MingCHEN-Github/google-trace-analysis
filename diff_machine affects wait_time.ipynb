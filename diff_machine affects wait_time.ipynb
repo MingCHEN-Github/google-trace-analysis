{
 "cells": [
  {
   "cell_type": "code",
   "execution_count": 2,
   "metadata": {},
   "outputs": [
    {
     "name": "stderr",
     "output_type": "stream",
     "text": [
      "C:\\Users\\faizaan09\\Anaconda3\\lib\\site-packages\\h5py\\__init__.py:36: FutureWarning: Conversion of the second argument of issubdtype from `float` to `np.floating` is deprecated. In future, it will be treated as `np.float64 == np.dtype(float).type`.\n",
      "  from ._conv import register_converters as _register_converters\n"
     ]
    }
   ],
   "source": [
    "import pandas as pd\n",
    "import numpy as np\n",
    "import os\n",
    "import pickle as pkl\n",
    "import h5py\n",
    "import sys\n",
    "from tqdm import tqdm\n",
    "import gc\n",
    "import matplotlib.pyplot as plt\n",
    "from sklearn.preprocessing import StandardScaler\n",
    "from scipy.stats import kstest,ks_2samp,pearsonr\n",
    "import scipy\n",
    "import glob"
   ]
  },
  {
   "cell_type": "code",
   "execution_count": 3,
   "metadata": {},
   "outputs": [],
   "source": [
    "data_dir = \"./data/clusterdata-2011-2/\"\n",
    "\n",
    "task_events_header = ['timestamp','missing_info', 'job_id','task_index','machine_id','event_type',\n",
    "                      'user_name','sched_class','priority','cpu_req','ram_req','space_req','diff_machine']\n",
    "\n",
    "machine_events_header = ['timestamp','machine_id','event_type','platform_id','cpu_cap','mem_cap']\n",
    "task_events_header_filtered = ['timestamp','event_type',\n",
    "                      'priority','cpu_req','ram_req','disk_space_req','different_machine','task_key', 'time_taken']\n",
    "\n",
    "task_attr_header = ['timestamp', 'job_id', 'task_index', 'attr_name', 'attr_val', 'comparison']"
   ]
  },
  {
   "cell_type": "code",
   "execution_count": 8,
   "metadata": {},
   "outputs": [
    {
     "name": "stderr",
     "output_type": "stream",
     "text": [
      "\n",
      "  0%|                                                                                          | 0/500 [00:00<?, ?it/s]\n",
      " 40%|███████████████████████████████▊                                                | 199/500 [22:48<32:35,  6.50s/it]"
     ]
    },
    {
     "name": "stdout",
     "output_type": "stream",
     "text": [
      "200 files processed\n"
     ]
    }
   ],
   "source": [
    "count = 0\n",
    "final_df = pd.DataFrame()\n",
    "\n",
    "for name in tqdm(glob.glob(data_dir+\"task_events/*.csv.gz\")):\n",
    "#     print(name)\n",
    "    df = pd.read_csv(name, header=None)\n",
    "    df.columns = task_events_header\n",
    "    df['task_key'] = df['job_id'].astype(str) +'-'+ df['task_index'].astype(str) \n",
    "    df = df[pd.isnull(df['missing_info']) == True]\n",
    "    df = df.loc[(df['event_type']==0) | (df['event_type']==1)]\n",
    "    df.drop(\n",
    "        [\n",
    "            \"user_name\", \"machine_id\", \"job_id\", \"task_index\",\n",
    "            \"sched_class\", \"missing_info\"\n",
    "        ],\n",
    "        axis=1,\n",
    "        inplace=True)\n",
    "    \n",
    "    df.to_csv(name.replace(\".csv\", \".filtered.csv\"), index=False, compression='gzip')\n",
    "        \n",
    "    count += 1\n",
    "    if count >= 200:\n",
    "        break\n",
    "    \n",
    "print (count, \"files processed\")"
   ]
  },
  {
   "cell_type": "code",
   "execution_count": 12,
   "metadata": {},
   "outputs": [
    {
     "name": "stderr",
     "output_type": "stream",
     "text": [
      "\n",
      "  0%|                                                                                          | 0/200 [00:00<?, ?it/s]"
     ]
    },
    {
     "name": "stdout",
     "output_type": "stream",
     "text": [
      "./data/clusterdata-2011-2/task_events\\part-00000-of-00500.filtered.csv.gz\n"
     ]
    },
    {
     "name": "stderr",
     "output_type": "stream",
     "text": [
      "\n",
      "  0%|▍                                                                                 | 1/200 [00:00<02:34,  1.29it/s]"
     ]
    },
    {
     "name": "stdout",
     "output_type": "stream",
     "text": [
      "./data/clusterdata-2011-2/task_events\\part-00001-of-00500.filtered.csv.gz\n"
     ]
    },
    {
     "name": "stderr",
     "output_type": "stream",
     "text": [
      "\n",
      "  1%|▊                                                                                 | 2/200 [00:00<01:57,  1.69it/s]"
     ]
    },
    {
     "name": "stdout",
     "output_type": "stream",
     "text": [
      "./data/clusterdata-2011-2/task_events\\part-00002-of-00500.filtered.csv.gz\n"
     ]
    },
    {
     "name": "stderr",
     "output_type": "stream",
     "text": [
      "\n",
      "  2%|█▏                                                                                | 3/200 [00:01<01:40,  1.96it/s]"
     ]
    },
    {
     "name": "stdout",
     "output_type": "stream",
     "text": [
      "./data/clusterdata-2011-2/task_events\\part-00003-of-00500.filtered.csv.gz\n"
     ]
    },
    {
     "name": "stderr",
     "output_type": "stream",
     "text": [
      "\n",
      "  2%|█▋                                                                                | 4/200 [00:01<01:25,  2.29it/s]"
     ]
    },
    {
     "name": "stdout",
     "output_type": "stream",
     "text": [
      "./data/clusterdata-2011-2/task_events\\part-00004-of-00500.filtered.csv.gz\n"
     ]
    },
    {
     "name": "stderr",
     "output_type": "stream",
     "text": [
      "\n",
      "  2%|██                                                                                | 5/200 [00:01<01:15,  2.57it/s]"
     ]
    },
    {
     "name": "stdout",
     "output_type": "stream",
     "text": [
      "./data/clusterdata-2011-2/task_events\\part-00005-of-00500.filtered.csv.gz\n"
     ]
    },
    {
     "name": "stderr",
     "output_type": "stream",
     "text": [
      "\n",
      "  3%|██▍                                                                               | 6/200 [00:02<01:18,  2.48it/s]"
     ]
    },
    {
     "name": "stdout",
     "output_type": "stream",
     "text": [
      "./data/clusterdata-2011-2/task_events\\part-00006-of-00500.filtered.csv.gz\n"
     ]
    },
    {
     "name": "stderr",
     "output_type": "stream",
     "text": [
      "\n",
      "  4%|██▊                                                                               | 7/200 [00:02<01:19,  2.41it/s]"
     ]
    },
    {
     "name": "stdout",
     "output_type": "stream",
     "text": [
      "./data/clusterdata-2011-2/task_events\\part-00007-of-00500.filtered.csv.gz\n"
     ]
    },
    {
     "name": "stderr",
     "output_type": "stream",
     "text": [
      "\n",
      "  4%|███▎                                                                              | 8/200 [00:03<01:25,  2.26it/s]"
     ]
    },
    {
     "name": "stdout",
     "output_type": "stream",
     "text": [
      "./data/clusterdata-2011-2/task_events\\part-00008-of-00500.filtered.csv.gz\n"
     ]
    },
    {
     "name": "stderr",
     "output_type": "stream",
     "text": [
      "\r",
      "  4%|███▋                                                                              | 9/200 [00:03<01:23,  2.28it/s]"
     ]
    },
    {
     "name": "stdout",
     "output_type": "stream",
     "text": [
      "./data/clusterdata-2011-2/task_events\\part-00009-of-00500.filtered.csv.gz\n"
     ]
    },
    {
     "name": "stderr",
     "output_type": "stream",
     "text": [
      "\r",
      "  5%|████                                                                             | 10/200 [00:04<01:34,  2.01it/s]"
     ]
    },
    {
     "name": "stdout",
     "output_type": "stream",
     "text": [
      "./data/clusterdata-2011-2/task_events\\part-00010-of-00500.filtered.csv.gz\n"
     ]
    },
    {
     "name": "stderr",
     "output_type": "stream",
     "text": [
      "\r",
      "  6%|████▍                                                                            | 11/200 [00:04<01:39,  1.91it/s]"
     ]
    },
    {
     "name": "stdout",
     "output_type": "stream",
     "text": [
      "./data/clusterdata-2011-2/task_events\\part-00011-of-00500.filtered.csv.gz\n"
     ]
    },
    {
     "name": "stderr",
     "output_type": "stream",
     "text": [
      "\r",
      "  6%|████▊                                                                            | 12/200 [00:05<01:33,  2.01it/s]"
     ]
    },
    {
     "name": "stdout",
     "output_type": "stream",
     "text": [
      "./data/clusterdata-2011-2/task_events\\part-00012-of-00500.filtered.csv.gz\n"
     ]
    },
    {
     "name": "stderr",
     "output_type": "stream",
     "text": [
      "\r",
      "  6%|█████▎                                                                           | 13/200 [00:05<01:32,  2.01it/s]"
     ]
    },
    {
     "name": "stdout",
     "output_type": "stream",
     "text": [
      "./data/clusterdata-2011-2/task_events\\part-00013-of-00500.filtered.csv.gz\n"
     ]
    },
    {
     "name": "stderr",
     "output_type": "stream",
     "text": [
      "\r",
      "  7%|█████▋                                                                           | 14/200 [00:06<01:34,  1.97it/s]"
     ]
    },
    {
     "name": "stdout",
     "output_type": "stream",
     "text": [
      "./data/clusterdata-2011-2/task_events\\part-00014-of-00500.filtered.csv.gz\n"
     ]
    },
    {
     "name": "stderr",
     "output_type": "stream",
     "text": [
      "\r",
      "  8%|██████                                                                           | 15/200 [00:07<01:54,  1.62it/s]"
     ]
    },
    {
     "name": "stdout",
     "output_type": "stream",
     "text": [
      "./data/clusterdata-2011-2/task_events\\part-00015-of-00500.filtered.csv.gz\n"
     ]
    },
    {
     "name": "stderr",
     "output_type": "stream",
     "text": [
      "\r",
      "  8%|██████▍                                                                          | 16/200 [00:07<01:57,  1.56it/s]"
     ]
    },
    {
     "name": "stdout",
     "output_type": "stream",
     "text": [
      "./data/clusterdata-2011-2/task_events\\part-00016-of-00500.filtered.csv.gz\n"
     ]
    },
    {
     "name": "stderr",
     "output_type": "stream",
     "text": [
      "\r",
      "  8%|██████▉                                                                          | 17/200 [00:08<02:01,  1.51it/s]"
     ]
    },
    {
     "name": "stdout",
     "output_type": "stream",
     "text": [
      "./data/clusterdata-2011-2/task_events\\part-00017-of-00500.filtered.csv.gz\n"
     ]
    },
    {
     "name": "stderr",
     "output_type": "stream",
     "text": [
      "\r",
      "  9%|███████▎                                                                         | 18/200 [00:09<02:05,  1.45it/s]"
     ]
    },
    {
     "name": "stdout",
     "output_type": "stream",
     "text": [
      "./data/clusterdata-2011-2/task_events\\part-00018-of-00500.filtered.csv.gz\n"
     ]
    },
    {
     "name": "stderr",
     "output_type": "stream",
     "text": [
      "\r",
      " 10%|███████▋                                                                         | 19/200 [00:11<03:04,  1.02s/it]"
     ]
    },
    {
     "name": "stdout",
     "output_type": "stream",
     "text": [
      "./data/clusterdata-2011-2/task_events\\part-00019-of-00500.filtered.csv.gz\n"
     ]
    },
    {
     "name": "stderr",
     "output_type": "stream",
     "text": [
      "\r",
      " 10%|████████                                                                         | 20/200 [00:14<05:29,  1.83s/it]"
     ]
    },
    {
     "name": "stdout",
     "output_type": "stream",
     "text": [
      "./data/clusterdata-2011-2/task_events\\part-00020-of-00500.filtered.csv.gz\n"
     ]
    },
    {
     "name": "stderr",
     "output_type": "stream",
     "text": [
      "\r",
      " 10%|████████▌                                                                        | 21/200 [00:19<07:46,  2.61s/it]"
     ]
    },
    {
     "name": "stdout",
     "output_type": "stream",
     "text": [
      "./data/clusterdata-2011-2/task_events\\part-00021-of-00500.filtered.csv.gz\n"
     ]
    },
    {
     "name": "stderr",
     "output_type": "stream",
     "text": [
      "\r",
      " 11%|████████▉                                                                        | 22/200 [00:24<10:13,  3.45s/it]"
     ]
    },
    {
     "name": "stdout",
     "output_type": "stream",
     "text": [
      "./data/clusterdata-2011-2/task_events\\part-00022-of-00500.filtered.csv.gz\n"
     ]
    },
    {
     "name": "stderr",
     "output_type": "stream",
     "text": [
      "\r",
      " 12%|█████████▎                                                                       | 23/200 [00:28<10:14,  3.47s/it]"
     ]
    },
    {
     "name": "stdout",
     "output_type": "stream",
     "text": [
      "./data/clusterdata-2011-2/task_events\\part-00023-of-00500.filtered.csv.gz\n"
     ]
    },
    {
     "name": "stderr",
     "output_type": "stream",
     "text": [
      "\r",
      " 12%|█████████▋                                                                       | 24/200 [00:30<08:52,  3.02s/it]"
     ]
    },
    {
     "name": "stdout",
     "output_type": "stream",
     "text": [
      "./data/clusterdata-2011-2/task_events\\part-00024-of-00500.filtered.csv.gz\n"
     ]
    },
    {
     "name": "stderr",
     "output_type": "stream",
     "text": [
      "\r",
      " 12%|██████████▏                                                                      | 25/200 [00:32<07:48,  2.68s/it]"
     ]
    },
    {
     "name": "stdout",
     "output_type": "stream",
     "text": [
      "./data/clusterdata-2011-2/task_events\\part-00025-of-00500.filtered.csv.gz\n"
     ]
    },
    {
     "name": "stderr",
     "output_type": "stream",
     "text": [
      "\r",
      " 13%|██████████▌                                                                      | 26/200 [00:34<07:10,  2.47s/it]"
     ]
    },
    {
     "name": "stdout",
     "output_type": "stream",
     "text": [
      "./data/clusterdata-2011-2/task_events\\part-00026-of-00500.filtered.csv.gz\n"
     ]
    },
    {
     "name": "stderr",
     "output_type": "stream",
     "text": [
      "\r",
      " 14%|██████████▉                                                                      | 27/200 [00:36<06:50,  2.37s/it]"
     ]
    },
    {
     "name": "stdout",
     "output_type": "stream",
     "text": [
      "./data/clusterdata-2011-2/task_events\\part-00027-of-00500.filtered.csv.gz\n"
     ]
    },
    {
     "name": "stderr",
     "output_type": "stream",
     "text": [
      "\r",
      " 14%|███████████▎                                                                     | 28/200 [00:37<06:18,  2.20s/it]"
     ]
    },
    {
     "name": "stdout",
     "output_type": "stream",
     "text": [
      "./data/clusterdata-2011-2/task_events\\part-00028-of-00500.filtered.csv.gz\n"
     ]
    },
    {
     "name": "stderr",
     "output_type": "stream",
     "text": [
      "\r",
      " 14%|███████████▋                                                                     | 29/200 [00:39<05:54,  2.07s/it]"
     ]
    },
    {
     "name": "stdout",
     "output_type": "stream",
     "text": [
      "./data/clusterdata-2011-2/task_events\\part-00029-of-00500.filtered.csv.gz\n"
     ]
    },
    {
     "name": "stderr",
     "output_type": "stream",
     "text": [
      "\r",
      " 15%|████████████▏                                                                    | 30/200 [00:41<05:41,  2.01s/it]"
     ]
    },
    {
     "name": "stdout",
     "output_type": "stream",
     "text": [
      "./data/clusterdata-2011-2/task_events\\part-00030-of-00500.filtered.csv.gz\n"
     ]
    },
    {
     "name": "stderr",
     "output_type": "stream",
     "text": [
      "\r",
      " 16%|████████████▌                                                                    | 31/200 [00:43<05:40,  2.01s/it]"
     ]
    },
    {
     "name": "stdout",
     "output_type": "stream",
     "text": [
      "./data/clusterdata-2011-2/task_events\\part-00031-of-00500.filtered.csv.gz\n"
     ]
    },
    {
     "name": "stderr",
     "output_type": "stream",
     "text": [
      "\r",
      " 16%|████████████▉                                                                    | 32/200 [00:45<05:45,  2.06s/it]"
     ]
    },
    {
     "name": "stdout",
     "output_type": "stream",
     "text": [
      "./data/clusterdata-2011-2/task_events\\part-00032-of-00500.filtered.csv.gz\n"
     ]
    },
    {
     "name": "stderr",
     "output_type": "stream",
     "text": [
      "\r",
      " 16%|█████████████▎                                                                   | 33/200 [00:47<05:40,  2.04s/it]"
     ]
    },
    {
     "name": "stdout",
     "output_type": "stream",
     "text": [
      "./data/clusterdata-2011-2/task_events\\part-00033-of-00500.filtered.csv.gz\n"
     ]
    },
    {
     "name": "stderr",
     "output_type": "stream",
     "text": [
      "\r",
      " 17%|█████████████▊                                                                   | 34/200 [00:49<05:40,  2.05s/it]"
     ]
    },
    {
     "name": "stdout",
     "output_type": "stream",
     "text": [
      "./data/clusterdata-2011-2/task_events\\part-00034-of-00500.filtered.csv.gz\n"
     ]
    },
    {
     "name": "stderr",
     "output_type": "stream",
     "text": [
      "\r",
      " 18%|██████████████▏                                                                  | 35/200 [00:52<06:02,  2.20s/it]"
     ]
    },
    {
     "name": "stdout",
     "output_type": "stream",
     "text": [
      "./data/clusterdata-2011-2/task_events\\part-00035-of-00500.filtered.csv.gz\n"
     ]
    },
    {
     "name": "stderr",
     "output_type": "stream",
     "text": [
      "\r",
      " 18%|██████████████▌                                                                  | 36/200 [00:54<06:12,  2.27s/it]"
     ]
    },
    {
     "name": "stdout",
     "output_type": "stream",
     "text": [
      "./data/clusterdata-2011-2/task_events\\part-00036-of-00500.filtered.csv.gz\n"
     ]
    },
    {
     "name": "stderr",
     "output_type": "stream",
     "text": [
      "\r",
      " 18%|██████████████▉                                                                  | 37/200 [00:57<06:11,  2.28s/it]"
     ]
    },
    {
     "name": "stdout",
     "output_type": "stream",
     "text": [
      "./data/clusterdata-2011-2/task_events\\part-00037-of-00500.filtered.csv.gz\n"
     ]
    },
    {
     "name": "stderr",
     "output_type": "stream",
     "text": [
      "\r",
      " 19%|███████████████▍                                                                 | 38/200 [00:59<06:14,  2.31s/it]"
     ]
    },
    {
     "name": "stdout",
     "output_type": "stream",
     "text": [
      "./data/clusterdata-2011-2/task_events\\part-00038-of-00500.filtered.csv.gz\n"
     ]
    },
    {
     "name": "stderr",
     "output_type": "stream",
     "text": [
      "\r",
      " 20%|███████████████▊                                                                 | 39/200 [01:01<06:17,  2.35s/it]"
     ]
    },
    {
     "name": "stdout",
     "output_type": "stream",
     "text": [
      "./data/clusterdata-2011-2/task_events\\part-00039-of-00500.filtered.csv.gz\n"
     ]
    },
    {
     "name": "stderr",
     "output_type": "stream",
     "text": [
      "\r",
      " 20%|████████████████▏                                                                | 40/200 [01:04<06:32,  2.45s/it]"
     ]
    },
    {
     "name": "stdout",
     "output_type": "stream",
     "text": [
      "./data/clusterdata-2011-2/task_events\\part-00040-of-00500.filtered.csv.gz\n"
     ]
    },
    {
     "name": "stderr",
     "output_type": "stream",
     "text": [
      "\r",
      " 20%|████████████████▌                                                                | 41/200 [01:07<06:36,  2.49s/it]"
     ]
    },
    {
     "name": "stdout",
     "output_type": "stream",
     "text": [
      "./data/clusterdata-2011-2/task_events\\part-00041-of-00500.filtered.csv.gz\n"
     ]
    },
    {
     "name": "stderr",
     "output_type": "stream",
     "text": [
      "\r",
      " 21%|█████████████████                                                                | 42/200 [01:09<06:24,  2.44s/it]"
     ]
    },
    {
     "name": "stdout",
     "output_type": "stream",
     "text": [
      "./data/clusterdata-2011-2/task_events\\part-00042-of-00500.filtered.csv.gz\n"
     ]
    },
    {
     "name": "stderr",
     "output_type": "stream",
     "text": [
      "\r",
      " 22%|█████████████████▍                                                               | 43/200 [01:11<06:11,  2.37s/it]"
     ]
    },
    {
     "name": "stdout",
     "output_type": "stream",
     "text": [
      "./data/clusterdata-2011-2/task_events\\part-00043-of-00500.filtered.csv.gz\n"
     ]
    },
    {
     "name": "stderr",
     "output_type": "stream",
     "text": [
      "\r",
      " 22%|█████████████████▊                                                               | 44/200 [01:14<06:13,  2.40s/it]"
     ]
    },
    {
     "name": "stdout",
     "output_type": "stream",
     "text": [
      "./data/clusterdata-2011-2/task_events\\part-00044-of-00500.filtered.csv.gz\n"
     ]
    },
    {
     "name": "stderr",
     "output_type": "stream",
     "text": [
      "\r",
      " 22%|██████████████████▏                                                              | 45/200 [01:16<06:02,  2.34s/it]"
     ]
    },
    {
     "name": "stdout",
     "output_type": "stream",
     "text": [
      "./data/clusterdata-2011-2/task_events\\part-00045-of-00500.filtered.csv.gz\n"
     ]
    },
    {
     "name": "stderr",
     "output_type": "stream",
     "text": [
      "\r",
      " 23%|██████████████████▋                                                              | 46/200 [01:18<05:56,  2.31s/it]"
     ]
    },
    {
     "name": "stdout",
     "output_type": "stream",
     "text": [
      "./data/clusterdata-2011-2/task_events\\part-00046-of-00500.filtered.csv.gz\n"
     ]
    },
    {
     "name": "stderr",
     "output_type": "stream",
     "text": [
      "\r",
      " 24%|███████████████████                                                              | 47/200 [01:20<05:46,  2.27s/it]"
     ]
    },
    {
     "name": "stdout",
     "output_type": "stream",
     "text": [
      "./data/clusterdata-2011-2/task_events\\part-00047-of-00500.filtered.csv.gz\n"
     ]
    },
    {
     "name": "stderr",
     "output_type": "stream",
     "text": [
      "\r",
      " 24%|███████████████████▍                                                             | 48/200 [01:23<05:43,  2.26s/it]"
     ]
    },
    {
     "name": "stdout",
     "output_type": "stream",
     "text": [
      "./data/clusterdata-2011-2/task_events\\part-00048-of-00500.filtered.csv.gz\n"
     ]
    },
    {
     "name": "stderr",
     "output_type": "stream",
     "text": [
      "\r",
      " 24%|███████████████████▊                                                             | 49/200 [01:25<05:41,  2.26s/it]"
     ]
    },
    {
     "name": "stdout",
     "output_type": "stream",
     "text": [
      "./data/clusterdata-2011-2/task_events\\part-00049-of-00500.filtered.csv.gz\n"
     ]
    },
    {
     "name": "stderr",
     "output_type": "stream",
     "text": [
      "\r",
      " 25%|████████████████████▎                                                            | 50/200 [01:27<05:45,  2.30s/it]"
     ]
    },
    {
     "name": "stdout",
     "output_type": "stream",
     "text": [
      "./data/clusterdata-2011-2/task_events\\part-00050-of-00500.filtered.csv.gz\n"
     ]
    },
    {
     "name": "stderr",
     "output_type": "stream",
     "text": [
      "\r",
      " 26%|████████████████████▋                                                            | 51/200 [01:30<06:06,  2.46s/it]"
     ]
    },
    {
     "name": "stdout",
     "output_type": "stream",
     "text": [
      "./data/clusterdata-2011-2/task_events\\part-00051-of-00500.filtered.csv.gz\n"
     ]
    },
    {
     "name": "stderr",
     "output_type": "stream",
     "text": [
      "\r",
      " 26%|█████████████████████                                                            | 52/200 [01:33<06:28,  2.63s/it]"
     ]
    },
    {
     "name": "stdout",
     "output_type": "stream",
     "text": [
      "./data/clusterdata-2011-2/task_events\\part-00052-of-00500.filtered.csv.gz\n"
     ]
    },
    {
     "name": "stderr",
     "output_type": "stream",
     "text": [
      "\r",
      " 26%|█████████████████████▍                                                           | 53/200 [01:36<06:28,  2.64s/it]"
     ]
    },
    {
     "name": "stdout",
     "output_type": "stream",
     "text": [
      "./data/clusterdata-2011-2/task_events\\part-00053-of-00500.filtered.csv.gz\n"
     ]
    },
    {
     "name": "stderr",
     "output_type": "stream",
     "text": [
      "\r",
      " 27%|█████████████████████▊                                                           | 54/200 [01:38<06:18,  2.59s/it]"
     ]
    },
    {
     "name": "stdout",
     "output_type": "stream",
     "text": [
      "./data/clusterdata-2011-2/task_events\\part-00054-of-00500.filtered.csv.gz\n"
     ]
    },
    {
     "name": "stderr",
     "output_type": "stream",
     "text": [
      "\r",
      " 28%|██████████████████████▎                                                          | 55/200 [01:41<06:13,  2.58s/it]"
     ]
    },
    {
     "name": "stdout",
     "output_type": "stream",
     "text": [
      "./data/clusterdata-2011-2/task_events\\part-00055-of-00500.filtered.csv.gz\n"
     ]
    },
    {
     "name": "stderr",
     "output_type": "stream",
     "text": [
      "\r",
      " 28%|██████████████████████▋                                                          | 56/200 [01:43<06:12,  2.59s/it]"
     ]
    },
    {
     "name": "stdout",
     "output_type": "stream",
     "text": [
      "./data/clusterdata-2011-2/task_events\\part-00056-of-00500.filtered.csv.gz\n"
     ]
    },
    {
     "name": "stderr",
     "output_type": "stream",
     "text": [
      "\r",
      " 28%|███████████████████████                                                          | 57/200 [01:46<06:11,  2.60s/it]"
     ]
    },
    {
     "name": "stdout",
     "output_type": "stream",
     "text": [
      "./data/clusterdata-2011-2/task_events\\part-00057-of-00500.filtered.csv.gz\n"
     ]
    },
    {
     "name": "stderr",
     "output_type": "stream",
     "text": [
      "\r",
      " 29%|███████████████████████▍                                                         | 58/200 [01:49<06:05,  2.58s/it]"
     ]
    },
    {
     "name": "stdout",
     "output_type": "stream",
     "text": [
      "./data/clusterdata-2011-2/task_events\\part-00058-of-00500.filtered.csv.gz\n"
     ]
    },
    {
     "name": "stderr",
     "output_type": "stream",
     "text": [
      "\r",
      " 30%|███████████████████████▉                                                         | 59/200 [01:51<06:00,  2.56s/it]"
     ]
    },
    {
     "name": "stdout",
     "output_type": "stream",
     "text": [
      "./data/clusterdata-2011-2/task_events\\part-00059-of-00500.filtered.csv.gz\n"
     ]
    },
    {
     "name": "stderr",
     "output_type": "stream",
     "text": [
      "\r",
      " 30%|████████████████████████▎                                                        | 60/200 [01:54<06:01,  2.58s/it]"
     ]
    },
    {
     "name": "stdout",
     "output_type": "stream",
     "text": [
      "./data/clusterdata-2011-2/task_events\\part-00060-of-00500.filtered.csv.gz\n"
     ]
    },
    {
     "name": "stderr",
     "output_type": "stream",
     "text": [
      "\r",
      " 30%|████████████████████████▋                                                        | 61/200 [01:56<05:58,  2.58s/it]"
     ]
    },
    {
     "name": "stdout",
     "output_type": "stream",
     "text": [
      "./data/clusterdata-2011-2/task_events\\part-00061-of-00500.filtered.csv.gz\n"
     ]
    },
    {
     "name": "stderr",
     "output_type": "stream",
     "text": [
      "\r",
      " 31%|█████████████████████████                                                        | 62/200 [01:59<06:05,  2.65s/it]"
     ]
    },
    {
     "name": "stdout",
     "output_type": "stream",
     "text": [
      "./data/clusterdata-2011-2/task_events\\part-00062-of-00500.filtered.csv.gz\n"
     ]
    },
    {
     "name": "stderr",
     "output_type": "stream",
     "text": [
      "\r",
      " 32%|█████████████████████████▌                                                       | 63/200 [02:02<06:01,  2.64s/it]"
     ]
    },
    {
     "name": "stdout",
     "output_type": "stream",
     "text": [
      "./data/clusterdata-2011-2/task_events\\part-00063-of-00500.filtered.csv.gz\n"
     ]
    },
    {
     "name": "stderr",
     "output_type": "stream",
     "text": [
      "\r",
      " 32%|█████████████████████████▉                                                       | 64/200 [02:04<05:57,  2.63s/it]"
     ]
    },
    {
     "name": "stdout",
     "output_type": "stream",
     "text": [
      "./data/clusterdata-2011-2/task_events\\part-00064-of-00500.filtered.csv.gz\n"
     ]
    },
    {
     "name": "stderr",
     "output_type": "stream",
     "text": [
      "\r",
      " 32%|██████████████████████████▎                                                      | 65/200 [02:07<06:03,  2.69s/it]"
     ]
    },
    {
     "name": "stdout",
     "output_type": "stream",
     "text": [
      "./data/clusterdata-2011-2/task_events\\part-00065-of-00500.filtered.csv.gz\n"
     ]
    },
    {
     "name": "stderr",
     "output_type": "stream",
     "text": [
      "\r",
      " 33%|██████████████████████████▋                                                      | 66/200 [02:10<05:58,  2.68s/it]"
     ]
    },
    {
     "name": "stdout",
     "output_type": "stream",
     "text": [
      "./data/clusterdata-2011-2/task_events\\part-00066-of-00500.filtered.csv.gz\n"
     ]
    },
    {
     "name": "stderr",
     "output_type": "stream",
     "text": [
      "\r",
      " 34%|███████████████████████████▏                                                     | 67/200 [02:12<05:55,  2.67s/it]"
     ]
    },
    {
     "name": "stdout",
     "output_type": "stream",
     "text": [
      "./data/clusterdata-2011-2/task_events\\part-00067-of-00500.filtered.csv.gz\n"
     ]
    },
    {
     "name": "stderr",
     "output_type": "stream",
     "text": [
      "\r",
      " 34%|███████████████████████████▌                                                     | 68/200 [02:15<05:49,  2.65s/it]"
     ]
    },
    {
     "name": "stdout",
     "output_type": "stream",
     "text": [
      "./data/clusterdata-2011-2/task_events\\part-00068-of-00500.filtered.csv.gz\n"
     ]
    },
    {
     "name": "stderr",
     "output_type": "stream",
     "text": [
      "\r",
      " 34%|███████████████████████████▉                                                     | 69/200 [02:18<05:48,  2.66s/it]"
     ]
    },
    {
     "name": "stdout",
     "output_type": "stream",
     "text": [
      "./data/clusterdata-2011-2/task_events\\part-00069-of-00500.filtered.csv.gz\n"
     ]
    },
    {
     "name": "stderr",
     "output_type": "stream",
     "text": [
      "\r",
      " 35%|████████████████████████████▎                                                    | 70/200 [02:20<05:45,  2.65s/it]"
     ]
    },
    {
     "name": "stdout",
     "output_type": "stream",
     "text": [
      "./data/clusterdata-2011-2/task_events\\part-00070-of-00500.filtered.csv.gz\n"
     ]
    },
    {
     "name": "stderr",
     "output_type": "stream",
     "text": [
      "\r",
      " 36%|████████████████████████████▊                                                    | 71/200 [02:23<05:46,  2.69s/it]"
     ]
    },
    {
     "name": "stdout",
     "output_type": "stream",
     "text": [
      "./data/clusterdata-2011-2/task_events\\part-00071-of-00500.filtered.csv.gz\n"
     ]
    },
    {
     "name": "stderr",
     "output_type": "stream",
     "text": [
      "\r",
      " 36%|█████████████████████████████▏                                                   | 72/200 [02:26<05:50,  2.74s/it]"
     ]
    },
    {
     "name": "stdout",
     "output_type": "stream",
     "text": [
      "./data/clusterdata-2011-2/task_events\\part-00072-of-00500.filtered.csv.gz\n"
     ]
    },
    {
     "name": "stderr",
     "output_type": "stream",
     "text": [
      "\r",
      " 36%|█████████████████████████████▌                                                   | 73/200 [02:29<05:52,  2.78s/it]"
     ]
    },
    {
     "name": "stdout",
     "output_type": "stream",
     "text": [
      "./data/clusterdata-2011-2/task_events\\part-00073-of-00500.filtered.csv.gz\n"
     ]
    },
    {
     "name": "stderr",
     "output_type": "stream",
     "text": [
      "\r",
      " 37%|█████████████████████████████▉                                                   | 74/200 [02:32<05:51,  2.79s/it]"
     ]
    },
    {
     "name": "stdout",
     "output_type": "stream",
     "text": [
      "./data/clusterdata-2011-2/task_events\\part-00074-of-00500.filtered.csv.gz\n"
     ]
    },
    {
     "name": "stderr",
     "output_type": "stream",
     "text": [
      "\r",
      " 38%|██████████████████████████████▍                                                  | 75/200 [02:34<05:47,  2.78s/it]"
     ]
    },
    {
     "name": "stdout",
     "output_type": "stream",
     "text": [
      "./data/clusterdata-2011-2/task_events\\part-00075-of-00500.filtered.csv.gz\n"
     ]
    },
    {
     "name": "stderr",
     "output_type": "stream",
     "text": [
      "\r",
      " 38%|██████████████████████████████▊                                                  | 76/200 [02:37<05:46,  2.79s/it]"
     ]
    },
    {
     "name": "stdout",
     "output_type": "stream",
     "text": [
      "./data/clusterdata-2011-2/task_events\\part-00076-of-00500.filtered.csv.gz\n"
     ]
    },
    {
     "name": "stderr",
     "output_type": "stream",
     "text": [
      "\r",
      " 38%|███████████████████████████████▏                                                 | 77/200 [02:40<05:46,  2.82s/it]"
     ]
    },
    {
     "name": "stdout",
     "output_type": "stream",
     "text": [
      "./data/clusterdata-2011-2/task_events\\part-00077-of-00500.filtered.csv.gz\n"
     ]
    },
    {
     "name": "stderr",
     "output_type": "stream",
     "text": [
      "\r",
      " 39%|███████████████████████████████▌                                                 | 78/200 [02:43<05:45,  2.84s/it]"
     ]
    },
    {
     "name": "stdout",
     "output_type": "stream",
     "text": [
      "./data/clusterdata-2011-2/task_events\\part-00078-of-00500.filtered.csv.gz\n"
     ]
    },
    {
     "name": "stderr",
     "output_type": "stream",
     "text": [
      "\r",
      " 40%|███████████████████████████████▉                                                 | 79/200 [02:46<05:46,  2.86s/it]"
     ]
    },
    {
     "name": "stdout",
     "output_type": "stream",
     "text": [
      "./data/clusterdata-2011-2/task_events\\part-00079-of-00500.filtered.csv.gz\n"
     ]
    },
    {
     "name": "stderr",
     "output_type": "stream",
     "text": [
      "\r",
      " 40%|████████████████████████████████▍                                                | 80/200 [02:49<05:47,  2.90s/it]"
     ]
    },
    {
     "name": "stdout",
     "output_type": "stream",
     "text": [
      "./data/clusterdata-2011-2/task_events\\part-00080-of-00500.filtered.csv.gz\n"
     ]
    },
    {
     "name": "stderr",
     "output_type": "stream",
     "text": [
      "\r",
      " 40%|████████████████████████████████▊                                                | 81/200 [02:52<05:43,  2.88s/it]"
     ]
    },
    {
     "name": "stdout",
     "output_type": "stream",
     "text": [
      "./data/clusterdata-2011-2/task_events\\part-00081-of-00500.filtered.csv.gz\n"
     ]
    },
    {
     "name": "stderr",
     "output_type": "stream",
     "text": [
      "\r",
      " 41%|█████████████████████████████████▏                                               | 82/200 [02:55<05:43,  2.91s/it]"
     ]
    },
    {
     "name": "stdout",
     "output_type": "stream",
     "text": [
      "./data/clusterdata-2011-2/task_events\\part-00082-of-00500.filtered.csv.gz\n"
     ]
    },
    {
     "name": "stderr",
     "output_type": "stream",
     "text": [
      "\r",
      " 42%|█████████████████████████████████▌                                               | 83/200 [02:58<05:43,  2.94s/it]"
     ]
    },
    {
     "name": "stdout",
     "output_type": "stream",
     "text": [
      "./data/clusterdata-2011-2/task_events\\part-00083-of-00500.filtered.csv.gz\n"
     ]
    },
    {
     "name": "stderr",
     "output_type": "stream",
     "text": [
      "\r",
      " 42%|██████████████████████████████████                                               | 84/200 [03:01<05:40,  2.93s/it]"
     ]
    },
    {
     "name": "stdout",
     "output_type": "stream",
     "text": [
      "./data/clusterdata-2011-2/task_events\\part-00084-of-00500.filtered.csv.gz\n"
     ]
    },
    {
     "name": "stderr",
     "output_type": "stream",
     "text": [
      "\r",
      " 42%|██████████████████████████████████▍                                              | 85/200 [03:04<05:39,  2.95s/it]"
     ]
    },
    {
     "name": "stdout",
     "output_type": "stream",
     "text": [
      "./data/clusterdata-2011-2/task_events\\part-00085-of-00500.filtered.csv.gz\n"
     ]
    },
    {
     "name": "stderr",
     "output_type": "stream",
     "text": [
      "\r",
      " 43%|██████████████████████████████████▊                                              | 86/200 [03:07<05:37,  2.96s/it]"
     ]
    },
    {
     "name": "stdout",
     "output_type": "stream",
     "text": [
      "./data/clusterdata-2011-2/task_events\\part-00086-of-00500.filtered.csv.gz\n"
     ]
    },
    {
     "name": "stderr",
     "output_type": "stream",
     "text": [
      "\r",
      " 44%|███████████████████████████████████▏                                             | 87/200 [03:10<05:42,  3.03s/it]"
     ]
    },
    {
     "name": "stdout",
     "output_type": "stream",
     "text": [
      "./data/clusterdata-2011-2/task_events\\part-00087-of-00500.filtered.csv.gz\n"
     ]
    },
    {
     "name": "stderr",
     "output_type": "stream",
     "text": [
      "\r",
      " 44%|███████████████████████████████████▋                                             | 88/200 [03:13<05:50,  3.13s/it]"
     ]
    },
    {
     "name": "stdout",
     "output_type": "stream",
     "text": [
      "./data/clusterdata-2011-2/task_events\\part-00088-of-00500.filtered.csv.gz\n"
     ]
    },
    {
     "name": "stderr",
     "output_type": "stream",
     "text": [
      "\r",
      " 44%|████████████████████████████████████                                             | 89/200 [03:16<05:48,  3.14s/it]"
     ]
    },
    {
     "name": "stdout",
     "output_type": "stream",
     "text": [
      "./data/clusterdata-2011-2/task_events\\part-00089-of-00500.filtered.csv.gz\n"
     ]
    },
    {
     "name": "stderr",
     "output_type": "stream",
     "text": [
      "\r",
      " 45%|████████████████████████████████████▍                                            | 90/200 [03:19<05:43,  3.13s/it]"
     ]
    },
    {
     "name": "stdout",
     "output_type": "stream",
     "text": [
      "./data/clusterdata-2011-2/task_events\\part-00090-of-00500.filtered.csv.gz\n"
     ]
    },
    {
     "name": "stderr",
     "output_type": "stream",
     "text": [
      "\r",
      " 46%|████████████████████████████████████▊                                            | 91/200 [03:23<05:38,  3.11s/it]"
     ]
    },
    {
     "name": "stdout",
     "output_type": "stream",
     "text": [
      "./data/clusterdata-2011-2/task_events\\part-00091-of-00500.filtered.csv.gz\n"
     ]
    },
    {
     "name": "stderr",
     "output_type": "stream",
     "text": [
      "\r",
      " 46%|█████████████████████████████████████▎                                           | 92/200 [03:26<05:41,  3.16s/it]"
     ]
    },
    {
     "name": "stdout",
     "output_type": "stream",
     "text": [
      "./data/clusterdata-2011-2/task_events\\part-00092-of-00500.filtered.csv.gz\n"
     ]
    },
    {
     "name": "stderr",
     "output_type": "stream",
     "text": [
      "\r",
      " 46%|█████████████████████████████████████▋                                           | 93/200 [03:29<05:42,  3.20s/it]"
     ]
    },
    {
     "name": "stdout",
     "output_type": "stream",
     "text": [
      "./data/clusterdata-2011-2/task_events\\part-00093-of-00500.filtered.csv.gz\n"
     ]
    },
    {
     "name": "stderr",
     "output_type": "stream",
     "text": [
      "\r",
      " 47%|██████████████████████████████████████                                           | 94/200 [03:32<05:43,  3.24s/it]"
     ]
    },
    {
     "name": "stdout",
     "output_type": "stream",
     "text": [
      "./data/clusterdata-2011-2/task_events\\part-00094-of-00500.filtered.csv.gz\n"
     ]
    },
    {
     "name": "stderr",
     "output_type": "stream",
     "text": [
      "\r",
      " 48%|██████████████████████████████████████▍                                          | 95/200 [03:36<05:39,  3.23s/it]"
     ]
    },
    {
     "name": "stdout",
     "output_type": "stream",
     "text": [
      "./data/clusterdata-2011-2/task_events\\part-00095-of-00500.filtered.csv.gz\n"
     ]
    },
    {
     "name": "stderr",
     "output_type": "stream",
     "text": [
      "\r",
      " 48%|██████████████████████████████████████▉                                          | 96/200 [03:39<05:34,  3.21s/it]"
     ]
    },
    {
     "name": "stdout",
     "output_type": "stream",
     "text": [
      "./data/clusterdata-2011-2/task_events\\part-00096-of-00500.filtered.csv.gz\n"
     ]
    },
    {
     "name": "stderr",
     "output_type": "stream",
     "text": [
      "\r",
      " 48%|███████████████████████████████████████▎                                         | 97/200 [03:42<05:27,  3.18s/it]"
     ]
    },
    {
     "name": "stdout",
     "output_type": "stream",
     "text": [
      "./data/clusterdata-2011-2/task_events\\part-00097-of-00500.filtered.csv.gz\n"
     ]
    },
    {
     "name": "stderr",
     "output_type": "stream",
     "text": [
      "\r",
      " 49%|███████████████████████████████████████▋                                         | 98/200 [03:45<05:27,  3.22s/it]"
     ]
    },
    {
     "name": "stdout",
     "output_type": "stream",
     "text": [
      "./data/clusterdata-2011-2/task_events\\part-00098-of-00500.filtered.csv.gz\n"
     ]
    },
    {
     "name": "stderr",
     "output_type": "stream",
     "text": [
      "\r",
      " 50%|████████████████████████████████████████                                         | 99/200 [03:48<05:22,  3.19s/it]"
     ]
    },
    {
     "name": "stdout",
     "output_type": "stream",
     "text": [
      "./data/clusterdata-2011-2/task_events\\part-00099-of-00500.filtered.csv.gz\n"
     ]
    },
    {
     "name": "stderr",
     "output_type": "stream",
     "text": [
      "\r",
      " 50%|████████████████████████████████████████                                        | 100/200 [03:51<05:17,  3.17s/it]"
     ]
    },
    {
     "name": "stdout",
     "output_type": "stream",
     "text": [
      "./data/clusterdata-2011-2/task_events\\part-00100-of-00500.filtered.csv.gz\n"
     ]
    },
    {
     "name": "stderr",
     "output_type": "stream",
     "text": [
      "\r",
      " 50%|████████████████████████████████████████▍                                       | 101/200 [03:55<05:18,  3.22s/it]"
     ]
    },
    {
     "name": "stdout",
     "output_type": "stream",
     "text": [
      "./data/clusterdata-2011-2/task_events\\part-00101-of-00500.filtered.csv.gz\n"
     ]
    },
    {
     "name": "stderr",
     "output_type": "stream",
     "text": [
      "\r",
      " 51%|████████████████████████████████████████▊                                       | 102/200 [03:58<05:16,  3.23s/it]"
     ]
    },
    {
     "name": "stdout",
     "output_type": "stream",
     "text": [
      "./data/clusterdata-2011-2/task_events\\part-00102-of-00500.filtered.csv.gz\n"
     ]
    },
    {
     "name": "stderr",
     "output_type": "stream",
     "text": [
      "\r",
      " 52%|█████████████████████████████████████████▏                                      | 103/200 [04:01<05:14,  3.24s/it]"
     ]
    },
    {
     "name": "stdout",
     "output_type": "stream",
     "text": [
      "./data/clusterdata-2011-2/task_events\\part-00103-of-00500.filtered.csv.gz\n"
     ]
    },
    {
     "name": "stderr",
     "output_type": "stream",
     "text": [
      "\r",
      " 52%|█████████████████████████████████████████▌                                      | 104/200 [04:05<05:22,  3.36s/it]"
     ]
    },
    {
     "name": "stdout",
     "output_type": "stream",
     "text": [
      "./data/clusterdata-2011-2/task_events\\part-00104-of-00500.filtered.csv.gz\n"
     ]
    },
    {
     "name": "stderr",
     "output_type": "stream",
     "text": [
      "\r",
      " 52%|██████████████████████████████████████████                                      | 105/200 [04:08<05:15,  3.32s/it]"
     ]
    },
    {
     "name": "stdout",
     "output_type": "stream",
     "text": [
      "./data/clusterdata-2011-2/task_events\\part-00105-of-00500.filtered.csv.gz\n"
     ]
    },
    {
     "name": "stderr",
     "output_type": "stream",
     "text": [
      "\r",
      " 53%|██████████████████████████████████████████▍                                     | 106/200 [04:11<05:07,  3.27s/it]"
     ]
    },
    {
     "name": "stdout",
     "output_type": "stream",
     "text": [
      "./data/clusterdata-2011-2/task_events\\part-00106-of-00500.filtered.csv.gz\n"
     ]
    },
    {
     "name": "stderr",
     "output_type": "stream",
     "text": [
      "\r",
      " 54%|██████████████████████████████████████████▊                                     | 107/200 [04:15<05:07,  3.30s/it]"
     ]
    },
    {
     "name": "stdout",
     "output_type": "stream",
     "text": [
      "./data/clusterdata-2011-2/task_events\\part-00107-of-00500.filtered.csv.gz\n"
     ]
    },
    {
     "name": "stderr",
     "output_type": "stream",
     "text": [
      "\r",
      " 54%|███████████████████████████████████████████▏                                    | 108/200 [04:18<05:08,  3.35s/it]"
     ]
    },
    {
     "name": "stdout",
     "output_type": "stream",
     "text": [
      "./data/clusterdata-2011-2/task_events\\part-00108-of-00500.filtered.csv.gz\n"
     ]
    },
    {
     "name": "stderr",
     "output_type": "stream",
     "text": [
      "\r",
      " 55%|███████████████████████████████████████████▌                                    | 109/200 [04:22<05:03,  3.34s/it]"
     ]
    },
    {
     "name": "stdout",
     "output_type": "stream",
     "text": [
      "./data/clusterdata-2011-2/task_events\\part-00109-of-00500.filtered.csv.gz\n"
     ]
    },
    {
     "name": "stderr",
     "output_type": "stream",
     "text": [
      "\r",
      " 55%|████████████████████████████████████████████                                    | 110/200 [04:25<05:01,  3.35s/it]"
     ]
    },
    {
     "name": "stdout",
     "output_type": "stream",
     "text": [
      "./data/clusterdata-2011-2/task_events\\part-00110-of-00500.filtered.csv.gz\n"
     ]
    },
    {
     "name": "stderr",
     "output_type": "stream",
     "text": [
      "\r",
      " 56%|████████████████████████████████████████████▍                                   | 111/200 [04:28<04:54,  3.31s/it]"
     ]
    },
    {
     "name": "stdout",
     "output_type": "stream",
     "text": [
      "./data/clusterdata-2011-2/task_events\\part-00111-of-00500.filtered.csv.gz\n"
     ]
    },
    {
     "name": "stderr",
     "output_type": "stream",
     "text": [
      "\r",
      " 56%|████████████████████████████████████████████▊                                   | 112/200 [04:31<04:50,  3.30s/it]"
     ]
    },
    {
     "name": "stdout",
     "output_type": "stream",
     "text": [
      "./data/clusterdata-2011-2/task_events\\part-00112-of-00500.filtered.csv.gz\n"
     ]
    },
    {
     "name": "stderr",
     "output_type": "stream",
     "text": [
      "\r",
      " 56%|█████████████████████████████████████████████▏                                  | 113/200 [04:35<04:49,  3.33s/it]"
     ]
    },
    {
     "name": "stdout",
     "output_type": "stream",
     "text": [
      "./data/clusterdata-2011-2/task_events\\part-00113-of-00500.filtered.csv.gz\n"
     ]
    },
    {
     "name": "stderr",
     "output_type": "stream",
     "text": [
      "\r",
      " 57%|█████████████████████████████████████████████▌                                  | 114/200 [04:38<04:46,  3.33s/it]"
     ]
    },
    {
     "name": "stdout",
     "output_type": "stream",
     "text": [
      "./data/clusterdata-2011-2/task_events\\part-00114-of-00500.filtered.csv.gz\n"
     ]
    },
    {
     "name": "stderr",
     "output_type": "stream",
     "text": [
      "\r",
      " 57%|██████████████████████████████████████████████                                  | 115/200 [04:41<04:42,  3.33s/it]"
     ]
    },
    {
     "name": "stdout",
     "output_type": "stream",
     "text": [
      "./data/clusterdata-2011-2/task_events\\part-00115-of-00500.filtered.csv.gz\n"
     ]
    },
    {
     "name": "stderr",
     "output_type": "stream",
     "text": [
      "\r",
      " 58%|██████████████████████████████████████████████▍                                 | 116/200 [04:45<04:40,  3.34s/it]"
     ]
    },
    {
     "name": "stdout",
     "output_type": "stream",
     "text": [
      "./data/clusterdata-2011-2/task_events\\part-00116-of-00500.filtered.csv.gz\n"
     ]
    },
    {
     "name": "stderr",
     "output_type": "stream",
     "text": [
      "\r",
      " 58%|██████████████████████████████████████████████▊                                 | 117/200 [04:48<04:36,  3.34s/it]"
     ]
    },
    {
     "name": "stdout",
     "output_type": "stream",
     "text": [
      "./data/clusterdata-2011-2/task_events\\part-00117-of-00500.filtered.csv.gz\n"
     ]
    },
    {
     "name": "stderr",
     "output_type": "stream",
     "text": [
      "\r",
      " 59%|███████████████████████████████████████████████▏                                | 118/200 [04:52<04:39,  3.40s/it]"
     ]
    },
    {
     "name": "stdout",
     "output_type": "stream",
     "text": [
      "./data/clusterdata-2011-2/task_events\\part-00118-of-00500.filtered.csv.gz\n"
     ]
    },
    {
     "name": "stderr",
     "output_type": "stream",
     "text": [
      "\r",
      " 60%|███████████████████████████████████████████████▌                                | 119/200 [04:56<04:48,  3.57s/it]"
     ]
    },
    {
     "name": "stdout",
     "output_type": "stream",
     "text": [
      "./data/clusterdata-2011-2/task_events\\part-00119-of-00500.filtered.csv.gz\n"
     ]
    },
    {
     "name": "stderr",
     "output_type": "stream",
     "text": [
      "\r",
      " 60%|████████████████████████████████████████████████                                | 120/200 [04:59<04:41,  3.52s/it]"
     ]
    },
    {
     "name": "stdout",
     "output_type": "stream",
     "text": [
      "./data/clusterdata-2011-2/task_events\\part-00120-of-00500.filtered.csv.gz\n"
     ]
    },
    {
     "name": "stderr",
     "output_type": "stream",
     "text": [
      "\r",
      " 60%|████████████████████████████████████████████████▍                               | 121/200 [05:03<04:38,  3.52s/it]"
     ]
    },
    {
     "name": "stdout",
     "output_type": "stream",
     "text": [
      "./data/clusterdata-2011-2/task_events\\part-00121-of-00500.filtered.csv.gz\n"
     ]
    },
    {
     "name": "stderr",
     "output_type": "stream",
     "text": [
      "\r",
      " 61%|████████████████████████████████████████████████▊                               | 122/200 [05:06<04:33,  3.51s/it]"
     ]
    },
    {
     "name": "stdout",
     "output_type": "stream",
     "text": [
      "./data/clusterdata-2011-2/task_events\\part-00122-of-00500.filtered.csv.gz\n"
     ]
    },
    {
     "name": "stderr",
     "output_type": "stream",
     "text": [
      "\r",
      " 62%|█████████████████████████████████████████████████▏                              | 123/200 [05:09<04:28,  3.49s/it]"
     ]
    },
    {
     "name": "stdout",
     "output_type": "stream",
     "text": [
      "./data/clusterdata-2011-2/task_events\\part-00123-of-00500.filtered.csv.gz\n"
     ]
    },
    {
     "name": "stderr",
     "output_type": "stream",
     "text": [
      "\r",
      " 62%|█████████████████████████████████████████████████▌                              | 124/200 [05:13<04:29,  3.55s/it]"
     ]
    },
    {
     "name": "stdout",
     "output_type": "stream",
     "text": [
      "./data/clusterdata-2011-2/task_events\\part-00124-of-00500.filtered.csv.gz\n"
     ]
    },
    {
     "name": "stderr",
     "output_type": "stream",
     "text": [
      "\r",
      " 62%|██████████████████████████████████████████████████                              | 125/200 [05:17<04:28,  3.57s/it]"
     ]
    },
    {
     "name": "stdout",
     "output_type": "stream",
     "text": [
      "./data/clusterdata-2011-2/task_events\\part-00125-of-00500.filtered.csv.gz\n"
     ]
    },
    {
     "name": "stderr",
     "output_type": "stream",
     "text": [
      "\r",
      " 63%|██████████████████████████████████████████████████▍                             | 126/200 [05:20<04:22,  3.54s/it]"
     ]
    },
    {
     "name": "stdout",
     "output_type": "stream",
     "text": [
      "./data/clusterdata-2011-2/task_events\\part-00126-of-00500.filtered.csv.gz\n"
     ]
    },
    {
     "name": "stderr",
     "output_type": "stream",
     "text": [
      "\r",
      " 64%|██████████████████████████████████████████████████▊                             | 127/200 [05:24<04:15,  3.51s/it]"
     ]
    },
    {
     "name": "stdout",
     "output_type": "stream",
     "text": [
      "./data/clusterdata-2011-2/task_events\\part-00127-of-00500.filtered.csv.gz\n"
     ]
    },
    {
     "name": "stderr",
     "output_type": "stream",
     "text": [
      "\r",
      " 64%|███████████████████████████████████████████████████▏                            | 128/200 [05:27<04:12,  3.51s/it]"
     ]
    },
    {
     "name": "stdout",
     "output_type": "stream",
     "text": [
      "./data/clusterdata-2011-2/task_events\\part-00128-of-00500.filtered.csv.gz\n"
     ]
    },
    {
     "name": "stderr",
     "output_type": "stream",
     "text": [
      "\r",
      " 64%|███████████████████████████████████████████████████▌                            | 129/200 [05:31<04:09,  3.51s/it]"
     ]
    },
    {
     "name": "stdout",
     "output_type": "stream",
     "text": [
      "./data/clusterdata-2011-2/task_events\\part-00129-of-00500.filtered.csv.gz\n"
     ]
    },
    {
     "name": "stderr",
     "output_type": "stream",
     "text": [
      "\r",
      " 65%|████████████████████████████████████████████████████                            | 130/200 [05:34<04:05,  3.51s/it]"
     ]
    },
    {
     "name": "stdout",
     "output_type": "stream",
     "text": [
      "./data/clusterdata-2011-2/task_events\\part-00130-of-00500.filtered.csv.gz\n"
     ]
    },
    {
     "name": "stderr",
     "output_type": "stream",
     "text": [
      "\r",
      " 66%|████████████████████████████████████████████████████▍                           | 131/200 [05:38<04:00,  3.49s/it]"
     ]
    },
    {
     "name": "stdout",
     "output_type": "stream",
     "text": [
      "./data/clusterdata-2011-2/task_events\\part-00131-of-00500.filtered.csv.gz\n"
     ]
    },
    {
     "name": "stderr",
     "output_type": "stream",
     "text": [
      "\r",
      " 66%|████████████████████████████████████████████████████▊                           | 132/200 [05:41<03:57,  3.49s/it]"
     ]
    },
    {
     "name": "stdout",
     "output_type": "stream",
     "text": [
      "./data/clusterdata-2011-2/task_events\\part-00132-of-00500.filtered.csv.gz\n"
     ]
    },
    {
     "name": "stderr",
     "output_type": "stream",
     "text": [
      "\r",
      " 66%|█████████████████████████████████████████████████████▏                          | 133/200 [05:45<03:57,  3.54s/it]"
     ]
    },
    {
     "name": "stdout",
     "output_type": "stream",
     "text": [
      "./data/clusterdata-2011-2/task_events\\part-00133-of-00500.filtered.csv.gz\n"
     ]
    },
    {
     "name": "stderr",
     "output_type": "stream",
     "text": [
      "\r",
      " 67%|█████████████████████████████████████████████████████▌                          | 134/200 [05:48<03:55,  3.57s/it]"
     ]
    },
    {
     "name": "stdout",
     "output_type": "stream",
     "text": [
      "./data/clusterdata-2011-2/task_events\\part-00134-of-00500.filtered.csv.gz\n"
     ]
    },
    {
     "name": "stderr",
     "output_type": "stream",
     "text": [
      "\r",
      " 68%|██████████████████████████████████████████████████████                          | 135/200 [05:52<03:52,  3.58s/it]"
     ]
    },
    {
     "name": "stdout",
     "output_type": "stream",
     "text": [
      "./data/clusterdata-2011-2/task_events\\part-00135-of-00500.filtered.csv.gz\n"
     ]
    },
    {
     "name": "stderr",
     "output_type": "stream",
     "text": [
      "\r",
      " 68%|██████████████████████████████████████████████████████▍                         | 136/200 [05:56<03:53,  3.65s/it]"
     ]
    },
    {
     "name": "stdout",
     "output_type": "stream",
     "text": [
      "./data/clusterdata-2011-2/task_events\\part-00136-of-00500.filtered.csv.gz\n"
     ]
    },
    {
     "name": "stderr",
     "output_type": "stream",
     "text": [
      "\r",
      " 68%|██████████████████████████████████████████████████████▊                         | 137/200 [06:00<03:51,  3.67s/it]"
     ]
    },
    {
     "name": "stdout",
     "output_type": "stream",
     "text": [
      "./data/clusterdata-2011-2/task_events\\part-00137-of-00500.filtered.csv.gz\n"
     ]
    },
    {
     "name": "stderr",
     "output_type": "stream",
     "text": [
      "\r",
      " 69%|███████████████████████████████████████████████████████▏                        | 138/200 [06:04<03:53,  3.76s/it]"
     ]
    },
    {
     "name": "stdout",
     "output_type": "stream",
     "text": [
      "./data/clusterdata-2011-2/task_events\\part-00138-of-00500.filtered.csv.gz\n"
     ]
    },
    {
     "name": "stderr",
     "output_type": "stream",
     "text": [
      "\r",
      " 70%|███████████████████████████████████████████████████████▌                        | 139/200 [06:07<03:47,  3.73s/it]"
     ]
    },
    {
     "name": "stdout",
     "output_type": "stream",
     "text": [
      "./data/clusterdata-2011-2/task_events\\part-00139-of-00500.filtered.csv.gz\n"
     ]
    },
    {
     "name": "stderr",
     "output_type": "stream",
     "text": [
      "\r",
      " 70%|████████████████████████████████████████████████████████                        | 140/200 [06:11<03:48,  3.81s/it]"
     ]
    },
    {
     "name": "stdout",
     "output_type": "stream",
     "text": [
      "./data/clusterdata-2011-2/task_events\\part-00140-of-00500.filtered.csv.gz\n"
     ]
    },
    {
     "name": "stderr",
     "output_type": "stream",
     "text": [
      "\r",
      " 70%|████████████████████████████████████████████████████████▍                       | 141/200 [06:15<03:45,  3.83s/it]"
     ]
    },
    {
     "name": "stdout",
     "output_type": "stream",
     "text": [
      "./data/clusterdata-2011-2/task_events\\part-00141-of-00500.filtered.csv.gz\n"
     ]
    },
    {
     "name": "stderr",
     "output_type": "stream",
     "text": [
      "\r",
      " 71%|████████████████████████████████████████████████████████▊                       | 142/200 [06:19<03:42,  3.83s/it]"
     ]
    },
    {
     "name": "stdout",
     "output_type": "stream",
     "text": [
      "./data/clusterdata-2011-2/task_events\\part-00142-of-00500.filtered.csv.gz\n"
     ]
    },
    {
     "name": "stderr",
     "output_type": "stream",
     "text": [
      "\r",
      " 72%|█████████████████████████████████████████████████████████▏                      | 143/200 [06:23<03:40,  3.87s/it]"
     ]
    },
    {
     "name": "stdout",
     "output_type": "stream",
     "text": [
      "./data/clusterdata-2011-2/task_events\\part-00143-of-00500.filtered.csv.gz\n"
     ]
    },
    {
     "name": "stderr",
     "output_type": "stream",
     "text": [
      "\r",
      " 72%|█████████████████████████████████████████████████████████▌                      | 144/200 [06:27<03:34,  3.83s/it]"
     ]
    },
    {
     "name": "stdout",
     "output_type": "stream",
     "text": [
      "./data/clusterdata-2011-2/task_events\\part-00144-of-00500.filtered.csv.gz\n"
     ]
    },
    {
     "name": "stderr",
     "output_type": "stream",
     "text": [
      "\r",
      " 72%|██████████████████████████████████████████████████████████                      | 145/200 [06:31<03:34,  3.90s/it]"
     ]
    },
    {
     "name": "stdout",
     "output_type": "stream",
     "text": [
      "./data/clusterdata-2011-2/task_events\\part-00145-of-00500.filtered.csv.gz\n"
     ]
    },
    {
     "name": "stderr",
     "output_type": "stream",
     "text": [
      "\r",
      " 73%|██████████████████████████████████████████████████████████▍                     | 146/200 [06:35<03:34,  3.96s/it]"
     ]
    },
    {
     "name": "stdout",
     "output_type": "stream",
     "text": [
      "./data/clusterdata-2011-2/task_events\\part-00146-of-00500.filtered.csv.gz\n"
     ]
    },
    {
     "name": "stderr",
     "output_type": "stream",
     "text": [
      "\r",
      " 74%|██████████████████████████████████████████████████████████▊                     | 147/200 [06:39<03:30,  3.97s/it]"
     ]
    },
    {
     "name": "stdout",
     "output_type": "stream",
     "text": [
      "./data/clusterdata-2011-2/task_events\\part-00147-of-00500.filtered.csv.gz\n"
     ]
    },
    {
     "name": "stderr",
     "output_type": "stream",
     "text": [
      "\r",
      " 74%|███████████████████████████████████████████████████████████▏                    | 148/200 [06:43<03:25,  3.95s/it]"
     ]
    },
    {
     "name": "stdout",
     "output_type": "stream",
     "text": [
      "./data/clusterdata-2011-2/task_events\\part-00148-of-00500.filtered.csv.gz\n"
     ]
    },
    {
     "name": "stderr",
     "output_type": "stream",
     "text": [
      "\r",
      " 74%|███████████████████████████████████████████████████████████▌                    | 149/200 [06:47<03:22,  3.98s/it]"
     ]
    },
    {
     "name": "stdout",
     "output_type": "stream",
     "text": [
      "./data/clusterdata-2011-2/task_events\\part-00149-of-00500.filtered.csv.gz\n"
     ]
    },
    {
     "name": "stderr",
     "output_type": "stream",
     "text": [
      "\r",
      " 75%|████████████████████████████████████████████████████████████                    | 150/200 [06:51<03:18,  3.96s/it]"
     ]
    },
    {
     "name": "stdout",
     "output_type": "stream",
     "text": [
      "./data/clusterdata-2011-2/task_events\\part-00150-of-00500.filtered.csv.gz\n"
     ]
    },
    {
     "name": "stderr",
     "output_type": "stream",
     "text": [
      "\r",
      " 76%|████████████████████████████████████████████████████████████▍                   | 151/200 [06:55<03:16,  4.01s/it]"
     ]
    },
    {
     "name": "stdout",
     "output_type": "stream",
     "text": [
      "./data/clusterdata-2011-2/task_events\\part-00151-of-00500.filtered.csv.gz\n"
     ]
    },
    {
     "name": "stderr",
     "output_type": "stream",
     "text": [
      "\r",
      " 76%|████████████████████████████████████████████████████████████▊                   | 152/200 [06:59<03:14,  4.05s/it]"
     ]
    },
    {
     "name": "stdout",
     "output_type": "stream",
     "text": [
      "./data/clusterdata-2011-2/task_events\\part-00152-of-00500.filtered.csv.gz\n"
     ]
    },
    {
     "name": "stderr",
     "output_type": "stream",
     "text": [
      "\r",
      " 76%|█████████████████████████████████████████████████████████████▏                  | 153/200 [07:03<03:09,  4.03s/it]"
     ]
    },
    {
     "name": "stdout",
     "output_type": "stream",
     "text": [
      "./data/clusterdata-2011-2/task_events\\part-00153-of-00500.filtered.csv.gz\n"
     ]
    },
    {
     "name": "stderr",
     "output_type": "stream",
     "text": [
      "\r",
      " 77%|█████████████████████████████████████████████████████████████▌                  | 154/200 [07:07<03:07,  4.07s/it]"
     ]
    },
    {
     "name": "stdout",
     "output_type": "stream",
     "text": [
      "./data/clusterdata-2011-2/task_events\\part-00154-of-00500.filtered.csv.gz\n"
     ]
    },
    {
     "name": "stderr",
     "output_type": "stream",
     "text": [
      "\r",
      " 78%|██████████████████████████████████████████████████████████████                  | 155/200 [07:12<03:07,  4.17s/it]"
     ]
    },
    {
     "name": "stdout",
     "output_type": "stream",
     "text": [
      "./data/clusterdata-2011-2/task_events\\part-00155-of-00500.filtered.csv.gz\n"
     ]
    },
    {
     "name": "stderr",
     "output_type": "stream",
     "text": [
      "\r",
      " 78%|██████████████████████████████████████████████████████████████▍                 | 156/200 [07:16<03:04,  4.20s/it]"
     ]
    },
    {
     "name": "stdout",
     "output_type": "stream",
     "text": [
      "./data/clusterdata-2011-2/task_events\\part-00156-of-00500.filtered.csv.gz\n"
     ]
    },
    {
     "name": "stderr",
     "output_type": "stream",
     "text": [
      "\r",
      " 78%|██████████████████████████████████████████████████████████████▊                 | 157/200 [07:20<03:03,  4.28s/it]"
     ]
    },
    {
     "name": "stdout",
     "output_type": "stream",
     "text": [
      "./data/clusterdata-2011-2/task_events\\part-00157-of-00500.filtered.csv.gz\n"
     ]
    },
    {
     "name": "stderr",
     "output_type": "stream",
     "text": [
      "\r",
      " 79%|███████████████████████████████████████████████████████████████▏                | 158/200 [07:25<03:01,  4.31s/it]"
     ]
    },
    {
     "name": "stdout",
     "output_type": "stream",
     "text": [
      "./data/clusterdata-2011-2/task_events\\part-00158-of-00500.filtered.csv.gz\n"
     ]
    },
    {
     "name": "stderr",
     "output_type": "stream",
     "text": [
      "\r",
      " 80%|███████████████████████████████████████████████████████████████▌                | 159/200 [07:29<02:57,  4.33s/it]"
     ]
    },
    {
     "name": "stdout",
     "output_type": "stream",
     "text": [
      "./data/clusterdata-2011-2/task_events\\part-00159-of-00500.filtered.csv.gz\n"
     ]
    },
    {
     "name": "stderr",
     "output_type": "stream",
     "text": [
      "\r",
      " 80%|████████████████████████████████████████████████████████████████                | 160/200 [07:34<03:01,  4.53s/it]"
     ]
    },
    {
     "name": "stdout",
     "output_type": "stream",
     "text": [
      "./data/clusterdata-2011-2/task_events\\part-00160-of-00500.filtered.csv.gz\n"
     ]
    },
    {
     "name": "stderr",
     "output_type": "stream",
     "text": [
      "\r",
      " 80%|████████████████████████████████████████████████████████████████▍               | 161/200 [07:41<03:27,  5.31s/it]"
     ]
    },
    {
     "name": "stdout",
     "output_type": "stream",
     "text": [
      "./data/clusterdata-2011-2/task_events\\part-00161-of-00500.filtered.csv.gz\n"
     ]
    },
    {
     "name": "stderr",
     "output_type": "stream",
     "text": [
      "\r",
      " 81%|████████████████████████████████████████████████████████████████▊               | 162/200 [07:51<04:17,  6.78s/it]"
     ]
    },
    {
     "name": "stdout",
     "output_type": "stream",
     "text": [
      "./data/clusterdata-2011-2/task_events\\part-00162-of-00500.filtered.csv.gz\n"
     ]
    },
    {
     "name": "stderr",
     "output_type": "stream",
     "text": [
      "\r",
      " 82%|█████████████████████████████████████████████████████████████████▏              | 163/200 [08:00<04:29,  7.29s/it]"
     ]
    },
    {
     "name": "stdout",
     "output_type": "stream",
     "text": [
      "./data/clusterdata-2011-2/task_events\\part-00163-of-00500.filtered.csv.gz\n"
     ]
    },
    {
     "name": "stderr",
     "output_type": "stream",
     "text": [
      "\r",
      " 82%|█████████████████████████████████████████████████████████████████▌              | 164/200 [08:06<04:13,  7.03s/it]"
     ]
    },
    {
     "name": "stdout",
     "output_type": "stream",
     "text": [
      "./data/clusterdata-2011-2/task_events\\part-00164-of-00500.filtered.csv.gz\n"
     ]
    },
    {
     "name": "stderr",
     "output_type": "stream",
     "text": [
      "\r",
      " 82%|██████████████████████████████████████████████████████████████████              | 165/200 [08:12<03:53,  6.67s/it]"
     ]
    },
    {
     "name": "stdout",
     "output_type": "stream",
     "text": [
      "./data/clusterdata-2011-2/task_events\\part-00165-of-00500.filtered.csv.gz\n"
     ]
    },
    {
     "name": "stderr",
     "output_type": "stream",
     "text": [
      "\r",
      " 83%|██████████████████████████████████████████████████████████████████▍             | 166/200 [08:18<03:37,  6.41s/it]"
     ]
    },
    {
     "name": "stdout",
     "output_type": "stream",
     "text": [
      "./data/clusterdata-2011-2/task_events\\part-00166-of-00500.filtered.csv.gz\n"
     ]
    },
    {
     "name": "stderr",
     "output_type": "stream",
     "text": [
      "\r",
      " 84%|██████████████████████████████████████████████████████████████████▊             | 167/200 [08:24<03:24,  6.19s/it]"
     ]
    },
    {
     "name": "stdout",
     "output_type": "stream",
     "text": [
      "./data/clusterdata-2011-2/task_events\\part-00167-of-00500.filtered.csv.gz\n"
     ]
    },
    {
     "name": "stderr",
     "output_type": "stream",
     "text": [
      "\r",
      " 84%|███████████████████████████████████████████████████████████████████▏            | 168/200 [08:30<03:21,  6.28s/it]"
     ]
    },
    {
     "name": "stdout",
     "output_type": "stream",
     "text": [
      "./data/clusterdata-2011-2/task_events\\part-00168-of-00500.filtered.csv.gz\n"
     ]
    },
    {
     "name": "stderr",
     "output_type": "stream",
     "text": [
      "\r",
      " 84%|███████████████████████████████████████████████████████████████████▌            | 169/200 [08:36<03:09,  6.11s/it]"
     ]
    },
    {
     "name": "stdout",
     "output_type": "stream",
     "text": [
      "./data/clusterdata-2011-2/task_events\\part-00169-of-00500.filtered.csv.gz\n"
     ]
    },
    {
     "name": "stderr",
     "output_type": "stream",
     "text": [
      "\r",
      " 85%|████████████████████████████████████████████████████████████████████            | 170/200 [08:41<02:57,  5.91s/it]"
     ]
    },
    {
     "name": "stdout",
     "output_type": "stream",
     "text": [
      "./data/clusterdata-2011-2/task_events\\part-00170-of-00500.filtered.csv.gz\n"
     ]
    },
    {
     "name": "stderr",
     "output_type": "stream",
     "text": [
      "\r",
      " 86%|████████████████████████████████████████████████████████████████████▍           | 171/200 [08:47<02:50,  5.88s/it]"
     ]
    },
    {
     "name": "stdout",
     "output_type": "stream",
     "text": [
      "./data/clusterdata-2011-2/task_events\\part-00171-of-00500.filtered.csv.gz\n"
     ]
    },
    {
     "name": "stderr",
     "output_type": "stream",
     "text": [
      "\r",
      " 86%|████████████████████████████████████████████████████████████████████▊           | 172/200 [08:54<02:51,  6.12s/it]"
     ]
    },
    {
     "name": "stdout",
     "output_type": "stream",
     "text": [
      "./data/clusterdata-2011-2/task_events\\part-00172-of-00500.filtered.csv.gz\n"
     ]
    },
    {
     "name": "stderr",
     "output_type": "stream",
     "text": [
      "\r",
      " 86%|█████████████████████████████████████████████████████████████████████▏          | 173/200 [09:00<02:46,  6.16s/it]"
     ]
    },
    {
     "name": "stdout",
     "output_type": "stream",
     "text": [
      "./data/clusterdata-2011-2/task_events\\part-00173-of-00500.filtered.csv.gz\n"
     ]
    },
    {
     "name": "stderr",
     "output_type": "stream",
     "text": [
      "\r",
      " 87%|█████████████████████████████████████████████████████████████████████▌          | 174/200 [09:06<02:41,  6.21s/it]"
     ]
    },
    {
     "name": "stdout",
     "output_type": "stream",
     "text": [
      "./data/clusterdata-2011-2/task_events\\part-00174-of-00500.filtered.csv.gz\n"
     ]
    },
    {
     "name": "stderr",
     "output_type": "stream",
     "text": [
      "\r",
      " 88%|██████████████████████████████████████████████████████████████████████          | 175/200 [09:13<02:35,  6.22s/it]"
     ]
    },
    {
     "name": "stdout",
     "output_type": "stream",
     "text": [
      "./data/clusterdata-2011-2/task_events\\part-00175-of-00500.filtered.csv.gz\n"
     ]
    },
    {
     "name": "stderr",
     "output_type": "stream",
     "text": [
      "\r",
      " 88%|██████████████████████████████████████████████████████████████████████▍         | 176/200 [09:19<02:34,  6.44s/it]"
     ]
    },
    {
     "name": "stdout",
     "output_type": "stream",
     "text": [
      "./data/clusterdata-2011-2/task_events\\part-00176-of-00500.filtered.csv.gz\n"
     ]
    },
    {
     "name": "stderr",
     "output_type": "stream",
     "text": [
      "\r",
      " 88%|██████████████████████████████████████████████████████████████████████▊         | 177/200 [09:26<02:30,  6.53s/it]"
     ]
    },
    {
     "name": "stdout",
     "output_type": "stream",
     "text": [
      "./data/clusterdata-2011-2/task_events\\part-00177-of-00500.filtered.csv.gz\n"
     ]
    },
    {
     "name": "stderr",
     "output_type": "stream",
     "text": [
      "\r",
      " 89%|███████████████████████████████████████████████████████████████████████▏        | 178/200 [09:33<02:25,  6.60s/it]"
     ]
    },
    {
     "name": "stdout",
     "output_type": "stream",
     "text": [
      "./data/clusterdata-2011-2/task_events\\part-00178-of-00500.filtered.csv.gz\n"
     ]
    },
    {
     "name": "stderr",
     "output_type": "stream",
     "text": [
      "\r",
      " 90%|███████████████████████████████████████████████████████████████████████▌        | 179/200 [09:40<02:20,  6.68s/it]"
     ]
    },
    {
     "name": "stdout",
     "output_type": "stream",
     "text": [
      "./data/clusterdata-2011-2/task_events\\part-00179-of-00500.filtered.csv.gz\n"
     ]
    },
    {
     "name": "stderr",
     "output_type": "stream",
     "text": [
      "\r",
      " 90%|████████████████████████████████████████████████████████████████████████        | 180/200 [09:46<02:10,  6.53s/it]"
     ]
    },
    {
     "name": "stdout",
     "output_type": "stream",
     "text": [
      "./data/clusterdata-2011-2/task_events\\part-00180-of-00500.filtered.csv.gz\n"
     ]
    },
    {
     "name": "stderr",
     "output_type": "stream",
     "text": [
      "\r",
      " 90%|████████████████████████████████████████████████████████████████████████▍       | 181/200 [09:52<02:02,  6.43s/it]"
     ]
    },
    {
     "name": "stdout",
     "output_type": "stream",
     "text": [
      "./data/clusterdata-2011-2/task_events\\part-00181-of-00500.filtered.csv.gz\n"
     ]
    },
    {
     "name": "stderr",
     "output_type": "stream",
     "text": [
      "\r",
      " 91%|████████████████████████████████████████████████████████████████████████▊       | 182/200 [09:59<01:55,  6.41s/it]"
     ]
    },
    {
     "name": "stdout",
     "output_type": "stream",
     "text": [
      "./data/clusterdata-2011-2/task_events\\part-00182-of-00500.filtered.csv.gz\n"
     ]
    },
    {
     "name": "stderr",
     "output_type": "stream",
     "text": [
      "\r",
      " 92%|█████████████████████████████████████████████████████████████████████████▏      | 183/200 [10:05<01:48,  6.37s/it]"
     ]
    },
    {
     "name": "stdout",
     "output_type": "stream",
     "text": [
      "./data/clusterdata-2011-2/task_events\\part-00183-of-00500.filtered.csv.gz\n"
     ]
    },
    {
     "name": "stderr",
     "output_type": "stream",
     "text": [
      "\r",
      " 92%|█████████████████████████████████████████████████████████████████████████▌      | 184/200 [10:11<01:41,  6.37s/it]"
     ]
    },
    {
     "name": "stdout",
     "output_type": "stream",
     "text": [
      "./data/clusterdata-2011-2/task_events\\part-00184-of-00500.filtered.csv.gz\n"
     ]
    },
    {
     "name": "stderr",
     "output_type": "stream",
     "text": [
      "\r",
      " 92%|██████████████████████████████████████████████████████████████████████████      | 185/200 [10:18<01:36,  6.46s/it]"
     ]
    },
    {
     "name": "stdout",
     "output_type": "stream",
     "text": [
      "./data/clusterdata-2011-2/task_events\\part-00185-of-00500.filtered.csv.gz\n"
     ]
    },
    {
     "name": "stderr",
     "output_type": "stream",
     "text": [
      "\r",
      " 93%|██████████████████████████████████████████████████████████████████████████▍     | 186/200 [10:25<01:33,  6.69s/it]"
     ]
    },
    {
     "name": "stdout",
     "output_type": "stream",
     "text": [
      "./data/clusterdata-2011-2/task_events\\part-00186-of-00500.filtered.csv.gz\n"
     ]
    },
    {
     "name": "stderr",
     "output_type": "stream",
     "text": [
      "\r",
      " 94%|██████████████████████████████████████████████████████████████████████████▊     | 187/200 [10:32<01:27,  6.76s/it]"
     ]
    },
    {
     "name": "stdout",
     "output_type": "stream",
     "text": [
      "./data/clusterdata-2011-2/task_events\\part-00187-of-00500.filtered.csv.gz\n"
     ]
    },
    {
     "name": "stderr",
     "output_type": "stream",
     "text": [
      "\r",
      " 94%|███████████████████████████████████████████████████████████████████████████▏    | 188/200 [10:38<01:19,  6.65s/it]"
     ]
    },
    {
     "name": "stdout",
     "output_type": "stream",
     "text": [
      "./data/clusterdata-2011-2/task_events\\part-00188-of-00500.filtered.csv.gz\n"
     ]
    },
    {
     "name": "stderr",
     "output_type": "stream",
     "text": [
      "\r",
      " 94%|███████████████████████████████████████████████████████████████████████████▌    | 189/200 [10:45<01:14,  6.76s/it]"
     ]
    },
    {
     "name": "stdout",
     "output_type": "stream",
     "text": [
      "./data/clusterdata-2011-2/task_events\\part-00189-of-00500.filtered.csv.gz\n"
     ]
    },
    {
     "name": "stderr",
     "output_type": "stream",
     "text": [
      "\r",
      " 95%|████████████████████████████████████████████████████████████████████████████    | 190/200 [10:52<01:07,  6.79s/it]"
     ]
    },
    {
     "name": "stdout",
     "output_type": "stream",
     "text": [
      "./data/clusterdata-2011-2/task_events\\part-00190-of-00500.filtered.csv.gz\n"
     ]
    },
    {
     "name": "stderr",
     "output_type": "stream",
     "text": [
      "\r",
      " 96%|████████████████████████████████████████████████████████████████████████████▍   | 191/200 [10:59<01:00,  6.77s/it]"
     ]
    },
    {
     "name": "stdout",
     "output_type": "stream",
     "text": [
      "./data/clusterdata-2011-2/task_events\\part-00191-of-00500.filtered.csv.gz\n"
     ]
    },
    {
     "name": "stderr",
     "output_type": "stream",
     "text": [
      "\r",
      " 96%|████████████████████████████████████████████████████████████████████████████▊   | 192/200 [11:06<00:53,  6.70s/it]"
     ]
    },
    {
     "name": "stdout",
     "output_type": "stream",
     "text": [
      "./data/clusterdata-2011-2/task_events\\part-00192-of-00500.filtered.csv.gz\n"
     ]
    },
    {
     "name": "stderr",
     "output_type": "stream",
     "text": [
      "\r",
      " 96%|█████████████████████████████████████████████████████████████████████████████▏  | 193/200 [11:12<00:46,  6.60s/it]"
     ]
    },
    {
     "name": "stdout",
     "output_type": "stream",
     "text": [
      "./data/clusterdata-2011-2/task_events\\part-00193-of-00500.filtered.csv.gz\n"
     ]
    },
    {
     "name": "stderr",
     "output_type": "stream",
     "text": [
      "\r",
      " 97%|█████████████████████████████████████████████████████████████████████████████▌  | 194/200 [11:18<00:39,  6.55s/it]"
     ]
    },
    {
     "name": "stdout",
     "output_type": "stream",
     "text": [
      "./data/clusterdata-2011-2/task_events\\part-00194-of-00500.filtered.csv.gz\n"
     ]
    },
    {
     "name": "stderr",
     "output_type": "stream",
     "text": [
      "\r",
      " 98%|██████████████████████████████████████████████████████████████████████████████  | 195/200 [11:25<00:32,  6.51s/it]"
     ]
    },
    {
     "name": "stdout",
     "output_type": "stream",
     "text": [
      "./data/clusterdata-2011-2/task_events\\part-00195-of-00500.filtered.csv.gz\n"
     ]
    },
    {
     "name": "stderr",
     "output_type": "stream",
     "text": [
      "\r",
      " 98%|██████████████████████████████████████████████████████████████████████████████▍ | 196/200 [11:31<00:26,  6.51s/it]"
     ]
    },
    {
     "name": "stdout",
     "output_type": "stream",
     "text": [
      "./data/clusterdata-2011-2/task_events\\part-00196-of-00500.filtered.csv.gz\n"
     ]
    },
    {
     "name": "stderr",
     "output_type": "stream",
     "text": [
      "\r",
      " 98%|██████████████████████████████████████████████████████████████████████████████▊ | 197/200 [11:38<00:19,  6.50s/it]"
     ]
    },
    {
     "name": "stdout",
     "output_type": "stream",
     "text": [
      "./data/clusterdata-2011-2/task_events\\part-00197-of-00500.filtered.csv.gz\n"
     ]
    },
    {
     "name": "stderr",
     "output_type": "stream",
     "text": [
      "\r",
      " 99%|███████████████████████████████████████████████████████████████████████████████▏| 198/200 [11:44<00:13,  6.53s/it]"
     ]
    },
    {
     "name": "stdout",
     "output_type": "stream",
     "text": [
      "./data/clusterdata-2011-2/task_events\\part-00198-of-00500.filtered.csv.gz\n"
     ]
    },
    {
     "name": "stderr",
     "output_type": "stream",
     "text": [
      "\r",
      "100%|███████████████████████████████████████████████████████████████████████████████▌| 199/200 [11:51<00:06,  6.54s/it]"
     ]
    },
    {
     "name": "stdout",
     "output_type": "stream",
     "text": [
      "./data/clusterdata-2011-2/task_events\\part-00199-of-00500.filtered.csv.gz\n",
      "200 files appended\n",
      "Writing the data to  ./data/clusterdata-2011-2/task_events/appended.h5\n",
      "Task Completed\n"
     ]
    }
   ],
   "source": [
    "count = 0\n",
    "final_df = pd.DataFrame()\n",
    "\n",
    "## better idea then iteration, groupby on the [task_key, event_type] and take max time_stamp\n",
    "## then separate the event==0 and event==4 \n",
    "## then join and calculate time taken\n",
    "\n",
    "for name in tqdm(glob.glob(data_dir+\"task_events/*.filtered.csv.gz\")):\n",
    "#     print(name)\n",
    "    df = pd.read_csv(name)\n",
    "        \n",
    "#     df = df.loc[df['event_type']==0]\n",
    "\n",
    "    final_df = final_df.append(df)\n",
    "    count += 1\n",
    "    if count == 200:\n",
    "        break\n",
    "    \n",
    "print (count, \"files appended\")\n",
    "\n",
    "storename = data_dir+\"task_events/\"+\"appended.h5\"\n",
    "print (\"Writing the data to \", storename)\n",
    "\n",
    "store = pd.HDFStore(storename)\n",
    "store['df'] = final_df\n",
    "store.close()\n",
    "\n",
    "print (\"Task Completed\")"
   ]
  },
  {
   "cell_type": "code",
   "execution_count": 17,
   "metadata": {},
   "outputs": [
    {
     "data": {
      "text/html": [
       "<div>\n",
       "<style scoped>\n",
       "    .dataframe tbody tr th:only-of-type {\n",
       "        vertical-align: middle;\n",
       "    }\n",
       "\n",
       "    .dataframe tbody tr th {\n",
       "        vertical-align: top;\n",
       "    }\n",
       "\n",
       "    .dataframe thead th {\n",
       "        text-align: right;\n",
       "    }\n",
       "</style>\n",
       "<table border=\"1\" class=\"dataframe\">\n",
       "  <thead>\n",
       "    <tr style=\"text-align: right;\">\n",
       "      <th></th>\n",
       "      <th>timestamp</th>\n",
       "      <th>event_type</th>\n",
       "      <th>priority</th>\n",
       "      <th>cpu_req</th>\n",
       "      <th>ram_req</th>\n",
       "      <th>space_req</th>\n",
       "      <th>diff_machine</th>\n",
       "      <th>task_key</th>\n",
       "    </tr>\n",
       "  </thead>\n",
       "  <tbody>\n",
       "    <tr>\n",
       "      <th>1165</th>\n",
       "      <td>0</td>\n",
       "      <td>0</td>\n",
       "      <td>10</td>\n",
       "      <td>0.04376</td>\n",
       "      <td>0.003975</td>\n",
       "      <td>0.000019</td>\n",
       "      <td>1.0</td>\n",
       "      <td>1005190908-4</td>\n",
       "    </tr>\n",
       "    <tr>\n",
       "      <th>145297</th>\n",
       "      <td>0</td>\n",
       "      <td>1</td>\n",
       "      <td>10</td>\n",
       "      <td>0.04376</td>\n",
       "      <td>0.003975</td>\n",
       "      <td>0.000019</td>\n",
       "      <td>1.0</td>\n",
       "      <td>1005190908-4</td>\n",
       "    </tr>\n",
       "    <tr>\n",
       "      <th>68874</th>\n",
       "      <td>354150400311</td>\n",
       "      <td>0</td>\n",
       "      <td>10</td>\n",
       "      <td>0.04376</td>\n",
       "      <td>0.003975</td>\n",
       "      <td>0.000019</td>\n",
       "      <td>1.0</td>\n",
       "      <td>1005190908-4</td>\n",
       "    </tr>\n",
       "    <tr>\n",
       "      <th>68938</th>\n",
       "      <td>354152925043</td>\n",
       "      <td>1</td>\n",
       "      <td>10</td>\n",
       "      <td>0.04376</td>\n",
       "      <td>0.003975</td>\n",
       "      <td>0.000019</td>\n",
       "      <td>1.0</td>\n",
       "      <td>1005190908-4</td>\n",
       "    </tr>\n",
       "    <tr>\n",
       "      <th>49026</th>\n",
       "      <td>693364066812</td>\n",
       "      <td>0</td>\n",
       "      <td>10</td>\n",
       "      <td>0.04376</td>\n",
       "      <td>0.003975</td>\n",
       "      <td>0.000019</td>\n",
       "      <td>1.0</td>\n",
       "      <td>1005190908-4</td>\n",
       "    </tr>\n",
       "    <tr>\n",
       "      <th>49034</th>\n",
       "      <td>693365736659</td>\n",
       "      <td>1</td>\n",
       "      <td>10</td>\n",
       "      <td>0.04376</td>\n",
       "      <td>0.003975</td>\n",
       "      <td>0.000019</td>\n",
       "      <td>1.0</td>\n",
       "      <td>1005190908-4</td>\n",
       "    </tr>\n",
       "    <tr>\n",
       "      <th>49343</th>\n",
       "      <td>703111693103</td>\n",
       "      <td>0</td>\n",
       "      <td>10</td>\n",
       "      <td>0.04376</td>\n",
       "      <td>0.003975</td>\n",
       "      <td>0.000019</td>\n",
       "      <td>1.0</td>\n",
       "      <td>1005190908-4</td>\n",
       "    </tr>\n",
       "    <tr>\n",
       "      <th>49355</th>\n",
       "      <td>703113545279</td>\n",
       "      <td>1</td>\n",
       "      <td>10</td>\n",
       "      <td>0.04376</td>\n",
       "      <td>0.003975</td>\n",
       "      <td>0.000019</td>\n",
       "      <td>1.0</td>\n",
       "      <td>1005190908-4</td>\n",
       "    </tr>\n",
       "    <tr>\n",
       "      <th>93397</th>\n",
       "      <td>824243905383</td>\n",
       "      <td>0</td>\n",
       "      <td>10</td>\n",
       "      <td>0.04376</td>\n",
       "      <td>0.003975</td>\n",
       "      <td>0.000019</td>\n",
       "      <td>1.0</td>\n",
       "      <td>1005190908-4</td>\n",
       "    </tr>\n",
       "    <tr>\n",
       "      <th>93822</th>\n",
       "      <td>824274506192</td>\n",
       "      <td>1</td>\n",
       "      <td>10</td>\n",
       "      <td>0.04376</td>\n",
       "      <td>0.003975</td>\n",
       "      <td>0.000019</td>\n",
       "      <td>1.0</td>\n",
       "      <td>1005190908-4</td>\n",
       "    </tr>\n",
       "  </tbody>\n",
       "</table>\n",
       "</div>"
      ],
      "text/plain": [
       "           timestamp  event_type  priority  cpu_req   ram_req  space_req  \\\n",
       "1165               0           0        10  0.04376  0.003975   0.000019   \n",
       "145297             0           1        10  0.04376  0.003975   0.000019   \n",
       "68874   354150400311           0        10  0.04376  0.003975   0.000019   \n",
       "68938   354152925043           1        10  0.04376  0.003975   0.000019   \n",
       "49026   693364066812           0        10  0.04376  0.003975   0.000019   \n",
       "49034   693365736659           1        10  0.04376  0.003975   0.000019   \n",
       "49343   703111693103           0        10  0.04376  0.003975   0.000019   \n",
       "49355   703113545279           1        10  0.04376  0.003975   0.000019   \n",
       "93397   824243905383           0        10  0.04376  0.003975   0.000019   \n",
       "93822   824274506192           1        10  0.04376  0.003975   0.000019   \n",
       "\n",
       "        diff_machine      task_key  \n",
       "1165             1.0  1005190908-4  \n",
       "145297           1.0  1005190908-4  \n",
       "68874            1.0  1005190908-4  \n",
       "68938            1.0  1005190908-4  \n",
       "49026            1.0  1005190908-4  \n",
       "49034            1.0  1005190908-4  \n",
       "49343            1.0  1005190908-4  \n",
       "49355            1.0  1005190908-4  \n",
       "93397            1.0  1005190908-4  \n",
       "93822            1.0  1005190908-4  "
      ]
     },
     "execution_count": 17,
     "metadata": {},
     "output_type": "execute_result"
    }
   ],
   "source": [
    "final_df[final_df[\"task_key\"] == '1005190908-4']"
   ]
  },
  {
   "cell_type": "code",
   "execution_count": 4,
   "metadata": {},
   "outputs": [],
   "source": [
    "final_df = pd.read_hdf(data_dir+\"task_events/appended.h5\")"
   ]
  },
  {
   "cell_type": "code",
   "execution_count": 5,
   "metadata": {},
   "outputs": [],
   "source": [
    "grouped_df = final_df.groupby(by=['task_key']).filter(lambda g: g['event_type'].count() == 2)"
   ]
  },
  {
   "cell_type": "code",
   "execution_count": 7,
   "metadata": {},
   "outputs": [
    {
     "data": {
      "text/plain": [
       "3082"
      ]
     },
     "execution_count": 7,
     "metadata": {},
     "output_type": "execute_result"
    }
   ],
   "source": [
    "del final_df\n",
    "gc.collect()"
   ]
  },
  {
   "cell_type": "code",
   "execution_count": 9,
   "metadata": {},
   "outputs": [],
   "source": [
    "keys = grouped_df[grouped_df['event_type']==1]['task_key']"
   ]
  },
  {
   "cell_type": "code",
   "execution_count": 10,
   "metadata": {},
   "outputs": [],
   "source": [
    "grouped_df = grouped_df[grouped_df[\"task_key\"].isin(keys)]"
   ]
  },
  {
   "cell_type": "code",
   "execution_count": 11,
   "metadata": {},
   "outputs": [],
   "source": [
    "grouped_df = grouped_df[grouped_df['timestamp'] != 0]"
   ]
  },
  {
   "cell_type": "code",
   "execution_count": 12,
   "metadata": {},
   "outputs": [
    {
     "name": "stdout",
     "output_type": "stream",
     "text": [
      "Writing the data to  ./data/clusterdata-2011-2/task_events/grouped.h5\n",
      "Task Completed\n"
     ]
    }
   ],
   "source": [
    "storename = data_dir+\"task_events/\"+\"grouped.h5\"\n",
    "print (\"Writing the data to \", storename)\n",
    "\n",
    "store = pd.HDFStore(storename)\n",
    "store['df'] = grouped_df\n",
    "store.close()\n",
    "\n",
    "print (\"Task Completed\")"
   ]
  },
  {
   "cell_type": "code",
   "execution_count": null,
   "metadata": {},
   "outputs": [],
   "source": [
    "grouped_df = pd.read_hdf(data_dir+\"task_events/grouped.h5\")"
   ]
  },
  {
   "cell_type": "code",
   "execution_count": 13,
   "metadata": {},
   "outputs": [],
   "source": [
    "submitted = grouped_df[grouped_df['event_type'] == 0]\n",
    "finished = grouped_df[grouped_df['event_type'] == 1]"
   ]
  },
  {
   "cell_type": "code",
   "execution_count": 14,
   "metadata": {},
   "outputs": [],
   "source": [
    "finished_jobs = submitted.merge(right=finished, on=['task_key'], how='inner')"
   ]
  },
  {
   "cell_type": "code",
   "execution_count": 15,
   "metadata": {},
   "outputs": [],
   "source": [
    "finished_jobs['time_taken'] = finished_jobs['timestamp_y'] - finished_jobs['timestamp_x']"
   ]
  },
  {
   "cell_type": "code",
   "execution_count": 21,
   "metadata": {},
   "outputs": [
    {
     "data": {
      "text/plain": [
       "Index(['timestamp_x', 'priority_x', 'cpu_req_x', 'ram_req_x', 'space_req_x',\n",
       "       'diff_machine_x', 'task_key', 'time_taken'],\n",
       "      dtype='object')"
      ]
     },
     "execution_count": 21,
     "metadata": {},
     "output_type": "execute_result"
    }
   ],
   "source": [
    "finished_jobs.columns"
   ]
  },
  {
   "cell_type": "code",
   "execution_count": 19,
   "metadata": {},
   "outputs": [],
   "source": [
    "finished_jobs.drop(\n",
    "    [\n",
    "        'event_type_x', 'timestamp_y', 'event_type_y', \n",
    "        'priority_y', 'cpu_req_y', 'ram_req_y', 'space_req_y', \n",
    "        'diff_machine_y'\n",
    "    ],\n",
    "    axis=1,\n",
    "    inplace=True\n",
    ")"
   ]
  },
  {
   "cell_type": "code",
   "execution_count": 20,
   "metadata": {},
   "outputs": [],
   "source": [
    "finished_jobs['time_taken'] = finished_jobs['time_taken']/1000000"
   ]
  },
  {
   "cell_type": "code",
   "execution_count": 22,
   "metadata": {},
   "outputs": [],
   "source": [
    "finished_jobs.columns = ['timestamp', 'priority', 'cpu_req', 'ram_req', 'disk_space_req', 'diff_machine', 'task_key', 'time_taken']"
   ]
  },
  {
   "cell_type": "code",
   "execution_count": 23,
   "metadata": {},
   "outputs": [],
   "source": [
    "store = pd.HDFStore('features.h5')\n",
    "store['df'] = finished_jobs\n",
    "store.close()\n"
   ]
  },
  {
   "cell_type": "code",
   "execution_count": 24,
   "metadata": {},
   "outputs": [
    {
     "data": {
      "text/plain": [
       "1563"
      ]
     },
     "execution_count": 24,
     "metadata": {},
     "output_type": "execute_result"
    }
   ],
   "source": [
    "del finished_jobs\n",
    "gc.collect()"
   ]
  },
  {
   "cell_type": "code",
   "execution_count": 27,
   "metadata": {},
   "outputs": [],
   "source": [
    "features['time_taken'] = features[\"time_taken\"]/60"
   ]
  },
  {
   "cell_type": "code",
   "execution_count": 28,
   "metadata": {},
   "outputs": [],
   "source": [
    "q3, q1 = np.percentile(features.time_taken, [75, 25])\n",
    "\n",
    "IQR = q3-q1\n",
    "\n",
    "min_time = q1 - (IQR*1.5)\n",
    "max_time = q3 + (IQR*1.5)"
   ]
  },
  {
   "cell_type": "code",
   "execution_count": 29,
   "metadata": {},
   "outputs": [],
   "source": [
    "features = features[(features[\"time_taken\"]>min_time) & (features[\"time_taken\"]<max_time)]"
   ]
  },
  {
   "cell_type": "code",
   "execution_count": 31,
   "metadata": {},
   "outputs": [
    {
     "data": {
      "text/plain": [
       "(6926993, 8)"
      ]
     },
     "execution_count": 31,
     "metadata": {},
     "output_type": "execute_result"
    }
   ],
   "source": [
    "features.shape"
   ]
  },
  {
   "cell_type": "code",
   "execution_count": 45,
   "metadata": {},
   "outputs": [
    {
     "data": {
      "text/plain": [
       "(0.12648419148414072, 6.697983896542973e-37)"
      ]
     },
     "execution_count": 45,
     "metadata": {},
     "output_type": "execute_result"
    }
   ],
   "source": [
    "pearsonr(features.loc[:10000,'priority'],features.loc[:10000,'time_taken'])"
   ]
  },
  {
   "cell_type": "markdown",
   "metadata": {},
   "source": [
    "## Since we get positive correlation and a p-value of $6.7e-37$, for an $\\alpha = 0.05$, we conclude that the correlation is significant"
   ]
  },
  {
   "cell_type": "markdown",
   "metadata": {},
   "source": [
    "## No. of constraints is positively correlated with job execution time"
   ]
  },
  {
   "cell_type": "code",
   "execution_count": 11,
   "metadata": {},
   "outputs": [],
   "source": [
    "features = pd.read_hdf('features.h5')"
   ]
  },
  {
   "cell_type": "code",
   "execution_count": 14,
   "metadata": {},
   "outputs": [],
   "source": [
    "df = pd.read_csv(data_dir+\"task_constraints/part-00000-of-00500.csv.gz\",header=None)\n",
    "df.columns = task_attr_header\n",
    "df['task_key'] = df['job_id'].astype(str) + \"-\" + df['task_index'].astype(str)\n",
    "df = df[['task_key','attr_name', 'attr_val', 'comparison']]"
   ]
  },
  {
   "cell_type": "code",
   "execution_count": 16,
   "metadata": {},
   "outputs": [
    {
     "name": "stderr",
     "output_type": "stream",
     "text": [
      "100%|████████████████████████████████████████████████████████████████████████████████| 499/499 [21:38<00:00,  4.96s/it]\n"
     ]
    }
   ],
   "source": [
    "for i in tqdm(range(1,500)):\n",
    "    temp = pd.read_csv(data_dir + \"task_constraints/part-%05d-of-00500.csv.gz\" % i,header=None)\n",
    "    temp.columns = task_attr_header\n",
    "    temp['task_key'] = temp['job_id'].astype(str) + \"-\" + temp['task_index'].astype(str)\n",
    "    temp = temp[['task_key','attr_name', 'attr_val', 'comparison']]\n",
    "    df = pd.concat([df,temp])"
   ]
  },
  {
   "cell_type": "code",
   "execution_count": 32,
   "metadata": {},
   "outputs": [
    {
     "name": "stderr",
     "output_type": "stream",
     "text": [
      "C:\\Users\\faizaan09\\Anaconda3\\lib\\site-packages\\IPython\\core\\interactiveshell.py:2910: PerformanceWarning: \n",
      "your performance may suffer as PyTables will pickle object types that it cannot\n",
      "map directly to c-types [inferred_type->mixed,key->block1_values] [items->['task_key', 'attr_val', 'comparison']]\n",
      "\n",
      "  exec(code_obj, self.user_global_ns, self.user_ns)\n"
     ]
    }
   ],
   "source": [
    "store = pd.HDFStore('last.h5')\n",
    "store['df'] = df\n",
    "store.close()\n"
   ]
  },
  {
   "cell_type": "code",
   "execution_count": null,
   "metadata": {},
   "outputs": [],
   "source": [
    "df = pd.read_hdf('last.h5')"
   ]
  },
  {
   "cell_type": "code",
   "execution_count": 34,
   "metadata": {},
   "outputs": [],
   "source": [
    "df = df[['task_key','attr_val']]"
   ]
  },
  {
   "cell_type": "code",
   "execution_count": 37,
   "metadata": {},
   "outputs": [],
   "source": [
    "temp = df.groupby('task_key').agg('count')\n",
    "temp.reset_index(inplace=True)"
   ]
  },
  {
   "cell_type": "code",
   "execution_count": 38,
   "metadata": {},
   "outputs": [
    {
     "data": {
      "text/html": [
       "<div>\n",
       "<style scoped>\n",
       "    .dataframe tbody tr th:only-of-type {\n",
       "        vertical-align: middle;\n",
       "    }\n",
       "\n",
       "    .dataframe tbody tr th {\n",
       "        vertical-align: top;\n",
       "    }\n",
       "\n",
       "    .dataframe thead th {\n",
       "        text-align: right;\n",
       "    }\n",
       "</style>\n",
       "<table border=\"1\" class=\"dataframe\">\n",
       "  <thead>\n",
       "    <tr style=\"text-align: right;\">\n",
       "      <th></th>\n",
       "      <th>task_key</th>\n",
       "      <th>attr_val</th>\n",
       "    </tr>\n",
       "  </thead>\n",
       "  <tbody>\n",
       "    <tr>\n",
       "      <th>0</th>\n",
       "      <td>1005190908-0</td>\n",
       "      <td>17</td>\n",
       "    </tr>\n",
       "    <tr>\n",
       "      <th>1</th>\n",
       "      <td>1005190908-1</td>\n",
       "      <td>17</td>\n",
       "    </tr>\n",
       "    <tr>\n",
       "      <th>2</th>\n",
       "      <td>1005190908-2</td>\n",
       "      <td>20</td>\n",
       "    </tr>\n",
       "    <tr>\n",
       "      <th>3</th>\n",
       "      <td>1005190908-3</td>\n",
       "      <td>17</td>\n",
       "    </tr>\n",
       "    <tr>\n",
       "      <th>4</th>\n",
       "      <td>1005190908-4</td>\n",
       "      <td>23</td>\n",
       "    </tr>\n",
       "  </tbody>\n",
       "</table>\n",
       "</div>"
      ],
      "text/plain": [
       "       task_key  attr_val\n",
       "0  1005190908-0        17\n",
       "1  1005190908-1        17\n",
       "2  1005190908-2        20\n",
       "3  1005190908-3        17\n",
       "4  1005190908-4        23"
      ]
     },
     "execution_count": 38,
     "metadata": {},
     "output_type": "execute_result"
    }
   ],
   "source": [
    "temp.head()"
   ]
  },
  {
   "cell_type": "code",
   "execution_count": 39,
   "metadata": {},
   "outputs": [
    {
     "data": {
      "text/html": [
       "<div>\n",
       "<style scoped>\n",
       "    .dataframe tbody tr th:only-of-type {\n",
       "        vertical-align: middle;\n",
       "    }\n",
       "\n",
       "    .dataframe tbody tr th {\n",
       "        vertical-align: top;\n",
       "    }\n",
       "\n",
       "    .dataframe thead th {\n",
       "        text-align: right;\n",
       "    }\n",
       "</style>\n",
       "<table border=\"1\" class=\"dataframe\">\n",
       "  <thead>\n",
       "    <tr style=\"text-align: right;\">\n",
       "      <th></th>\n",
       "      <th>timestamp</th>\n",
       "      <th>priority</th>\n",
       "      <th>cpu_req</th>\n",
       "      <th>ram_req</th>\n",
       "      <th>disk_space_req</th>\n",
       "      <th>different_machine</th>\n",
       "      <th>task_key</th>\n",
       "      <th>time_taken</th>\n",
       "    </tr>\n",
       "  </thead>\n",
       "  <tbody>\n",
       "    <tr>\n",
       "      <th>0</th>\n",
       "      <td>604046280</td>\n",
       "      <td>9</td>\n",
       "      <td>0.062500</td>\n",
       "      <td>0.015900</td>\n",
       "      <td>3.815000e-06</td>\n",
       "      <td>0.0</td>\n",
       "      <td>6251639646-0</td>\n",
       "      <td>71.205425</td>\n",
       "    </tr>\n",
       "    <tr>\n",
       "      <th>1</th>\n",
       "      <td>612141654</td>\n",
       "      <td>0</td>\n",
       "      <td>0.062500</td>\n",
       "      <td>0.004662</td>\n",
       "      <td>7.629000e-06</td>\n",
       "      <td>0.0</td>\n",
       "      <td>6251668759-0</td>\n",
       "      <td>50.124820</td>\n",
       "    </tr>\n",
       "    <tr>\n",
       "      <th>2</th>\n",
       "      <td>617115446</td>\n",
       "      <td>1</td>\n",
       "      <td>0.031250</td>\n",
       "      <td>0.015900</td>\n",
       "      <td>3.815000e-05</td>\n",
       "      <td>0.0</td>\n",
       "      <td>6251668917-0</td>\n",
       "      <td>36.169218</td>\n",
       "    </tr>\n",
       "    <tr>\n",
       "      <th>3</th>\n",
       "      <td>619396393</td>\n",
       "      <td>2</td>\n",
       "      <td>0.006248</td>\n",
       "      <td>0.001554</td>\n",
       "      <td>9.537000e-07</td>\n",
       "      <td>0.0</td>\n",
       "      <td>6251668761-0</td>\n",
       "      <td>29.633532</td>\n",
       "    </tr>\n",
       "    <tr>\n",
       "      <th>4</th>\n",
       "      <td>633214031</td>\n",
       "      <td>2</td>\n",
       "      <td>0.006248</td>\n",
       "      <td>0.003109</td>\n",
       "      <td>9.537000e-06</td>\n",
       "      <td>0.0</td>\n",
       "      <td>6251668915-0</td>\n",
       "      <td>54.648233</td>\n",
       "    </tr>\n",
       "  </tbody>\n",
       "</table>\n",
       "</div>"
      ],
      "text/plain": [
       "   timestamp  priority   cpu_req   ram_req  disk_space_req  different_machine  \\\n",
       "0  604046280         9  0.062500  0.015900    3.815000e-06                0.0   \n",
       "1  612141654         0  0.062500  0.004662    7.629000e-06                0.0   \n",
       "2  617115446         1  0.031250  0.015900    3.815000e-05                0.0   \n",
       "3  619396393         2  0.006248  0.001554    9.537000e-07                0.0   \n",
       "4  633214031         2  0.006248  0.003109    9.537000e-06                0.0   \n",
       "\n",
       "       task_key  time_taken  \n",
       "0  6251639646-0   71.205425  \n",
       "1  6251668759-0   50.124820  \n",
       "2  6251668917-0   36.169218  \n",
       "3  6251668761-0   29.633532  \n",
       "4  6251668915-0   54.648233  "
      ]
     },
     "execution_count": 39,
     "metadata": {},
     "output_type": "execute_result"
    }
   ],
   "source": [
    "features.head()"
   ]
  },
  {
   "cell_type": "code",
   "execution_count": 42,
   "metadata": {},
   "outputs": [],
   "source": [
    "merged = pd.merge(temp,features,on='task_key')"
   ]
  },
  {
   "cell_type": "code",
   "execution_count": 44,
   "metadata": {},
   "outputs": [
    {
     "data": {
      "text/html": [
       "<div>\n",
       "<style scoped>\n",
       "    .dataframe tbody tr th:only-of-type {\n",
       "        vertical-align: middle;\n",
       "    }\n",
       "\n",
       "    .dataframe tbody tr th {\n",
       "        vertical-align: top;\n",
       "    }\n",
       "\n",
       "    .dataframe thead th {\n",
       "        text-align: right;\n",
       "    }\n",
       "</style>\n",
       "<table border=\"1\" class=\"dataframe\">\n",
       "  <thead>\n",
       "    <tr style=\"text-align: right;\">\n",
       "      <th></th>\n",
       "      <th>task_key</th>\n",
       "      <th>attr_val</th>\n",
       "      <th>timestamp</th>\n",
       "      <th>priority</th>\n",
       "      <th>cpu_req</th>\n",
       "      <th>ram_req</th>\n",
       "      <th>disk_space_req</th>\n",
       "      <th>different_machine</th>\n",
       "      <th>time_taken</th>\n",
       "    </tr>\n",
       "  </thead>\n",
       "  <tbody>\n",
       "    <tr>\n",
       "      <th>0</th>\n",
       "      <td>6251632096-0</td>\n",
       "      <td>3</td>\n",
       "      <td>13566340509</td>\n",
       "      <td>9</td>\n",
       "      <td>0.000625</td>\n",
       "      <td>0.004662</td>\n",
       "      <td>1.907000e-05</td>\n",
       "      <td>0.0</td>\n",
       "      <td>11485.593187</td>\n",
       "    </tr>\n",
       "    <tr>\n",
       "      <th>1</th>\n",
       "      <td>6251660967-0</td>\n",
       "      <td>3</td>\n",
       "      <td>13948667869</td>\n",
       "      <td>2</td>\n",
       "      <td>0.062500</td>\n",
       "      <td>0.015900</td>\n",
       "      <td>1.154000e-04</td>\n",
       "      <td>0.0</td>\n",
       "      <td>20227.707711</td>\n",
       "    </tr>\n",
       "    <tr>\n",
       "      <th>2</th>\n",
       "      <td>6251668761-0</td>\n",
       "      <td>3</td>\n",
       "      <td>619396393</td>\n",
       "      <td>2</td>\n",
       "      <td>0.006248</td>\n",
       "      <td>0.001554</td>\n",
       "      <td>9.537000e-07</td>\n",
       "      <td>0.0</td>\n",
       "      <td>29.633532</td>\n",
       "    </tr>\n",
       "    <tr>\n",
       "      <th>3</th>\n",
       "      <td>6251668915-0</td>\n",
       "      <td>3</td>\n",
       "      <td>633214031</td>\n",
       "      <td>2</td>\n",
       "      <td>0.006248</td>\n",
       "      <td>0.003109</td>\n",
       "      <td>9.537000e-06</td>\n",
       "      <td>0.0</td>\n",
       "      <td>54.648233</td>\n",
       "    </tr>\n",
       "    <tr>\n",
       "      <th>4</th>\n",
       "      <td>6251669132-0</td>\n",
       "      <td>3</td>\n",
       "      <td>633230954</td>\n",
       "      <td>2</td>\n",
       "      <td>0.031250</td>\n",
       "      <td>0.011250</td>\n",
       "      <td>7.629000e-06</td>\n",
       "      <td>0.0</td>\n",
       "      <td>35.345963</td>\n",
       "    </tr>\n",
       "  </tbody>\n",
       "</table>\n",
       "</div>"
      ],
      "text/plain": [
       "       task_key  attr_val    timestamp  priority   cpu_req   ram_req  \\\n",
       "0  6251632096-0         3  13566340509         9  0.000625  0.004662   \n",
       "1  6251660967-0         3  13948667869         2  0.062500  0.015900   \n",
       "2  6251668761-0         3    619396393         2  0.006248  0.001554   \n",
       "3  6251668915-0         3    633214031         2  0.006248  0.003109   \n",
       "4  6251669132-0         3    633230954         2  0.031250  0.011250   \n",
       "\n",
       "   disk_space_req  different_machine    time_taken  \n",
       "0    1.907000e-05                0.0  11485.593187  \n",
       "1    1.154000e-04                0.0  20227.707711  \n",
       "2    9.537000e-07                0.0     29.633532  \n",
       "3    9.537000e-06                0.0     54.648233  \n",
       "4    7.629000e-06                0.0     35.345963  "
      ]
     },
     "execution_count": 44,
     "metadata": {},
     "output_type": "execute_result"
    }
   ],
   "source": [
    "merged.head()"
   ]
  },
  {
   "cell_type": "code",
   "execution_count": 46,
   "metadata": {},
   "outputs": [
    {
     "data": {
      "text/plain": [
       "(257939, 9)"
      ]
     },
     "execution_count": 46,
     "metadata": {},
     "output_type": "execute_result"
    }
   ],
   "source": [
    "merged.shape"
   ]
  },
  {
   "cell_type": "code",
   "execution_count": 49,
   "metadata": {},
   "outputs": [
    {
     "data": {
      "text/plain": [
       "(257939, 3)"
      ]
     },
     "execution_count": 49,
     "metadata": {},
     "output_type": "execute_result"
    }
   ],
   "source": [
    "merged = merged[['task_key','attr_val','time_taken']]\n",
    "merged.dropna(inplace=True)\n",
    "merged.shape"
   ]
  },
  {
   "cell_type": "code",
   "execution_count": 62,
   "metadata": {},
   "outputs": [
    {
     "data": {
      "text/plain": [
       "(0.052646977425951334, 1.034319389113024e-157)"
      ]
     },
     "execution_count": 62,
     "metadata": {},
     "output_type": "execute_result"
    }
   ],
   "source": [
    "pearsonr(merged.loc[:,'attr_val'],merged.loc[:,'time_taken']/60)"
   ]
  }
 ],
 "metadata": {
  "kernelspec": {
   "name": "pycharm-f30bcb0d",
   "language": "python",
   "display_name": "PyCharm (google-trace-analysis)"
  },
  "language_info": {
   "codemirror_mode": {
    "name": "ipython",
    "version": 3
   },
   "file_extension": ".py",
   "mimetype": "text/x-python",
   "name": "python",
   "nbconvert_exporter": "python",
   "pygments_lexer": "ipython3",
   "version": "3.6.4"
  }
 },
 "nbformat": 4,
 "nbformat_minor": 2
}