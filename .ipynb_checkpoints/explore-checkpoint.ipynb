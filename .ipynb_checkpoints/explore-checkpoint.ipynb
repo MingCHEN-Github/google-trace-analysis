{
 "cells": [
  {
   "cell_type": "code",
   "execution_count": 1,
   "metadata": {},
   "outputs": [
    {
     "name": "stderr",
     "output_type": "stream",
     "text": [
      "C:\\Users\\faizaan09\\Anaconda3\\lib\\site-packages\\h5py\\__init__.py:36: FutureWarning: Conversion of the second argument of issubdtype from `float` to `np.floating` is deprecated. In future, it will be treated as `np.float64 == np.dtype(float).type`.\n",
      "  from ._conv import register_converters as _register_converters\n"
     ]
    }
   ],
   "source": [
    "import pandas as pd\n",
    "import numpy as np\n",
    "import os\n",
    "import pickle as pkl\n",
    "import h5py\n",
    "from tqdm import tqdm\n",
    "import sys\n",
    "from scipy.stats import ttest_1samp"
   ]
  },
  {
   "cell_type": "code",
   "execution_count": 2,
   "metadata": {},
   "outputs": [],
   "source": [
    "data_dir = \"./data/clusterdata-2011-2/\"\n",
    "\n",
    "task_events_header = ['timestamp','missing_info', 'job_id','task_index','machine_id','event_type',\n",
    "                      'user_name','sched_class','priority','cpu_req','ram_req','space_req','diff_machine']\n",
    "\n",
    "machine_events_header = ['timestamp','machine_id','event_type','platform_id','cpu_cap','mem_cap']\n",
    "\n",
    "task_usage_header = ['start_time','end_time','job_id','task_index','machine_id', 'mean_cpu_usage',\n",
    "                     'canon_memory_usage', 'assign_memory_usage', 'unmapped_cache', 'total_cache', \n",
    "                     'max_mem', 'mean_io', 'mean_space', 'max_cpu', 'max_io', 'cpi', 'mai', 'sample',\n",
    "                     'agg_type', 'sample_cpu_usage']"
   ]
  },
  {
   "cell_type": "markdown",
   "metadata": {},
   "source": [
    "# Machines that are removed from the cluster their load is 1.5 times their mean resource usage."
   ]
  },
  {
   "cell_type": "markdown",
   "metadata": {},
   "source": [
    "### Create list of machines that crashed"
   ]
  },
  {
   "cell_type": "code",
   "execution_count": 20,
   "metadata": {},
   "outputs": [],
   "source": [
    "df = pd.read_csv(data_dir + \"machine_events/part-00000-of-00001.csv.gz\",header=None)\n",
    "df.columns = machine_events_header\n",
    "crash_machines = df[df['event_type'] == 1]['machine_id']\n",
    "\n",
    "\n",
    "crash_machines = np.unique(crash_machines)\n",
    "hf = h5py.File('./data/machines_that_crash.h5','w')\n",
    "hf.create_dataset('ids', data= crash_machines.astype(np.int64))\n",
    "hf.close()"
   ]
  },
  {
   "cell_type": "code",
   "execution_count": 3,
   "metadata": {},
   "outputs": [
    {
     "data": {
      "text/plain": [
       "0"
      ]
     },
     "execution_count": 3,
     "metadata": {},
     "output_type": "execute_result"
    }
   ],
   "source": [
    "hf = h5py.File('./data/machines_that_crash.h5','r')\n",
    "crash_machines = np.array(hf['ids'])\n",
    "hf.close()\n",
    "\n",
    "# hf = h5py.File('./data/time_stamps.h5','r')\n",
    "# ts = np.array(hf.get('time'))\n",
    "# hf.close()\n",
    "\n",
    "# start_time = ts[0]\n",
    "# end_time = ts[1]\n",
    "\n",
    "# cols = range(start_time,end_time)\n",
    "\n",
    "import gc\n",
    "gc.collect()"
   ]
  },
  {
   "cell_type": "code",
   "execution_count": 4,
   "metadata": {},
   "outputs": [
    {
     "data": {
      "text/plain": [
       "array([         5,         10,         13, ..., 6289704471, 6437385645,\n",
       "       6453653899], dtype=int64)"
      ]
     },
     "execution_count": 4,
     "metadata": {},
     "output_type": "execute_result"
    }
   ],
   "source": [
    "crash_machines"
   ]
  },
  {
   "cell_type": "markdown",
   "metadata": {},
   "source": [
    "## Calculate mean CPU usage for machines throughout the trace"
   ]
  },
  {
   "cell_type": "code",
   "execution_count": 5,
   "metadata": {
    "scrolled": true
   },
   "outputs": [],
   "source": [
    "cols = ['total_usage','measure_count']\n",
    "mean_machine_usage = pd.DataFrame(index=crash_machines,columns=cols)\n",
    "mean_machine_usage.fillna(0,inplace=True)"
   ]
  },
  {
   "cell_type": "code",
   "execution_count": 94,
   "metadata": {
    "scrolled": true
   },
   "outputs": [],
   "source": [
    "for i in tqdm(range(500)):\n",
    "    df = pd.read_csv(data_dir + \"task_usage/part-%05d-of-00500.csv.gz\" % i,header=None)\n",
    "    df.columns = task_usage_header\n",
    "    df = df[['start_time','machine_id','mean_cpu_usage']]\n",
    "    df = df[df['machine_id'].isin(crash_machines)].groupby(['machine_id', 'start_time']).agg('sum')\n",
    "    df.reset_index(level='start_time',inplace=True)\n",
    "    df = df.groupby('machine_id').agg(['sum','count'])['mean_cpu_usage']\n",
    "    \n",
    "    mean_machine_usage['total_usage'] += df['sum']\n",
    "    mean_machine_usage['measure_count'] += df['count']"
   ]
  },
  {
   "cell_type": "code",
   "execution_count": 214,
   "metadata": {},
   "outputs": [],
   "source": [
    "mean_machine_usage.dropna(axis=0,how='all',inplace=True,thresh=2)\n",
    "mean_machine_usage['mean'] = mean_machine_usage['total_usage']/mean_machine_usage['measure_count']\n",
    "mean_machine_usage.to_csv('./data/mean_machine_usage.csv')"
   ]
  },
  {
   "cell_type": "markdown",
   "metadata": {},
   "source": [
    "## Calculate CPU usage of machines in time periods when they crashed"
   ]
  },
  {
   "cell_type": "code",
   "execution_count": 159,
   "metadata": {},
   "outputs": [],
   "source": [
    "crash_usage = pd.read_csv(data_dir + \"machine_events/part-00000-of-00001.csv.gz\",header=None)\n",
    "crash_usage.columns = machine_events_header\n",
    "crash_usage['mean_cpu_usage'] = 0\n",
    "crash_usage = crash_usage[crash_usage['event_type'] ==1]"
   ]
  },
  {
   "cell_type": "code",
   "execution_count": 160,
   "metadata": {
    "scrolled": true
   },
   "outputs": [
    {
     "name": "stderr",
     "output_type": "stream",
     "text": [
      "100%|████████████████████████████████████████████████████████████████████████████| 8957/8957 [1:14:30<00:00,  2.00it/s]\n"
     ]
    }
   ],
   "source": [
    "f = 0\n",
    "data = pd.read_csv(data_dir + \"task_usage/part-%05d-of-00500.csv.gz\" % f,header=None)\n",
    "data.columns = task_usage_header\n",
    "f+=1\n",
    "for ind in tqdm(crash_usage.index):\n",
    "    row = crash_usage.loc[ind]\n",
    "    while f < 500 and data[(data['end_time'] >= row['timestamp']) & (data['start_time'] <= row['timestamp'])].empty:\n",
    "        \n",
    "        data = pd.read_csv(data_dir + \"task_usage/part-%05d-of-00500.csv.gz\" % f,header=None)\n",
    "        data.columns = task_usage_header\n",
    "        f+=1\n",
    "    data\n",
    "    temp = data[(data['end_time'] >= row['timestamp']) & (data['start_time'] <= row['timestamp'])]\n",
    "    crash_usage.loc[ind,'mean_cpu_usage'] = temp[temp['machine_id'] == row['machine_id']].sum()['mean_cpu_usage']\n"
   ]
  },
  {
   "cell_type": "code",
   "execution_count": 189,
   "metadata": {
    "scrolled": true
   },
   "outputs": [],
   "source": [
    "crash_usage = crash_usage[crash_usage['mean_cpu_usage'] != 0]\n",
    "crash_usage.reset_index(drop=True,inplace=True)\n",
    "crash_usage = crash_usage[['timestamp','machine_id','mean_cpu_usage']]\n",
    "crash_usage.to_csv('./data/crash_stats.csv')"
   ]
  },
  {
   "cell_type": "markdown",
   "metadata": {},
   "source": [
    "## After Data generation and preprocessing"
   ]
  },
  {
   "cell_type": "code",
   "execution_count": 3,
   "metadata": {},
   "outputs": [],
   "source": [
    "mean_machine_usage = pd.read_csv('./data/mean_machine_usage.csv',index_col=0)\n",
    "mean_machine_usage.drop(['total_usage','measure_count'],axis=1,inplace=True)\n",
    "\n",
    "crash_usage = pd.read_csv('./data/crash_stats.csv',index_col=0)\n",
    "crash_usage.drop(['timestamp'],axis=1,inplace=True)\n",
    "\n",
    "mean_machine_usage.rename(columns={'mean':'mean_normal_usage'},inplace=True)\n",
    "crash_usage.rename(columns={'mean_cpu_usage':'usage_when_crashed'},inplace=True)"
   ]
  },
  {
   "cell_type": "code",
   "execution_count": 4,
   "metadata": {},
   "outputs": [
    {
     "data": {
      "text/html": [
       "<div>\n",
       "<style scoped>\n",
       "    .dataframe tbody tr th:only-of-type {\n",
       "        vertical-align: middle;\n",
       "    }\n",
       "\n",
       "    .dataframe tbody tr th {\n",
       "        vertical-align: top;\n",
       "    }\n",
       "\n",
       "    .dataframe thead th {\n",
       "        text-align: right;\n",
       "    }\n",
       "</style>\n",
       "<table border=\"1\" class=\"dataframe\">\n",
       "  <thead>\n",
       "    <tr style=\"text-align: right;\">\n",
       "      <th></th>\n",
       "      <th>machine_id</th>\n",
       "      <th>mean_normal_usage</th>\n",
       "    </tr>\n",
       "  </thead>\n",
       "  <tbody>\n",
       "    <tr>\n",
       "      <th>0</th>\n",
       "      <td>5</td>\n",
       "      <td>0.078498</td>\n",
       "    </tr>\n",
       "    <tr>\n",
       "      <th>1</th>\n",
       "      <td>10</td>\n",
       "      <td>0.123686</td>\n",
       "    </tr>\n",
       "    <tr>\n",
       "      <th>2</th>\n",
       "      <td>13</td>\n",
       "      <td>0.063506</td>\n",
       "    </tr>\n",
       "    <tr>\n",
       "      <th>3</th>\n",
       "      <td>23</td>\n",
       "      <td>0.084790</td>\n",
       "    </tr>\n",
       "    <tr>\n",
       "      <th>5</th>\n",
       "      <td>28</td>\n",
       "      <td>0.119474</td>\n",
       "    </tr>\n",
       "  </tbody>\n",
       "</table>\n",
       "</div>"
      ],
      "text/plain": [
       "   machine_id  mean_normal_usage\n",
       "0           5           0.078498\n",
       "1          10           0.123686\n",
       "2          13           0.063506\n",
       "3          23           0.084790\n",
       "5          28           0.119474"
      ]
     },
     "execution_count": 4,
     "metadata": {},
     "output_type": "execute_result"
    }
   ],
   "source": [
    "mean_machine_usage.head()"
   ]
  },
  {
   "cell_type": "code",
   "execution_count": 5,
   "metadata": {
    "scrolled": true
   },
   "outputs": [
    {
     "data": {
      "text/html": [
       "<div>\n",
       "<style scoped>\n",
       "    .dataframe tbody tr th:only-of-type {\n",
       "        vertical-align: middle;\n",
       "    }\n",
       "\n",
       "    .dataframe tbody tr th {\n",
       "        vertical-align: top;\n",
       "    }\n",
       "\n",
       "    .dataframe thead th {\n",
       "        text-align: right;\n",
       "    }\n",
       "</style>\n",
       "<table border=\"1\" class=\"dataframe\">\n",
       "  <thead>\n",
       "    <tr style=\"text-align: right;\">\n",
       "      <th></th>\n",
       "      <th>machine_id</th>\n",
       "      <th>usage_when_crashed</th>\n",
       "    </tr>\n",
       "  </thead>\n",
       "  <tbody>\n",
       "    <tr>\n",
       "      <th>0</th>\n",
       "      <td>317808289</td>\n",
       "      <td>0.134664</td>\n",
       "    </tr>\n",
       "    <tr>\n",
       "      <th>1</th>\n",
       "      <td>1338945</td>\n",
       "      <td>0.037087</td>\n",
       "    </tr>\n",
       "    <tr>\n",
       "      <th>2</th>\n",
       "      <td>317486724</td>\n",
       "      <td>0.094489</td>\n",
       "    </tr>\n",
       "    <tr>\n",
       "      <th>3</th>\n",
       "      <td>4820183646</td>\n",
       "      <td>0.057566</td>\n",
       "    </tr>\n",
       "    <tr>\n",
       "      <th>4</th>\n",
       "      <td>155314177</td>\n",
       "      <td>0.038722</td>\n",
       "    </tr>\n",
       "  </tbody>\n",
       "</table>\n",
       "</div>"
      ],
      "text/plain": [
       "   machine_id  usage_when_crashed\n",
       "0   317808289            0.134664\n",
       "1     1338945            0.037087\n",
       "2   317486724            0.094489\n",
       "3  4820183646            0.057566\n",
       "4   155314177            0.038722"
      ]
     },
     "execution_count": 5,
     "metadata": {},
     "output_type": "execute_result"
    }
   ],
   "source": [
    "crash_usage.head()"
   ]
  },
  {
   "cell_type": "code",
   "execution_count": 6,
   "metadata": {},
   "outputs": [
    {
     "data": {
      "text/html": [
       "<div>\n",
       "<style scoped>\n",
       "    .dataframe tbody tr th:only-of-type {\n",
       "        vertical-align: middle;\n",
       "    }\n",
       "\n",
       "    .dataframe tbody tr th {\n",
       "        vertical-align: top;\n",
       "    }\n",
       "\n",
       "    .dataframe thead th {\n",
       "        text-align: right;\n",
       "    }\n",
       "</style>\n",
       "<table border=\"1\" class=\"dataframe\">\n",
       "  <thead>\n",
       "    <tr style=\"text-align: right;\">\n",
       "      <th></th>\n",
       "      <th>machine_id</th>\n",
       "      <th>usage_when_crashed</th>\n",
       "      <th>mean_normal_usage</th>\n",
       "    </tr>\n",
       "  </thead>\n",
       "  <tbody>\n",
       "    <tr>\n",
       "      <th>0</th>\n",
       "      <td>317808289</td>\n",
       "      <td>0.134664</td>\n",
       "      <td>0.091113</td>\n",
       "    </tr>\n",
       "    <tr>\n",
       "      <th>1</th>\n",
       "      <td>317486724</td>\n",
       "      <td>0.094489</td>\n",
       "      <td>0.110986</td>\n",
       "    </tr>\n",
       "    <tr>\n",
       "      <th>2</th>\n",
       "      <td>1273853</td>\n",
       "      <td>0.097454</td>\n",
       "      <td>0.070854</td>\n",
       "    </tr>\n",
       "    <tr>\n",
       "      <th>3</th>\n",
       "      <td>2596362793</td>\n",
       "      <td>0.000885</td>\n",
       "      <td>0.096335</td>\n",
       "    </tr>\n",
       "    <tr>\n",
       "      <th>4</th>\n",
       "      <td>1436297839</td>\n",
       "      <td>0.005465</td>\n",
       "      <td>0.123303</td>\n",
       "    </tr>\n",
       "  </tbody>\n",
       "</table>\n",
       "</div>"
      ],
      "text/plain": [
       "   machine_id  usage_when_crashed  mean_normal_usage\n",
       "0   317808289            0.134664           0.091113\n",
       "1   317486724            0.094489           0.110986\n",
       "2     1273853            0.097454           0.070854\n",
       "3  2596362793            0.000885           0.096335\n",
       "4  1436297839            0.005465           0.123303"
      ]
     },
     "execution_count": 6,
     "metadata": {},
     "output_type": "execute_result"
    }
   ],
   "source": [
    "final = pd.merge(crash_usage,mean_machine_usage,on='machine_id')\n",
    "final.head()"
   ]
  },
  {
   "cell_type": "code",
   "execution_count": 8,
   "metadata": {
    "scrolled": true
   },
   "outputs": [],
   "source": [
    "usage_mean = final['mean_normal_usage'].mean()"
   ]
  },
  {
   "cell_type": "markdown",
   "metadata": {},
   "source": [
    "## T-test\n",
    "**df** = 1000\n",
    "\n",
    "**alpha** = 0.05\n",
    "\n",
    "**t_crit** = 1.962"
   ]
  },
  {
   "cell_type": "code",
   "execution_count": 14,
   "metadata": {},
   "outputs": [
    {
     "data": {
      "text/plain": [
       "Ttest_1sampResult(statistic=1.4535882237988955, pvalue=0.14637425012095806)"
      ]
     },
     "execution_count": 14,
     "metadata": {},
     "output_type": "execute_result"
    }
   ],
   "source": [
    "ttest_1samp(final.loc[:1000,'usage_when_crashed'],usage_mean*1.5)"
   ]
  },
  {
   "cell_type": "markdown",
   "metadata": {},
   "source": [
    "For 1000 samples we get T = 1.45 <br>\n",
    "T <= 1.962 <br>\n",
    "$\\therefore$ We accept the hypothesis"
   ]
  }
 ],
 "metadata": {
  "kernelspec": {
   "display_name": "Python 3",
   "language": "python",
   "name": "python3"
  },
  "language_info": {
   "codemirror_mode": {
    "name": "ipython",
    "version": 3
   },
   "file_extension": ".py",
   "mimetype": "text/x-python",
   "name": "python",
   "nbconvert_exporter": "python",
   "pygments_lexer": "ipython3",
   "version": "3.6.4"
  }
 },
 "nbformat": 4,
 "nbformat_minor": 2
}
